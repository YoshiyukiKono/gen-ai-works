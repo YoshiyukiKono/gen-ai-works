{
  "cells": [
    {
      "cell_type": "markdown",
      "metadata": {
        "id": "view-in-github",
        "colab_type": "text"
      },
      "source": [
        "<a href=\"https://colab.research.google.com/github/YoshiyukiKono/gen_ai-sandbox/blob/main/DL_DSE7_RAGStack_MissionControl_jpn.ipynb\" target=\"_parent\"><img src=\"https://colab.research.google.com/assets/colab-badge.svg\" alt=\"Open In Colab\"/></a>"
      ]
    },
    {
      "cell_type": "markdown",
      "source": [
        "# Vector Search with DataStax Enterprise 7 deplyed with Mission Control & RAGStack\n",
        "\n",
        "This page provides a quick start for using [DataStax Enterprise 7](https://www.datastax.com/blog/introducing-vector-search-for-self-managed-datastax-enterprise) as a Vector Store.\n",
        "\n",
        "Additionally, we're introducing [RAGStack](https://www.datastax.com/products/ragstack), an out of the box solution simplifying Retrieval Augmented Generation (RAG) in AI apps. RAGStack includes the best open-source libraries for implementing RAG, giving developers a comprehensive Gen AI Stack leveraging LangChain, CassIO, and more.\n",
        "\n",
        "***In addition to access to the database, an OpenAI API Key is required to run the full example.***"
      ],
      "metadata": {
        "id": "d2d6ca14-fb7e-4172-9aa0-a3119a064b96"
      },
      "id": "d2d6ca14-fb7e-4172-9aa0-a3119a064b96"
    },
    {
      "cell_type": "markdown",
      "source": [
        "## Setup & General Dependencies\n",
        "### GKE\n",
        "\n",
        "```\n",
        "Save the cluster definition to a file and use `kubectl apply -f <yourfile>` to provision the cluster.\n",
        "\n",
        "apiVersion: v1\n",
        "kind: Service\n",
        "metadata:\n",
        "  name: test-loadbalancer\n",
        "  namespace: demo-33z2o6o4\n",
        "  labels:\n",
        "    cassandra.datastax.com/cluster: test\n",
        "    cassandra.datastax.com/datacenter: dc-1\n",
        "spec:\n",
        "  type: LoadBalancer\n",
        "  ports:\n",
        "  - port: 9042\n",
        "    protocol: TCP\n",
        "  selector:\n",
        "    cassandra.datastax.com/cluster: test\n",
        "    cassandra.datastax.com/datacenter: dc-1\n",
        "    \n",
        "```\n",
        "Save the `LoadBalancer` definition to a file and use `kubectl apply -f <yourfile>` to create the service.\n",
        "\n",
        "### Connection\n",
        "Once the `LoadBalancer` service has been created, copy the External IP address (*only the IP address* not `https://`) and enter it in the prompt of the `Code` cell below. Run the rest of the notebook as normal.\n",
        "\n",
        "\n",
        "### IMPORTANT\n",
        "\n",
        "The namespace must be filled with the project name in the Mission Control ui  https://localhost:8080/ui/projects/demo-33z2o6o4/clusters/test\n",
        "\n",
        "\n",
        "The load balancer can be accessed via the GCP Console navigation pane > Kubernetes engine > Networking > Gateways, services and Ingress > Services. The IP adress of the load balancer will be displayed there.\n",
        "\n"
      ],
      "metadata": {
        "id": "bb9be7ce-8c70-4d46-9f11-71c42a36e928"
      },
      "id": "bb9be7ce-8c70-4d46-9f11-71c42a36e928"
    },
    {
      "cell_type": "code",
      "source": [
        "import os\n",
        "from getpass import getpass\n",
        "\n",
        "cluster_external_ip = getpass(\"GKE External IP Address = \")"
      ],
      "outputs": [
        {
          "name": "stdout",
          "output_type": "stream",
          "text": [
            "GKE External IP Address = ··········\n"
          ]
        }
      ],
      "execution_count": null,
      "metadata": {
        "jupyter": {
          "source_hidden": false,
          "outputs_hidden": false
        },
        "nteract": {
          "transient": {
            "deleting": false
          }
        },
        "gather": {
          "logged": 1708989921989
        },
        "id": "a3f57b3d-3c31-4f98-b141-e9fa69f335b4",
        "colab": {
          "base_uri": "https://localhost:8080/"
        },
        "outputId": "3fc62abc-969f-4429-84e6-e7f0df9c6f14"
      },
      "id": "a3f57b3d-3c31-4f98-b141-e9fa69f335b4"
    },
    {
      "cell_type": "code",
      "source": [
        "print(cluster_external_ip)"
      ],
      "outputs": [
        {
          "output_type": "stream",
          "name": "stdout",
          "text": [
            "34.133.121.172\n"
          ]
        }
      ],
      "execution_count": null,
      "metadata": {
        "jupyter": {
          "source_hidden": false,
          "outputs_hidden": false
        },
        "nteract": {
          "transient": {
            "deleting": false
          }
        },
        "gather": {
          "logged": 1708989923612
        },
        "id": "eb5a63f5-6725-4756-933a-6aadd57c992e",
        "outputId": "9f3f1bc9-abbd-429e-ef60-20f5ba6c0505",
        "colab": {
          "base_uri": "https://localhost:8080/"
        }
      },
      "id": "eb5a63f5-6725-4756-933a-6aadd57c992e"
    },
    {
      "cell_type": "code",
      "source": [
        "#Dependency Install\n",
        "%pip install datasets pypdf ragstack-ai ipywidgets"
      ],
      "outputs": [
        {
          "output_type": "stream",
          "name": "stdout",
          "text": [
            "Collecting datasets\n",
            "  Downloading datasets-2.18.0-py3-none-any.whl (510 kB)\n",
            "\u001b[2K     \u001b[90m━━━━━━━━━━━━━━━━━━━━━━━━━━━━━━━━━━━━━━━━\u001b[0m \u001b[32m510.5/510.5 kB\u001b[0m \u001b[31m4.3 MB/s\u001b[0m eta \u001b[36m0:00:00\u001b[0m\n",
            "\u001b[?25hCollecting pypdf\n",
            "  Downloading pypdf-4.1.0-py3-none-any.whl (286 kB)\n",
            "\u001b[2K     \u001b[90m━━━━━━━━━━━━━━━━━━━━━━━━━━━━━━━━━━━━━━━━\u001b[0m \u001b[32m286.1/286.1 kB\u001b[0m \u001b[31m7.1 MB/s\u001b[0m eta \u001b[36m0:00:00\u001b[0m\n",
            "\u001b[?25hCollecting ragstack-ai\n",
            "  Downloading ragstack_ai-0.10.0-py3-none-any.whl (4.3 kB)\n",
            "Requirement already satisfied: ipywidgets in /usr/local/lib/python3.10/dist-packages (7.7.1)\n",
            "Requirement already satisfied: filelock in /usr/local/lib/python3.10/dist-packages (from datasets) (3.13.1)\n",
            "Requirement already satisfied: numpy>=1.17 in /usr/local/lib/python3.10/dist-packages (from datasets) (1.25.2)\n",
            "Requirement already satisfied: pyarrow>=12.0.0 in /usr/local/lib/python3.10/dist-packages (from datasets) (14.0.2)\n",
            "Requirement already satisfied: pyarrow-hotfix in /usr/local/lib/python3.10/dist-packages (from datasets) (0.6)\n",
            "Collecting dill<0.3.9,>=0.3.0 (from datasets)\n",
            "  Downloading dill-0.3.8-py3-none-any.whl (116 kB)\n",
            "\u001b[2K     \u001b[90m━━━━━━━━━━━━━━━━━━━━━━━━━━━━━━━━━━━━━━━━\u001b[0m \u001b[32m116.3/116.3 kB\u001b[0m \u001b[31m6.3 MB/s\u001b[0m eta \u001b[36m0:00:00\u001b[0m\n",
            "\u001b[?25hRequirement already satisfied: pandas in /usr/local/lib/python3.10/dist-packages (from datasets) (1.5.3)\n",
            "Requirement already satisfied: requests>=2.19.0 in /usr/local/lib/python3.10/dist-packages (from datasets) (2.31.0)\n",
            "Requirement already satisfied: tqdm>=4.62.1 in /usr/local/lib/python3.10/dist-packages (from datasets) (4.66.2)\n",
            "Collecting xxhash (from datasets)\n",
            "  Downloading xxhash-3.4.1-cp310-cp310-manylinux_2_17_x86_64.manylinux2014_x86_64.whl (194 kB)\n",
            "\u001b[2K     \u001b[90m━━━━━━━━━━━━━━━━━━━━━━━━━━━━━━━━━━━━━━━━\u001b[0m \u001b[32m194.1/194.1 kB\u001b[0m \u001b[31m5.7 MB/s\u001b[0m eta \u001b[36m0:00:00\u001b[0m\n",
            "\u001b[?25hCollecting multiprocess (from datasets)\n",
            "  Downloading multiprocess-0.70.16-py310-none-any.whl (134 kB)\n",
            "\u001b[2K     \u001b[90m━━━━━━━━━━━━━━━━━━━━━━━━━━━━━━━━━━━━━━━━\u001b[0m \u001b[32m134.8/134.8 kB\u001b[0m \u001b[31m7.9 MB/s\u001b[0m eta \u001b[36m0:00:00\u001b[0m\n",
            "\u001b[?25hRequirement already satisfied: fsspec[http]<=2024.2.0,>=2023.1.0 in /usr/local/lib/python3.10/dist-packages (from datasets) (2023.6.0)\n",
            "Requirement already satisfied: aiohttp in /usr/local/lib/python3.10/dist-packages (from datasets) (3.9.3)\n",
            "Requirement already satisfied: huggingface-hub>=0.19.4 in /usr/local/lib/python3.10/dist-packages (from datasets) (0.20.3)\n",
            "Requirement already satisfied: packaging in /usr/local/lib/python3.10/dist-packages (from datasets) (24.0)\n",
            "Requirement already satisfied: pyyaml>=5.1 in /usr/local/lib/python3.10/dist-packages (from datasets) (6.0.1)\n",
            "Collecting astrapy<0.8.0,>=0.7.0 (from ragstack-ai)\n",
            "  Downloading astrapy-0.7.7-py3-none-any.whl (32 kB)\n",
            "Collecting cassio<0.2.0,>=0.1.3 (from ragstack-ai)\n",
            "  Downloading cassio-0.1.5-py3-none-any.whl (41 kB)\n",
            "\u001b[2K     \u001b[90m━━━━━━━━━━━━━━━━━━━━━━━━━━━━━━━━━━━━━━━━\u001b[0m \u001b[32m41.3/41.3 kB\u001b[0m \u001b[31m3.2 MB/s\u001b[0m eta \u001b[36m0:00:00\u001b[0m\n",
            "\u001b[?25hCollecting langchain==0.1.12 (from ragstack-ai)\n",
            "  Downloading langchain-0.1.12-py3-none-any.whl (809 kB)\n",
            "\u001b[2K     \u001b[90m━━━━━━━━━━━━━━━━━━━━━━━━━━━━━━━━━━━━━━━━\u001b[0m \u001b[32m809.1/809.1 kB\u001b[0m \u001b[31m8.8 MB/s\u001b[0m eta \u001b[36m0:00:00\u001b[0m\n",
            "\u001b[?25hCollecting langchain-astradb==0.1.0 (from ragstack-ai)\n",
            "  Downloading langchain_astradb-0.1.0-py3-none-any.whl (25 kB)\n",
            "Collecting langchain-community==0.0.28 (from ragstack-ai)\n",
            "  Downloading langchain_community-0.0.28-py3-none-any.whl (1.8 MB)\n",
            "\u001b[2K     \u001b[90m━━━━━━━━━━━━━━━━━━━━━━━━━━━━━━━━━━━━━━━━\u001b[0m \u001b[32m1.8/1.8 MB\u001b[0m \u001b[31m13.4 MB/s\u001b[0m eta \u001b[36m0:00:00\u001b[0m\n",
            "\u001b[?25hCollecting langchain-core==0.1.31 (from ragstack-ai)\n",
            "  Downloading langchain_core-0.1.31-py3-none-any.whl (258 kB)\n",
            "\u001b[2K     \u001b[90m━━━━━━━━━━━━━━━━━━━━━━━━━━━━━━━━━━━━━━━━\u001b[0m \u001b[32m258.8/258.8 kB\u001b[0m \u001b[31m18.7 MB/s\u001b[0m eta \u001b[36m0:00:00\u001b[0m\n",
            "\u001b[?25hCollecting langchain-openai==0.0.8 (from ragstack-ai)\n",
            "  Downloading langchain_openai-0.0.8-py3-none-any.whl (32 kB)\n",
            "Collecting llama-index[langchain]==0.9.48 (from ragstack-ai)\n",
            "  Downloading llama_index-0.9.48-py3-none-any.whl (15.9 MB)\n",
            "\u001b[2K     \u001b[90m━━━━━━━━━━━━━━━━━━━━━━━━━━━━━━━━━━━━━━━━\u001b[0m \u001b[32m15.9/15.9 MB\u001b[0m \u001b[31m37.3 MB/s\u001b[0m eta \u001b[36m0:00:00\u001b[0m\n",
            "\u001b[?25hCollecting llama-parse==0.1.4 (from ragstack-ai)\n",
            "  Downloading llama_parse-0.1.4-py3-none-any.whl (4.4 kB)\n",
            "Collecting unstructured==0.12.5 (from ragstack-ai)\n",
            "  Downloading unstructured-0.12.5-py3-none-any.whl (1.8 MB)\n",
            "\u001b[2K     \u001b[90m━━━━━━━━━━━━━━━━━━━━━━━━━━━━━━━━━━━━━━━━\u001b[0m \u001b[32m1.8/1.8 MB\u001b[0m \u001b[31m45.1 MB/s\u001b[0m eta \u001b[36m0:00:00\u001b[0m\n",
            "\u001b[?25hRequirement already satisfied: SQLAlchemy<3,>=1.4 in /usr/local/lib/python3.10/dist-packages (from langchain==0.1.12->ragstack-ai) (2.0.28)\n",
            "Requirement already satisfied: async-timeout<5.0.0,>=4.0.0 in /usr/local/lib/python3.10/dist-packages (from langchain==0.1.12->ragstack-ai) (4.0.3)\n",
            "Collecting dataclasses-json<0.7,>=0.5.7 (from langchain==0.1.12->ragstack-ai)\n",
            "  Downloading dataclasses_json-0.6.4-py3-none-any.whl (28 kB)\n",
            "Collecting jsonpatch<2.0,>=1.33 (from langchain==0.1.12->ragstack-ai)\n",
            "  Downloading jsonpatch-1.33-py2.py3-none-any.whl (12 kB)\n",
            "Collecting langchain-text-splitters<0.1,>=0.0.1 (from langchain==0.1.12->ragstack-ai)\n",
            "  Downloading langchain_text_splitters-0.0.1-py3-none-any.whl (21 kB)\n",
            "Collecting langsmith<0.2.0,>=0.1.17 (from langchain==0.1.12->ragstack-ai)\n",
            "  Downloading langsmith-0.1.31-py3-none-any.whl (71 kB)\n",
            "\u001b[2K     \u001b[90m━━━━━━━━━━━━━━━━━━━━━━━━━━━━━━━━━━━━━━━━\u001b[0m \u001b[32m71.6/71.6 kB\u001b[0m \u001b[31m6.8 MB/s\u001b[0m eta \u001b[36m0:00:00\u001b[0m\n",
            "\u001b[?25hRequirement already satisfied: pydantic<3,>=1 in /usr/local/lib/python3.10/dist-packages (from langchain==0.1.12->ragstack-ai) (2.6.4)\n",
            "Requirement already satisfied: tenacity<9.0.0,>=8.1.0 in /usr/local/lib/python3.10/dist-packages (from langchain==0.1.12->ragstack-ai) (8.2.3)\n",
            "Requirement already satisfied: anyio<5,>=3 in /usr/local/lib/python3.10/dist-packages (from langchain-core==0.1.31->ragstack-ai) (3.7.1)\n",
            "Collecting packaging (from datasets)\n",
            "  Downloading packaging-23.2-py3-none-any.whl (53 kB)\n",
            "\u001b[2K     \u001b[90m━━━━━━━━━━━━━━━━━━━━━━━━━━━━━━━━━━━━━━━━\u001b[0m \u001b[32m53.0/53.0 kB\u001b[0m \u001b[31m6.1 MB/s\u001b[0m eta \u001b[36m0:00:00\u001b[0m\n",
            "\u001b[?25hCollecting openai<2.0.0,>=1.10.0 (from langchain-openai==0.0.8->ragstack-ai)\n",
            "  Downloading openai-1.14.3-py3-none-any.whl (262 kB)\n",
            "\u001b[2K     \u001b[90m━━━━━━━━━━━━━━━━━━━━━━━━━━━━━━━━━━━━━━━━\u001b[0m \u001b[32m262.9/262.9 kB\u001b[0m \u001b[31m25.2 MB/s\u001b[0m eta \u001b[36m0:00:00\u001b[0m\n",
            "\u001b[?25hCollecting tiktoken<1,>=0.5.2 (from langchain-openai==0.0.8->ragstack-ai)\n",
            "  Downloading tiktoken-0.6.0-cp310-cp310-manylinux_2_17_x86_64.manylinux2014_x86_64.whl (1.8 MB)\n",
            "\u001b[2K     \u001b[90m━━━━━━━━━━━━━━━━━━━━━━━━━━━━━━━━━━━━━━━━\u001b[0m \u001b[32m1.8/1.8 MB\u001b[0m \u001b[31m47.8 MB/s\u001b[0m eta \u001b[36m0:00:00\u001b[0m\n",
            "\u001b[?25hCollecting deprecated>=1.2.9.3 (from llama-index[langchain]==0.9.48->ragstack-ai)\n",
            "  Downloading Deprecated-1.2.14-py2.py3-none-any.whl (9.6 kB)\n",
            "Collecting dirtyjson<2.0.0,>=1.0.8 (from llama-index[langchain]==0.9.48->ragstack-ai)\n",
            "  Downloading dirtyjson-1.0.8-py3-none-any.whl (25 kB)\n",
            "Collecting httpx (from llama-index[langchain]==0.9.48->ragstack-ai)\n",
            "  Downloading httpx-0.27.0-py3-none-any.whl (75 kB)\n",
            "\u001b[2K     \u001b[90m━━━━━━━━━━━━━━━━━━━━━━━━━━━━━━━━━━━━━━━━\u001b[0m \u001b[32m75.6/75.6 kB\u001b[0m \u001b[31m8.1 MB/s\u001b[0m eta \u001b[36m0:00:00\u001b[0m\n",
            "\u001b[?25hRequirement already satisfied: nest-asyncio<2.0.0,>=1.5.8 in /usr/local/lib/python3.10/dist-packages (from llama-index[langchain]==0.9.48->ragstack-ai) (1.6.0)\n",
            "Requirement already satisfied: networkx>=3.0 in /usr/local/lib/python3.10/dist-packages (from llama-index[langchain]==0.9.48->ragstack-ai) (3.2.1)\n",
            "Requirement already satisfied: nltk<4.0.0,>=3.8.1 in /usr/local/lib/python3.10/dist-packages (from llama-index[langchain]==0.9.48->ragstack-ai) (3.8.1)\n",
            "Requirement already satisfied: typing-extensions>=4.5.0 in /usr/local/lib/python3.10/dist-packages (from llama-index[langchain]==0.9.48->ragstack-ai) (4.10.0)\n",
            "Collecting typing-inspect>=0.8.0 (from llama-index[langchain]==0.9.48->ragstack-ai)\n",
            "  Downloading typing_inspect-0.9.0-py3-none-any.whl (8.8 kB)\n",
            "Requirement already satisfied: chardet in /usr/local/lib/python3.10/dist-packages (from unstructured==0.12.5->ragstack-ai) (5.2.0)\n",
            "Collecting filetype (from unstructured==0.12.5->ragstack-ai)\n",
            "  Downloading filetype-1.2.0-py2.py3-none-any.whl (19 kB)\n",
            "Collecting python-magic (from unstructured==0.12.5->ragstack-ai)\n",
            "  Downloading python_magic-0.4.27-py2.py3-none-any.whl (13 kB)\n",
            "Requirement already satisfied: lxml in /usr/local/lib/python3.10/dist-packages (from unstructured==0.12.5->ragstack-ai) (4.9.4)\n",
            "Requirement already satisfied: tabulate in /usr/local/lib/python3.10/dist-packages (from unstructured==0.12.5->ragstack-ai) (0.9.0)\n",
            "Requirement already satisfied: beautifulsoup4 in /usr/local/lib/python3.10/dist-packages (from unstructured==0.12.5->ragstack-ai) (4.12.3)\n",
            "Collecting emoji (from unstructured==0.12.5->ragstack-ai)\n",
            "  Downloading emoji-2.10.1-py2.py3-none-any.whl (421 kB)\n",
            "\u001b[2K     \u001b[90m━━━━━━━━━━━━━━━━━━━━━━━━━━━━━━━━━━━━━━━━\u001b[0m \u001b[32m421.5/421.5 kB\u001b[0m \u001b[31m37.3 MB/s\u001b[0m eta \u001b[36m0:00:00\u001b[0m\n",
            "\u001b[?25hCollecting python-iso639 (from unstructured==0.12.5->ragstack-ai)\n",
            "  Downloading python_iso639-2024.2.7-py3-none-any.whl (274 kB)\n",
            "\u001b[2K     \u001b[90m━━━━━━━━━━━━━━━━━━━━━━━━━━━━━━━━━━━━━━━━\u001b[0m \u001b[32m274.7/274.7 kB\u001b[0m \u001b[31m25.1 MB/s\u001b[0m eta \u001b[36m0:00:00\u001b[0m\n",
            "\u001b[?25hCollecting langdetect (from unstructured==0.12.5->ragstack-ai)\n",
            "  Downloading langdetect-1.0.9.tar.gz (981 kB)\n",
            "\u001b[2K     \u001b[90m━━━━━━━━━━━━━━━━━━━━━━━━━━━━━━━━━━━━━━━━\u001b[0m \u001b[32m981.5/981.5 kB\u001b[0m \u001b[31m46.8 MB/s\u001b[0m eta \u001b[36m0:00:00\u001b[0m\n",
            "\u001b[?25h  Preparing metadata (setup.py) ... \u001b[?25l\u001b[?25hdone\n",
            "Collecting rapidfuzz (from unstructured==0.12.5->ragstack-ai)\n",
            "  Downloading rapidfuzz-3.7.0-cp310-cp310-manylinux_2_17_x86_64.manylinux2014_x86_64.whl (3.4 MB)\n",
            "\u001b[2K     \u001b[90m━━━━━━━━━━━━━━━━━━━━━━━━━━━━━━━━━━━━━━━━\u001b[0m \u001b[32m3.4/3.4 MB\u001b[0m \u001b[31m37.6 MB/s\u001b[0m eta \u001b[36m0:00:00\u001b[0m\n",
            "\u001b[?25hCollecting backoff (from unstructured==0.12.5->ragstack-ai)\n",
            "  Downloading backoff-2.2.1-py3-none-any.whl (15 kB)\n",
            "Collecting unstructured-client>=0.15.1 (from unstructured==0.12.5->ragstack-ai)\n",
            "  Downloading unstructured_client-0.22.0-py3-none-any.whl (28 kB)\n",
            "Requirement already satisfied: wrapt in /usr/local/lib/python3.10/dist-packages (from unstructured==0.12.5->ragstack-ai) (1.14.1)\n",
            "Requirement already satisfied: ipykernel>=4.5.1 in /usr/local/lib/python3.10/dist-packages (from ipywidgets) (5.5.6)\n",
            "Requirement already satisfied: ipython-genutils~=0.2.0 in /usr/local/lib/python3.10/dist-packages (from ipywidgets) (0.2.0)\n",
            "Requirement already satisfied: traitlets>=4.3.1 in /usr/local/lib/python3.10/dist-packages (from ipywidgets) (5.7.1)\n",
            "Requirement already satisfied: widgetsnbextension~=3.6.0 in /usr/local/lib/python3.10/dist-packages (from ipywidgets) (3.6.6)\n",
            "Requirement already satisfied: ipython>=4.0.0 in /usr/local/lib/python3.10/dist-packages (from ipywidgets) (7.34.0)\n",
            "Requirement already satisfied: jupyterlab-widgets>=1.0.0 in /usr/local/lib/python3.10/dist-packages (from ipywidgets) (3.0.10)\n",
            "Requirement already satisfied: aiosignal>=1.1.2 in /usr/local/lib/python3.10/dist-packages (from aiohttp->datasets) (1.3.1)\n",
            "Requirement already satisfied: attrs>=17.3.0 in /usr/local/lib/python3.10/dist-packages (from aiohttp->datasets) (23.2.0)\n",
            "Requirement already satisfied: frozenlist>=1.1.1 in /usr/local/lib/python3.10/dist-packages (from aiohttp->datasets) (1.4.1)\n",
            "Requirement already satisfied: multidict<7.0,>=4.5 in /usr/local/lib/python3.10/dist-packages (from aiohttp->datasets) (6.0.5)\n",
            "Requirement already satisfied: yarl<2.0,>=1.0 in /usr/local/lib/python3.10/dist-packages (from aiohttp->datasets) (1.9.4)\n",
            "Collecting deprecation<2.2.0,>=2.1.0 (from astrapy<0.8.0,>=0.7.0->ragstack-ai)\n",
            "  Downloading deprecation-2.1.0-py2.py3-none-any.whl (11 kB)\n",
            "Requirement already satisfied: toml<0.11.0,>=0.10.2 in /usr/local/lib/python3.10/dist-packages (from astrapy<0.8.0,>=0.7.0->ragstack-ai) (0.10.2)\n",
            "Collecting cassandra-driver>=3.28.0 (from cassio<0.2.0,>=0.1.3->ragstack-ai)\n",
            "  Downloading cassandra_driver-3.29.1-cp310-cp310-manylinux_2_17_x86_64.manylinux2014_x86_64.whl (18.9 MB)\n",
            "\u001b[2K     \u001b[90m━━━━━━━━━━━━━━━━━━━━━━━━━━━━━━━━━━━━━━━━\u001b[0m \u001b[32m18.9/18.9 MB\u001b[0m \u001b[31m55.9 MB/s\u001b[0m eta \u001b[36m0:00:00\u001b[0m\n",
            "\u001b[?25hRequirement already satisfied: jupyter-client in /usr/local/lib/python3.10/dist-packages (from ipykernel>=4.5.1->ipywidgets) (6.1.12)\n",
            "Requirement already satisfied: tornado>=4.2 in /usr/local/lib/python3.10/dist-packages (from ipykernel>=4.5.1->ipywidgets) (6.3.3)\n",
            "Requirement already satisfied: setuptools>=18.5 in /usr/local/lib/python3.10/dist-packages (from ipython>=4.0.0->ipywidgets) (67.7.2)\n",
            "Collecting jedi>=0.16 (from ipython>=4.0.0->ipywidgets)\n",
            "  Downloading jedi-0.19.1-py2.py3-none-any.whl (1.6 MB)\n",
            "\u001b[2K     \u001b[90m━━━━━━━━━━━━━━━━━━━━━━━━━━━━━━━━━━━━━━━━\u001b[0m \u001b[32m1.6/1.6 MB\u001b[0m \u001b[31m38.8 MB/s\u001b[0m eta \u001b[36m0:00:00\u001b[0m\n",
            "\u001b[?25hRequirement already satisfied: decorator in /usr/local/lib/python3.10/dist-packages (from ipython>=4.0.0->ipywidgets) (4.4.2)\n",
            "Requirement already satisfied: pickleshare in /usr/local/lib/python3.10/dist-packages (from ipython>=4.0.0->ipywidgets) (0.7.5)\n",
            "Requirement already satisfied: prompt-toolkit!=3.0.0,!=3.0.1,<3.1.0,>=2.0.0 in /usr/local/lib/python3.10/dist-packages (from ipython>=4.0.0->ipywidgets) (3.0.43)\n",
            "Requirement already satisfied: pygments in /usr/local/lib/python3.10/dist-packages (from ipython>=4.0.0->ipywidgets) (2.16.1)\n",
            "Requirement already satisfied: backcall in /usr/local/lib/python3.10/dist-packages (from ipython>=4.0.0->ipywidgets) (0.2.0)\n",
            "Requirement already satisfied: matplotlib-inline in /usr/local/lib/python3.10/dist-packages (from ipython>=4.0.0->ipywidgets) (0.1.6)\n",
            "Requirement already satisfied: pexpect>4.3 in /usr/local/lib/python3.10/dist-packages (from ipython>=4.0.0->ipywidgets) (4.9.0)\n",
            "Requirement already satisfied: charset-normalizer<4,>=2 in /usr/local/lib/python3.10/dist-packages (from requests>=2.19.0->datasets) (3.3.2)\n",
            "Requirement already satisfied: idna<4,>=2.5 in /usr/local/lib/python3.10/dist-packages (from requests>=2.19.0->datasets) (3.6)\n",
            "Requirement already satisfied: urllib3<3,>=1.21.1 in /usr/local/lib/python3.10/dist-packages (from requests>=2.19.0->datasets) (2.0.7)\n",
            "Requirement already satisfied: certifi>=2017.4.17 in /usr/local/lib/python3.10/dist-packages (from requests>=2.19.0->datasets) (2024.2.2)\n",
            "Requirement already satisfied: notebook>=4.4.1 in /usr/local/lib/python3.10/dist-packages (from widgetsnbextension~=3.6.0->ipywidgets) (6.5.5)\n",
            "Requirement already satisfied: python-dateutil>=2.8.1 in /usr/local/lib/python3.10/dist-packages (from pandas->datasets) (2.8.2)\n",
            "Requirement already satisfied: pytz>=2020.1 in /usr/local/lib/python3.10/dist-packages (from pandas->datasets) (2023.4)\n",
            "Requirement already satisfied: sniffio>=1.1 in /usr/local/lib/python3.10/dist-packages (from anyio<5,>=3->langchain-core==0.1.31->ragstack-ai) (1.3.1)\n",
            "Requirement already satisfied: exceptiongroup in /usr/local/lib/python3.10/dist-packages (from anyio<5,>=3->langchain-core==0.1.31->ragstack-ai) (1.2.0)\n",
            "Collecting geomet<0.3,>=0.1 (from cassandra-driver>=3.28.0->cassio<0.2.0,>=0.1.3->ragstack-ai)\n",
            "  Downloading geomet-0.2.1.post1-py3-none-any.whl (18 kB)\n",
            "Collecting marshmallow<4.0.0,>=3.18.0 (from dataclasses-json<0.7,>=0.5.7->langchain==0.1.12->ragstack-ai)\n",
            "  Downloading marshmallow-3.21.1-py3-none-any.whl (49 kB)\n",
            "\u001b[2K     \u001b[90m━━━━━━━━━━━━━━━━━━━━━━━━━━━━━━━━━━━━━━━━\u001b[0m \u001b[32m49.4/49.4 kB\u001b[0m \u001b[31m5.1 MB/s\u001b[0m eta \u001b[36m0:00:00\u001b[0m\n",
            "\u001b[?25hCollecting httpcore==1.* (from httpx->llama-index[langchain]==0.9.48->ragstack-ai)\n",
            "  Downloading httpcore-1.0.4-py3-none-any.whl (77 kB)\n",
            "\u001b[2K     \u001b[90m━━━━━━━━━━━━━━━━━━━━━━━━━━━━━━━━━━━━━━━━\u001b[0m \u001b[32m77.8/77.8 kB\u001b[0m \u001b[31m8.5 MB/s\u001b[0m eta \u001b[36m0:00:00\u001b[0m\n",
            "\u001b[?25hCollecting h2<5,>=3 (from httpx->llama-index[langchain]==0.9.48->ragstack-ai)\n",
            "  Downloading h2-4.1.0-py3-none-any.whl (57 kB)\n",
            "\u001b[2K     \u001b[90m━━━━━━━━━━━━━━━━━━━━━━━━━━━━━━━━━━━━━━━━\u001b[0m \u001b[32m57.5/57.5 kB\u001b[0m \u001b[31m3.7 MB/s\u001b[0m eta \u001b[36m0:00:00\u001b[0m\n",
            "\u001b[?25hCollecting h11<0.15,>=0.13 (from httpcore==1.*->httpx->llama-index[langchain]==0.9.48->ragstack-ai)\n",
            "  Downloading h11-0.14.0-py3-none-any.whl (58 kB)\n",
            "\u001b[2K     \u001b[90m━━━━━━━━━━━━━━━━━━━━━━━━━━━━━━━━━━━━━━━━\u001b[0m \u001b[32m58.3/58.3 kB\u001b[0m \u001b[31m4.5 MB/s\u001b[0m eta \u001b[36m0:00:00\u001b[0m\n",
            "\u001b[?25hRequirement already satisfied: parso<0.9.0,>=0.8.3 in /usr/local/lib/python3.10/dist-packages (from jedi>=0.16->ipython>=4.0.0->ipywidgets) (0.8.3)\n",
            "Collecting jsonpointer>=1.9 (from jsonpatch<2.0,>=1.33->langchain==0.1.12->ragstack-ai)\n",
            "  Downloading jsonpointer-2.4-py2.py3-none-any.whl (7.8 kB)\n",
            "Collecting orjson<4.0.0,>=3.9.14 (from langsmith<0.2.0,>=0.1.17->langchain==0.1.12->ragstack-ai)\n",
            "  Downloading orjson-3.9.15-cp310-cp310-manylinux_2_17_x86_64.manylinux2014_x86_64.whl (138 kB)\n",
            "\u001b[2K     \u001b[90m━━━━━━━━━━━━━━━━━━━━━━━━━━━━━━━━━━━━━━━━\u001b[0m \u001b[32m138.5/138.5 kB\u001b[0m \u001b[31m13.7 MB/s\u001b[0m eta \u001b[36m0:00:00\u001b[0m\n",
            "\u001b[?25hRequirement already satisfied: click in /usr/local/lib/python3.10/dist-packages (from nltk<4.0.0,>=3.8.1->llama-index[langchain]==0.9.48->ragstack-ai) (8.1.7)\n",
            "Requirement already satisfied: joblib in /usr/local/lib/python3.10/dist-packages (from nltk<4.0.0,>=3.8.1->llama-index[langchain]==0.9.48->ragstack-ai) (1.3.2)\n",
            "Requirement already satisfied: regex>=2021.8.3 in /usr/local/lib/python3.10/dist-packages (from nltk<4.0.0,>=3.8.1->llama-index[langchain]==0.9.48->ragstack-ai) (2023.12.25)\n",
            "Requirement already satisfied: jinja2 in /usr/local/lib/python3.10/dist-packages (from notebook>=4.4.1->widgetsnbextension~=3.6.0->ipywidgets) (3.1.3)\n",
            "Requirement already satisfied: pyzmq<25,>=17 in /usr/local/lib/python3.10/dist-packages (from notebook>=4.4.1->widgetsnbextension~=3.6.0->ipywidgets) (23.2.1)\n",
            "Requirement already satisfied: argon2-cffi in /usr/local/lib/python3.10/dist-packages (from notebook>=4.4.1->widgetsnbextension~=3.6.0->ipywidgets) (23.1.0)\n",
            "Requirement already satisfied: jupyter-core>=4.6.1 in /usr/local/lib/python3.10/dist-packages (from notebook>=4.4.1->widgetsnbextension~=3.6.0->ipywidgets) (5.7.2)\n",
            "Requirement already satisfied: nbformat in /usr/local/lib/python3.10/dist-packages (from notebook>=4.4.1->widgetsnbextension~=3.6.0->ipywidgets) (5.10.3)\n",
            "Requirement already satisfied: nbconvert>=5 in /usr/local/lib/python3.10/dist-packages (from notebook>=4.4.1->widgetsnbextension~=3.6.0->ipywidgets) (6.5.4)\n",
            "Requirement already satisfied: Send2Trash>=1.8.0 in /usr/local/lib/python3.10/dist-packages (from notebook>=4.4.1->widgetsnbextension~=3.6.0->ipywidgets) (1.8.2)\n",
            "Requirement already satisfied: terminado>=0.8.3 in /usr/local/lib/python3.10/dist-packages (from notebook>=4.4.1->widgetsnbextension~=3.6.0->ipywidgets) (0.18.1)\n",
            "Requirement already satisfied: prometheus-client in /usr/local/lib/python3.10/dist-packages (from notebook>=4.4.1->widgetsnbextension~=3.6.0->ipywidgets) (0.20.0)\n",
            "Requirement already satisfied: nbclassic>=0.4.7 in /usr/local/lib/python3.10/dist-packages (from notebook>=4.4.1->widgetsnbextension~=3.6.0->ipywidgets) (1.0.0)\n",
            "Requirement already satisfied: distro<2,>=1.7.0 in /usr/lib/python3/dist-packages (from openai<2.0.0,>=1.10.0->langchain-openai==0.0.8->ragstack-ai) (1.7.0)\n",
            "Requirement already satisfied: ptyprocess>=0.5 in /usr/local/lib/python3.10/dist-packages (from pexpect>4.3->ipython>=4.0.0->ipywidgets) (0.7.0)\n",
            "Requirement already satisfied: wcwidth in /usr/local/lib/python3.10/dist-packages (from prompt-toolkit!=3.0.0,!=3.0.1,<3.1.0,>=2.0.0->ipython>=4.0.0->ipywidgets) (0.2.13)\n",
            "Requirement already satisfied: annotated-types>=0.4.0 in /usr/local/lib/python3.10/dist-packages (from pydantic<3,>=1->langchain==0.1.12->ragstack-ai) (0.6.0)\n",
            "Requirement already satisfied: pydantic-core==2.16.3 in /usr/local/lib/python3.10/dist-packages (from pydantic<3,>=1->langchain==0.1.12->ragstack-ai) (2.16.3)\n",
            "Requirement already satisfied: six>=1.5 in /usr/local/lib/python3.10/dist-packages (from python-dateutil>=2.8.1->pandas->datasets) (1.16.0)\n",
            "Requirement already satisfied: greenlet!=0.4.17 in /usr/local/lib/python3.10/dist-packages (from SQLAlchemy<3,>=1.4->langchain==0.1.12->ragstack-ai) (3.0.3)\n",
            "Collecting mypy-extensions>=0.3.0 (from typing-inspect>=0.8.0->llama-index[langchain]==0.9.48->ragstack-ai)\n",
            "  Downloading mypy_extensions-1.0.0-py3-none-any.whl (4.7 kB)\n",
            "Collecting deepdiff>=6.0 (from unstructured-client>=0.15.1->unstructured==0.12.5->ragstack-ai)\n",
            "  Downloading deepdiff-6.7.1-py3-none-any.whl (76 kB)\n",
            "\u001b[2K     \u001b[90m━━━━━━━━━━━━━━━━━━━━━━━━━━━━━━━━━━━━━━━━\u001b[0m \u001b[32m76.6/76.6 kB\u001b[0m \u001b[31m8.3 MB/s\u001b[0m eta \u001b[36m0:00:00\u001b[0m\n",
            "\u001b[?25hCollecting jsonpath-python>=1.0.6 (from unstructured-client>=0.15.1->unstructured==0.12.5->ragstack-ai)\n",
            "  Downloading jsonpath_python-1.0.6-py3-none-any.whl (7.6 kB)\n",
            "Requirement already satisfied: soupsieve>1.2 in /usr/local/lib/python3.10/dist-packages (from beautifulsoup4->unstructured==0.12.5->ragstack-ai) (2.5)\n",
            "Collecting ordered-set<4.2.0,>=4.0.2 (from deepdiff>=6.0->unstructured-client>=0.15.1->unstructured==0.12.5->ragstack-ai)\n",
            "  Downloading ordered_set-4.1.0-py3-none-any.whl (7.6 kB)\n",
            "Collecting hyperframe<7,>=6.0 (from h2<5,>=3->httpx->llama-index[langchain]==0.9.48->ragstack-ai)\n",
            "  Downloading hyperframe-6.0.1-py3-none-any.whl (12 kB)\n",
            "Collecting hpack<5,>=4.0 (from h2<5,>=3->httpx->llama-index[langchain]==0.9.48->ragstack-ai)\n",
            "  Downloading hpack-4.0.0-py3-none-any.whl (32 kB)\n",
            "Requirement already satisfied: platformdirs>=2.5 in /usr/local/lib/python3.10/dist-packages (from jupyter-core>=4.6.1->notebook>=4.4.1->widgetsnbextension~=3.6.0->ipywidgets) (4.2.0)\n",
            "Requirement already satisfied: jupyter-server>=1.8 in /usr/local/lib/python3.10/dist-packages (from nbclassic>=0.4.7->notebook>=4.4.1->widgetsnbextension~=3.6.0->ipywidgets) (1.24.0)\n",
            "Requirement already satisfied: notebook-shim>=0.2.3 in /usr/local/lib/python3.10/dist-packages (from nbclassic>=0.4.7->notebook>=4.4.1->widgetsnbextension~=3.6.0->ipywidgets) (0.2.4)\n",
            "Requirement already satisfied: bleach in /usr/local/lib/python3.10/dist-packages (from nbconvert>=5->notebook>=4.4.1->widgetsnbextension~=3.6.0->ipywidgets) (6.1.0)\n",
            "Requirement already satisfied: defusedxml in /usr/local/lib/python3.10/dist-packages (from nbconvert>=5->notebook>=4.4.1->widgetsnbextension~=3.6.0->ipywidgets) (0.7.1)\n",
            "Requirement already satisfied: entrypoints>=0.2.2 in /usr/local/lib/python3.10/dist-packages (from nbconvert>=5->notebook>=4.4.1->widgetsnbextension~=3.6.0->ipywidgets) (0.4)\n",
            "Requirement already satisfied: jupyterlab-pygments in /usr/local/lib/python3.10/dist-packages (from nbconvert>=5->notebook>=4.4.1->widgetsnbextension~=3.6.0->ipywidgets) (0.3.0)\n",
            "Requirement already satisfied: MarkupSafe>=2.0 in /usr/local/lib/python3.10/dist-packages (from nbconvert>=5->notebook>=4.4.1->widgetsnbextension~=3.6.0->ipywidgets) (2.1.5)\n",
            "Requirement already satisfied: mistune<2,>=0.8.1 in /usr/local/lib/python3.10/dist-packages (from nbconvert>=5->notebook>=4.4.1->widgetsnbextension~=3.6.0->ipywidgets) (0.8.4)\n",
            "Requirement already satisfied: nbclient>=0.5.0 in /usr/local/lib/python3.10/dist-packages (from nbconvert>=5->notebook>=4.4.1->widgetsnbextension~=3.6.0->ipywidgets) (0.10.0)\n",
            "Requirement already satisfied: pandocfilters>=1.4.1 in /usr/local/lib/python3.10/dist-packages (from nbconvert>=5->notebook>=4.4.1->widgetsnbextension~=3.6.0->ipywidgets) (1.5.1)\n",
            "Requirement already satisfied: tinycss2 in /usr/local/lib/python3.10/dist-packages (from nbconvert>=5->notebook>=4.4.1->widgetsnbextension~=3.6.0->ipywidgets) (1.2.1)\n",
            "Requirement already satisfied: fastjsonschema in /usr/local/lib/python3.10/dist-packages (from nbformat->notebook>=4.4.1->widgetsnbextension~=3.6.0->ipywidgets) (2.19.1)\n",
            "Requirement already satisfied: jsonschema>=2.6 in /usr/local/lib/python3.10/dist-packages (from nbformat->notebook>=4.4.1->widgetsnbextension~=3.6.0->ipywidgets) (4.19.2)\n",
            "Requirement already satisfied: argon2-cffi-bindings in /usr/local/lib/python3.10/dist-packages (from argon2-cffi->notebook>=4.4.1->widgetsnbextension~=3.6.0->ipywidgets) (21.2.0)\n",
            "Requirement already satisfied: jsonschema-specifications>=2023.03.6 in /usr/local/lib/python3.10/dist-packages (from jsonschema>=2.6->nbformat->notebook>=4.4.1->widgetsnbextension~=3.6.0->ipywidgets) (2023.12.1)\n",
            "Requirement already satisfied: referencing>=0.28.4 in /usr/local/lib/python3.10/dist-packages (from jsonschema>=2.6->nbformat->notebook>=4.4.1->widgetsnbextension~=3.6.0->ipywidgets) (0.34.0)\n",
            "Requirement already satisfied: rpds-py>=0.7.1 in /usr/local/lib/python3.10/dist-packages (from jsonschema>=2.6->nbformat->notebook>=4.4.1->widgetsnbextension~=3.6.0->ipywidgets) (0.18.0)\n",
            "Requirement already satisfied: websocket-client in /usr/local/lib/python3.10/dist-packages (from jupyter-server>=1.8->nbclassic>=0.4.7->notebook>=4.4.1->widgetsnbextension~=3.6.0->ipywidgets) (1.7.0)\n",
            "Requirement already satisfied: cffi>=1.0.1 in /usr/local/lib/python3.10/dist-packages (from argon2-cffi-bindings->argon2-cffi->notebook>=4.4.1->widgetsnbextension~=3.6.0->ipywidgets) (1.16.0)\n",
            "Requirement already satisfied: webencodings in /usr/local/lib/python3.10/dist-packages (from bleach->nbconvert>=5->notebook>=4.4.1->widgetsnbextension~=3.6.0->ipywidgets) (0.5.1)\n",
            "Requirement already satisfied: pycparser in /usr/local/lib/python3.10/dist-packages (from cffi>=1.0.1->argon2-cffi-bindings->argon2-cffi->notebook>=4.4.1->widgetsnbextension~=3.6.0->ipywidgets) (2.21)\n",
            "Building wheels for collected packages: langdetect\n",
            "  Building wheel for langdetect (setup.py) ... \u001b[?25l\u001b[?25hdone\n",
            "  Created wheel for langdetect: filename=langdetect-1.0.9-py3-none-any.whl size=993227 sha256=381c6ec17196cd4f11f7ec7024577e5a728144a3432a844b062dbe7902c61523\n",
            "  Stored in directory: /root/.cache/pip/wheels/95/03/7d/59ea870c70ce4e5a370638b5462a7711ab78fba2f655d05106\n",
            "Successfully built langdetect\n",
            "Installing collected packages: filetype, dirtyjson, xxhash, rapidfuzz, python-magic, python-iso639, pypdf, packaging, orjson, ordered-set, mypy-extensions, langdetect, jsonpointer, jsonpath-python, jedi, hyperframe, hpack, h11, geomet, emoji, dill, deprecated, backoff, typing-inspect, tiktoken, multiprocess, marshmallow, jsonpatch, httpcore, h2, deprecation, deepdiff, cassandra-driver, langsmith, httpx, dataclasses-json, cassio, unstructured-client, openai, langchain-core, datasets, unstructured, llama-index, langchain-text-splitters, langchain-openai, langchain-community, astrapy, llama-parse, langchain-astradb, langchain, ragstack-ai\n",
            "  Attempting uninstall: packaging\n",
            "    Found existing installation: packaging 24.0\n",
            "    Uninstalling packaging-24.0:\n",
            "      Successfully uninstalled packaging-24.0\n",
            "Successfully installed astrapy-0.7.7 backoff-2.2.1 cassandra-driver-3.29.1 cassio-0.1.5 dataclasses-json-0.6.4 datasets-2.18.0 deepdiff-6.7.1 deprecated-1.2.14 deprecation-2.1.0 dill-0.3.8 dirtyjson-1.0.8 emoji-2.10.1 filetype-1.2.0 geomet-0.2.1.post1 h11-0.14.0 h2-4.1.0 hpack-4.0.0 httpcore-1.0.4 httpx-0.27.0 hyperframe-6.0.1 jedi-0.19.1 jsonpatch-1.33 jsonpath-python-1.0.6 jsonpointer-2.4 langchain-0.1.12 langchain-astradb-0.1.0 langchain-community-0.0.28 langchain-core-0.1.31 langchain-openai-0.0.8 langchain-text-splitters-0.0.1 langdetect-1.0.9 langsmith-0.1.31 llama-index-0.9.48 llama-parse-0.1.4 marshmallow-3.21.1 multiprocess-0.70.16 mypy-extensions-1.0.0 openai-1.14.3 ordered-set-4.1.0 orjson-3.9.15 packaging-23.2 pypdf-4.1.0 python-iso639-2024.2.7 python-magic-0.4.27 ragstack-ai-0.10.0 rapidfuzz-3.7.0 tiktoken-0.6.0 typing-inspect-0.9.0 unstructured-0.12.5 unstructured-client-0.22.0 xxhash-3.4.1\n"
          ]
        }
      ],
      "execution_count": null,
      "metadata": {
        "nbmake": {
          "post_cell_execute": [
            "import os\n",
            "ASTRA_DB_API_ENDPOINT = os.environ[\"ASTRA_DB_API_ENDPOINT\"]\n",
            "ASTRA_DB_APPLICATION_TOKEN = os.environ[\"ASTRA_DB_APPLICATION_TOKEN\"]\n",
            "ASTRA_DB_ID = os.environ[\"ASTRA_DB_ID\"]\n",
            "ASTRA_DB_KEYSPACE = os.getenv(\"ASTRA_DB_KEYSPACE\")"
          ]
        },
        "gather": {
          "logged": 1708978231448
        },
        "id": "8d00fcf4-9798-4289-9214-d9734690adfc",
        "colab": {
          "base_uri": "https://localhost:8080/"
        },
        "outputId": "f4508dad-0334-4127-9694-6a1decbb6ea7"
      },
      "id": "8d00fcf4-9798-4289-9214-d9734690adfc"
    },
    {
      "cell_type": "code",
      "source": [
        "from datasets import load_dataset\n",
        "\n",
        "import langchain\n",
        "from langchain.chat_models import ChatOpenAI\n",
        "from langchain.document_loaders import PyPDFLoader\n",
        "from langchain.embeddings import OpenAIEmbeddings\n",
        "from langchain.prompts import ChatPromptTemplate\n",
        "from langchain.schema import Document\n",
        "from langchain.schema.output_parser import StrOutputParser\n",
        "from langchain.schema.runnable import RunnablePassthrough\n",
        "from langchain.text_splitter import RecursiveCharacterTextSplitter"
      ],
      "outputs": [],
      "execution_count": null,
      "metadata": {
        "gather": {
          "logged": 1708989935187
        },
        "id": "b06619af-fea2-4863-8149-7f239a8c9c82"
      },
      "id": "b06619af-fea2-4863-8149-7f239a8c9c82"
    },
    {
      "cell_type": "markdown",
      "source": [
        "##### Paste your OpenAI API key into the prompt"
      ],
      "metadata": {
        "nteract": {
          "transient": {
            "deleting": false
          }
        },
        "id": "6e68452e-df58-485a-a1b3-5778a5cd8f7f"
      },
      "id": "6e68452e-df58-485a-a1b3-5778a5cd8f7f"
    },
    {
      "cell_type": "code",
      "source": [
        "os.environ[\"OPENAI_API_KEY\"] = getpass(\"OPENAI_API_KEY = \")"
      ],
      "outputs": [
        {
          "name": "stdout",
          "output_type": "stream",
          "text": [
            "OPENAI_API_KEY = ··········\n"
          ]
        }
      ],
      "execution_count": null,
      "metadata": {
        "tags": [
          "skip-execution"
        ],
        "gather": {
          "logged": 1708989942339
        },
        "id": "1983f1da-0ae7-4a9b-bf4c-4ade328f7a3a",
        "colab": {
          "base_uri": "https://localhost:8080/"
        },
        "outputId": "ed0fd28d-ccb2-4384-b617-95bca528a9e6"
      },
      "id": "1983f1da-0ae7-4a9b-bf4c-4ade328f7a3a"
    },
    {
      "cell_type": "code",
      "source": [
        "embe = OpenAIEmbeddings()"
      ],
      "outputs": [
        {
          "output_type": "stream",
          "name": "stderr",
          "text": [
            "/usr/local/lib/python3.10/dist-packages/langchain_core/_api/deprecation.py:117: LangChainDeprecationWarning: The class `langchain_community.embeddings.openai.OpenAIEmbeddings` was deprecated in langchain-community 0.0.9 and will be removed in 0.2.0. An updated version of the class exists in the langchain-openai package and should be used instead. To use it run `pip install -U langchain-openai` and import as `from langchain_openai import OpenAIEmbeddings`.\n",
            "  warn_deprecated(\n"
          ]
        }
      ],
      "execution_count": null,
      "metadata": {
        "gather": {
          "logged": 1708989945010
        },
        "id": "c656df06-e938-4bc5-b570-440b8b7a0189",
        "outputId": "9553872f-27a4-4f30-e930-c338c94c88d3",
        "colab": {
          "base_uri": "https://localhost:8080/"
        }
      },
      "id": "c656df06-e938-4bc5-b570-440b8b7a0189"
    },
    {
      "cell_type": "markdown",
      "source": [
        "## DataStax Enterprise 7 Session\n",
        "`RAGStack` includes LangChain modules for both vector similarity search and vector database operations. Here we will `IMPORT` the `Cassandra` vector store library, which includes DataStax Enterprise functionality."
      ],
      "metadata": {
        "id": "22866f09-e10d-4f05-a24b-b9420129462e"
      },
      "id": "22866f09-e10d-4f05-a24b-b9420129462e"
    },
    {
      "cell_type": "code",
      "source": [
        "from langchain.vectorstores import Cassandra"
      ],
      "outputs": [],
      "execution_count": null,
      "metadata": {
        "gather": {
          "logged": 1708989948037
        },
        "id": "0b32730d-176e-414c-9d91-fd3644c54211"
      },
      "id": "0b32730d-176e-414c-9d91-fd3644c54211"
    },
    {
      "cell_type": "markdown",
      "source": [
        "### Retrieve DSE Cluster superuser password and input into the prompt\n"
      ],
      "metadata": {
        "nteract": {
          "transient": {
            "deleting": false
          }
        },
        "id": "3c74216c-2e83-42aa-a204-9d675a2b238c"
      },
      "id": "3c74216c-2e83-42aa-a204-9d675a2b238c"
    },
    {
      "cell_type": "code",
      "source": [
        "cass_pass = getpass(\"GKE Superuser Password = \")"
      ],
      "outputs": [
        {
          "name": "stdout",
          "output_type": "stream",
          "text": [
            "GKE Superuser Password = ··········\n"
          ]
        }
      ],
      "execution_count": null,
      "metadata": {
        "jupyter": {
          "source_hidden": false,
          "outputs_hidden": false
        },
        "nteract": {
          "transient": {
            "deleting": false
          }
        },
        "gather": {
          "logged": 1708989977358
        },
        "id": "3f37f54a-c4d1-4bb7-b3a9-f2c1e73d038b",
        "colab": {
          "base_uri": "https://localhost:8080/"
        },
        "outputId": "21369000-ba67-44bf-c2b1-96ae1320763a"
      },
      "id": "3f37f54a-c4d1-4bb7-b3a9-f2c1e73d038b"
    },
    {
      "cell_type": "code",
      "source": [
        "print(cass_pass)"
      ],
      "outputs": [
        {
          "output_type": "stream",
          "name": "stdout",
          "text": [
            "datastax\n"
          ]
        }
      ],
      "execution_count": null,
      "metadata": {
        "jupyter": {
          "source_hidden": false,
          "outputs_hidden": false
        },
        "nteract": {
          "transient": {
            "deleting": false
          }
        },
        "gather": {
          "logged": 1708989979169
        },
        "id": "0570778f-d476-4399-8f3f-c2966fd74068",
        "outputId": "543723ed-5bed-4ef5-c0d6-1db918fd1843",
        "colab": {
          "base_uri": "https://localhost:8080/"
        }
      },
      "id": "0570778f-d476-4399-8f3f-c2966fd74068"
    },
    {
      "cell_type": "code",
      "source": [
        "from cassandra.cluster import Cluster, PlainTextAuthProvider\n",
        "from cassandra.policies import AddressTranslator\n",
        "\n",
        "\n",
        "class ContactPointAddressTranslator(AddressTranslator):\n",
        "\n",
        "    def get_contact_point(self):\n",
        "        return self.contact_point\n",
        "\n",
        "    def set_contact_point(self, contact_point):\n",
        "        # strip ports from both source and destination as the cassandra python\n",
        "        # client doesn't appear to support ports translation\n",
        "        self.contact_point = contact_point\n",
        "\n",
        "    def translate(self, addr):\n",
        "        return self.contact_point\n",
        "\n",
        "if __name__ == '__main__':\n",
        "    username = \"test-superuser\"\n",
        "    password = \"datastax\"\n",
        "    translator = ContactPointAddressTranslator()\n",
        "    translator.set_contact_point(\"34.133.121.172\")\n",
        "\n",
        "    auth_provider = PlainTextAuthProvider(\n",
        "                                username=username,\n",
        "                                password=password\n",
        "                                )\n",
        "\n",
        "    # if the port parameter value is removed from below, we are unable\n",
        "    # to establish a connection\n",
        "\n",
        "    cluster = Cluster([translator.get_contact_point()],\n",
        "                      address_translator = translator,\n",
        "                      auth_provider = auth_provider,\n",
        "                      port = 9042\n",
        "                      )\n",
        "\n",
        "    session = cluster.connect()\n",
        "\n"
      ],
      "outputs": [
        {
          "output_type": "stream",
          "name": "stderr",
          "text": [
            "WARNING:cassandra.cluster:Cluster.__init__ called with contact_points specified, but no load_balancing_policy. In the next major version, this will raise an error; please specify a load-balancing policy. (contact_points = ['34.133.121.172'], lbp = None)\n",
            "WARNING:cassandra.cluster:Downgrading core protocol version from 66 to 65 for 34.133.121.172:9042. To avoid this, it is best practice to explicitly set Cluster(protocol_version) to the version supported by your cluster. http://datastax.github.io/python-driver/api/cassandra/cluster.html#cassandra.cluster.Cluster.protocol_version\n",
            "WARNING:cassandra.cluster:Downgrading core protocol version from 65 to 5 for 34.133.121.172:9042. To avoid this, it is best practice to explicitly set Cluster(protocol_version) to the version supported by your cluster. http://datastax.github.io/python-driver/api/cassandra/cluster.html#cassandra.cluster.Cluster.protocol_version\n",
            "WARNING:cassandra.cluster:Found multiple hosts with the same endpoint (34.133.121.172:9042). Excluding peer 10.32.6.8\n",
            "WARNING:cassandra.cluster:Found multiple hosts with the same endpoint (34.133.121.172:9042). Excluding peer 10.32.11.11\n"
          ]
        }
      ],
      "execution_count": null,
      "metadata": {
        "jupyter": {
          "source_hidden": false,
          "outputs_hidden": false
        },
        "nteract": {
          "transient": {
            "deleting": false
          }
        },
        "gather": {
          "logged": 1708990013298
        },
        "id": "eaaa8005-1ecf-4f81-9146-d46ca33bdcfa",
        "colab": {
          "base_uri": "https://localhost:8080/"
        },
        "outputId": "98b7f0d9-b553-4562-dd92-1d0839d7846c"
      },
      "id": "eaaa8005-1ecf-4f81-9146-d46ca33bdcfa"
    },
    {
      "cell_type": "code",
      "source": [
        "# Create a keyspace in the DSE 7 cluster\n",
        "session.execute(\"CREATE KEYSPACE IF NOT EXISTS default_keyspace WITH REPLICATION = { 'class' : 'SimpleStrategy', 'replication_factor' : 3 };\")"
      ],
      "outputs": [
        {
          "output_type": "execute_result",
          "data": {
            "text/plain": [
              "<cassandra.cluster.ResultSet at 0x7da189a4b430>"
            ]
          },
          "metadata": {},
          "execution_count": 12
        }
      ],
      "execution_count": null,
      "metadata": {
        "jupyter": {
          "source_hidden": false,
          "outputs_hidden": false
        },
        "nteract": {
          "transient": {
            "deleting": false
          }
        },
        "gather": {
          "logged": 1708981649759
        },
        "id": "ff15797f-8555-4124-8445-41b3f7488997",
        "colab": {
          "base_uri": "https://localhost:8080/"
        },
        "outputId": "e4f42798-5272-4244-983b-624379495751"
      },
      "id": "ff15797f-8555-4124-8445-41b3f7488997"
    },
    {
      "cell_type": "code",
      "source": [
        "import cassio\n",
        "\n",
        "cassio.init(session=session, keyspace=\"default_keyspace\")"
      ],
      "outputs": [],
      "execution_count": null,
      "metadata": {
        "jupyter": {
          "source_hidden": false,
          "outputs_hidden": false
        },
        "nteract": {
          "transient": {
            "deleting": false
          }
        },
        "gather": {
          "logged": 1708990016644
        },
        "id": "97a32e0e-f006-4fec-9b1d-44f7cd410b42"
      },
      "id": "97a32e0e-f006-4fec-9b1d-44f7cd410b42"
    },
    {
      "cell_type": "code",
      "source": [
        "#Create the LangChain vector store object\n",
        "vstore = Cassandra(\n",
        "    embedding=embe, table_name=\"cassandra_vector_demo\", session=None, keyspace=None\n",
        ")"
      ],
      "outputs": [],
      "execution_count": null,
      "metadata": {
        "jupyter": {
          "source_hidden": false,
          "outputs_hidden": false
        },
        "nteract": {
          "transient": {
            "deleting": false
          }
        },
        "gather": {
          "logged": 1708990020313
        },
        "id": "ed91c25b-0814-4424-ab05-3c7f4ea7e96d"
      },
      "id": "ed91c25b-0814-4424-ab05-3c7f4ea7e96d"
    },
    {
      "cell_type": "markdown",
      "source": [
        "### Load A Dataset\n",
        "Convert each entry in the source dataset into a `Document`, then write them into the vector store:"
      ],
      "metadata": {
        "id": "9a348678-b2f6-46ca-9a0d-2eb4cc6b66b1"
      },
      "id": "9a348678-b2f6-46ca-9a0d-2eb4cc6b66b1"
    },
    {
      "cell_type": "code",
      "source": [
        "philo_dataset = load_dataset(\"datastax/philosopher-quotes\")[\"train\"]\n",
        "\n",
        "docs = []\n",
        "for entry in philo_dataset:\n",
        "    metadata = {\"author\": entry[\"author\"]}\n",
        "    doc = Document(page_content=entry[\"quote\"], metadata=metadata)\n",
        "    docs.append(doc)\n",
        "\n",
        "inserted_ids = vstore.add_documents(docs)\n",
        "print(f\"\\nInserted {len(inserted_ids)} documents.\")"
      ],
      "outputs": [
        {
          "output_type": "stream",
          "name": "stderr",
          "text": [
            "/usr/local/lib/python3.10/dist-packages/huggingface_hub/utils/_token.py:88: UserWarning: \n",
            "The secret `HF_TOKEN` does not exist in your Colab secrets.\n",
            "To authenticate with the Hugging Face Hub, create a token in your settings tab (https://huggingface.co/settings/tokens), set it as secret in your Google Colab and restart your session.\n",
            "You will be able to reuse this secret in all of your notebooks.\n",
            "Please note that authentication is recommended but still optional to access public models or datasets.\n",
            "  warnings.warn(\n"
          ]
        },
        {
          "output_type": "display_data",
          "data": {
            "text/plain": [
              "Downloading readme:   0%|          | 0.00/574 [00:00<?, ?B/s]"
            ],
            "application/vnd.jupyter.widget-view+json": {
              "version_major": 2,
              "version_minor": 0,
              "model_id": "1a13358279ca4640a320ae27caa8ef60"
            }
          },
          "metadata": {}
        },
        {
          "output_type": "display_data",
          "data": {
            "text/plain": [
              "Downloading data:   0%|          | 0.00/67.6k [00:00<?, ?B/s]"
            ],
            "application/vnd.jupyter.widget-view+json": {
              "version_major": 2,
              "version_minor": 0,
              "model_id": "b75006f8ad1f495aa1f3e4e2b7440f05"
            }
          },
          "metadata": {}
        },
        {
          "output_type": "display_data",
          "data": {
            "text/plain": [
              "Generating train split: 0 examples [00:00, ? examples/s]"
            ],
            "application/vnd.jupyter.widget-view+json": {
              "version_major": 2,
              "version_minor": 0,
              "model_id": "a3a2ef5c20cf455fbd08139b45164f9d"
            }
          },
          "metadata": {}
        },
        {
          "output_type": "stream",
          "name": "stdout",
          "text": [
            "\n",
            "Inserted 450 documents.\n"
          ]
        }
      ],
      "execution_count": null,
      "metadata": {
        "nbmake": {
          "post_cell_execute": [
            "assert len(inserted_ids) > 0"
          ]
        },
        "gather": {
          "logged": 1708990031340
        },
        "id": "3a1f532f-ad63-4256-9730-a183841bd8e9",
        "outputId": "1e73a8dd-c53d-4cd8-90ab-d8e1a3004f84",
        "colab": {
          "base_uri": "https://localhost:8080/",
          "height": 276,
          "referenced_widgets": [
            "1a13358279ca4640a320ae27caa8ef60",
            "e5b6a4876c9142f3926de6a01ce412e1",
            "ff1f71426e2f4a018e6e1642b0c44bb0",
            "7913e2f9c13d4f3cb7eec9b553ad2833",
            "fd61f83449f444e680f4b5e09f35e46e",
            "1dd29142593e48fbafc0afae7dca1951",
            "7300c389de5e4fb69d9abbd95587ff95",
            "f19cb76deb9447678ce11a25bce12ec9",
            "dc397e0b464343ffa579e5ab1ce267ae",
            "b08456eab5af4653b3a165f7b7507101",
            "f980c6720a4d47ac821664b2e6d3f721",
            "b75006f8ad1f495aa1f3e4e2b7440f05",
            "a561e6c74f704bf6b77d83c04f6a515a",
            "4def0f73f713473eb3d95015ef4634b7",
            "79b9a6606d0945a28ed2c8a039d39272",
            "5bc34b07d00441c683ee9c838689b56a",
            "65e0004e959e48179ef186f41af458e3",
            "e9ade96985d74d8d86f0f1a85269db26",
            "71b849ad6ecb4df5bd431497e142f04f",
            "d18e8ba8f3e143eeb178f39d194000c0",
            "7b48b2b013944e3593d663fbf3eb9f1e",
            "575c3691c7264a688fdd660019db58de",
            "a3a2ef5c20cf455fbd08139b45164f9d",
            "beb3cadb5de0461d8581beffb10c241b",
            "69e93c982f5846a5bf6cf2a60005dbed",
            "36afec9d703940589e3208568eca89ff",
            "90feaa389a06462cbdf5165b9308ebd6",
            "11d2a65f2984440f8b17e148dd75b921",
            "051923fd22164294a239a1dc38b10b76",
            "2c270f65be4e468181d04b14600447af",
            "780ccf403ed54e32aa25749e7b6dc348",
            "416f39bcec6d4842a22a0873d80ddefd",
            "93f622149a13466b86589ec3fd344783"
          ]
        }
      },
      "id": "3a1f532f-ad63-4256-9730-a183841bd8e9"
    },
    {
      "cell_type": "markdown",
      "source": [
        "In the above, `metadata` dictionaries are created from the source data and are part of the `Document`.\n",
        "\n",
        "_Note: check the [Astra DB API Docs](https://docs.datastax.com/en/astra-serverless/docs/develop/dev-with-json.html#_json_api_limits) for the valid metadata field names: some characters are reserved and cannot be used._"
      ],
      "metadata": {
        "id": "79d4f436-ef04-4288-8f79-97c9abb983ed"
      },
      "id": "79d4f436-ef04-4288-8f79-97c9abb983ed"
    },
    {
      "cell_type": "code",
      "source": [
        "texts = [\"I think, therefore I am.\", \"To the things themselves!\"]\n",
        "metadatas = [{\"author\": \"descartes\"}, {\"author\": \"husserl\"}]\n",
        "ids = [\"desc_01\", \"huss_xy\"]\n",
        "\n",
        "inserted_ids_2 = vstore.add_texts(texts=texts, metadatas=metadatas, ids=ids)\n",
        "print(f\"\\nInserted {len(inserted_ids_2)} documents.\")"
      ],
      "outputs": [
        {
          "output_type": "stream",
          "name": "stdout",
          "text": [
            "\n",
            "Inserted 2 documents.\n"
          ]
        }
      ],
      "execution_count": null,
      "metadata": {
        "nbmake": {
          "post_cell_execute": [
            "assert len(inserted_ids_2) > 0"
          ]
        },
        "gather": {
          "logged": 1708990071166
        },
        "id": "b6b157f5-eb31-4907-a78e-2e2b06893936",
        "outputId": "d0172262-7321-4bde-8a5b-2c6248993c2e",
        "colab": {
          "base_uri": "https://localhost:8080/"
        }
      },
      "id": "b6b157f5-eb31-4907-a78e-2e2b06893936"
    },
    {
      "cell_type": "markdown",
      "source": [
        "_Note: you may want to speed up the execution of `add_texts` and `add_documents` by increasing the concurrency level for_\n",
        "_these bulk operations - check out the `*_concurrency` parameters in the class constructor and the `add_texts` docstrings_\n",
        "_for more details. Depending on the network and the client machine specifications, your best-performing choice of parameters may vary._\n",
        "### Run simple searches\n",
        "This section demonstrates metadata filtering and getting the similarity scores back:"
      ],
      "metadata": {
        "id": "c031760a-1fc5-4855-adf2-02ed52fe2181"
      },
      "id": "c031760a-1fc5-4855-adf2-02ed52fe2181"
    },
    {
      "cell_type": "code",
      "source": [
        "results = vstore.similarity_search(\"Our life is what we make of it\", k=3)\n",
        "for res in results:\n",
        "    print(f\"* {res.page_content} [{res.metadata}]\")"
      ],
      "outputs": [
        {
          "output_type": "stream",
          "name": "stdout",
          "text": [
            "* We are what we are because we have been what we have been. [{'author': 'freud'}]\n",
            "* We are what we are because we have been what we have been. [{'author': 'freud'}]\n",
            "* We become what we contemplate. [{'author': 'plato'}]\n"
          ]
        }
      ],
      "execution_count": null,
      "metadata": {
        "nbmake": {
          "post_cell_execute": [
            "assert len(results) > 0"
          ]
        },
        "gather": {
          "logged": 1708990076375
        },
        "id": "1761806a-1afd-4491-867c-25a80d92b9fe",
        "outputId": "3e3d1e41-6466-4f73-f51a-25c17a3fe1f0",
        "colab": {
          "base_uri": "https://localhost:8080/"
        }
      },
      "id": "1761806a-1afd-4491-867c-25a80d92b9fe"
    },
    {
      "cell_type": "code",
      "source": [
        "results_filtered = vstore.similarity_search(\n",
        "    \"Our life is what we make of it\",\n",
        "    k=3,\n",
        "    filter={\"author\": \"plato\"},\n",
        ")\n",
        "for res in results_filtered:\n",
        "    print(f\"* {res.page_content} [{res.metadata}]\")"
      ],
      "outputs": [
        {
          "output_type": "stream",
          "name": "stdout",
          "text": [
            "* We become what we contemplate. [{'author': 'plato'}]\n",
            "* We become what we contemplate. [{'author': 'plato'}]\n",
            "* Enjoy life. There's plenty of time to be dead. Be kind, for everyone you meet is fighting a harder battle. [{'author': 'plato'}]\n"
          ]
        }
      ],
      "execution_count": null,
      "metadata": {
        "nbmake": {
          "post_cell_execute": [
            "assert len(results_filtered) > 0"
          ]
        },
        "gather": {
          "logged": 1708990188879
        },
        "id": "eebc4f7c-f61a-438e-b3c8-17e6888d8a0b",
        "outputId": "d075bfc6-4d70-4fa2-e334-c8075b9f9df7",
        "colab": {
          "base_uri": "https://localhost:8080/"
        }
      },
      "id": "eebc4f7c-f61a-438e-b3c8-17e6888d8a0b"
    },
    {
      "cell_type": "code",
      "source": [
        "results = vstore.similarity_search_with_score(\"Our life is what we make of it\", k=3)\n",
        "for res, score in results:\n",
        "    print(f\"* [SIM={score:3f}] {res.page_content} [{res.metadata}]\")"
      ],
      "outputs": [
        {
          "output_type": "stream",
          "name": "stdout",
          "text": [
            "* [SIM=0.933975] We are what we are because we have been what we have been. [{'author': 'freud'}]\n",
            "* [SIM=0.933975] We are what we are because we have been what we have been. [{'author': 'freud'}]\n",
            "* [SIM=0.931945] We become what we contemplate. [{'author': 'plato'}]\n"
          ]
        }
      ],
      "execution_count": null,
      "metadata": {
        "nbmake": {
          "post_cell_execute": [
            "assert len(results) > 0"
          ]
        },
        "gather": {
          "logged": 1708990206057
        },
        "id": "11bbfe64-c0cd-40c6-866a-a5786538450e",
        "outputId": "99136861-ee90-4e93-9180-b253e85c693e",
        "colab": {
          "base_uri": "https://localhost:8080/"
        }
      },
      "id": "11bbfe64-c0cd-40c6-866a-a5786538450e"
    },
    {
      "cell_type": "markdown",
      "source": [
        "### MMR (Maximal-marginal-relevance) search"
      ],
      "metadata": {
        "id": "b14ea558-bfbe-41ce-807e-d70670060ada"
      },
      "id": "b14ea558-bfbe-41ce-807e-d70670060ada"
    },
    {
      "cell_type": "code",
      "source": [
        "results = vstore.max_marginal_relevance_search(\n",
        "    \"Our life is what we make of it\",\n",
        "    k=3,\n",
        "    filter={\"author\": \"aristotle\"},\n",
        ")\n",
        "for res in results:\n",
        "    print(f\"* {res.page_content} [{res.metadata}]\")"
      ],
      "outputs": [
        {
          "output_type": "stream",
          "name": "stdout",
          "text": [
            "* The quality of life is determined by its activities. [{'author': 'aristotle'}]\n",
            "* You are what you repeatedly do [{'author': 'aristotle'}]\n",
            "* The man who is truly good and wise will bear with dignity whatever fortune sends, and will always make the best of his circumstances. [{'author': 'aristotle'}]\n"
          ]
        }
      ],
      "execution_count": null,
      "metadata": {
        "nbmake": {
          "post_cell_execute": [
            "assert len(results) > 0"
          ]
        },
        "gather": {
          "logged": 1708990196307
        },
        "id": "76381ce8-780a-4e3b-97b1-056d6782d7d5",
        "outputId": "5eb4ab1f-4f58-49af-c6d2-59a62f4a7dac",
        "colab": {
          "base_uri": "https://localhost:8080/"
        }
      },
      "id": "76381ce8-780a-4e3b-97b1-056d6782d7d5"
    },
    {
      "cell_type": "markdown",
      "source": [
        "### Deleting stored documents"
      ],
      "metadata": {
        "id": "1cc86edd-692b-4495-906c-ccfd13b03c23"
      },
      "id": "1cc86edd-692b-4495-906c-ccfd13b03c23"
    },
    {
      "cell_type": "code",
      "source": [
        "delete_1 = vstore.delete(inserted_ids[:3])\n",
        "print(f\"all_succeed={delete_1}\")  # True, all documents deleted"
      ],
      "outputs": [
        {
          "output_type": "stream",
          "name": "stdout",
          "text": [
            "all_succeed=True\n"
          ]
        }
      ],
      "execution_count": null,
      "metadata": {
        "nbmake": {
          "post_cell_execute": [
            "assert delete_1 is True"
          ]
        },
        "gather": {
          "logged": 1708981791216
        },
        "id": "38a70ec4-b522-4d32-9ead-c642864fca37",
        "colab": {
          "base_uri": "https://localhost:8080/"
        },
        "outputId": "a6f2cc7e-a617-4b3a-e246-2ee4977e8cfa"
      },
      "id": "38a70ec4-b522-4d32-9ead-c642864fca37"
    },
    {
      "cell_type": "code",
      "source": [
        "delete_2 = vstore.delete(inserted_ids[2:5])\n",
        "print(f\"some_succeeds={delete_2}\")  # True, though some IDs were gone already"
      ],
      "outputs": [
        {
          "output_type": "stream",
          "name": "stdout",
          "text": [
            "some_succeeds=True\n"
          ]
        }
      ],
      "execution_count": null,
      "metadata": {
        "nbmake": {
          "post_cell_execute": [
            "assert delete_2 is True"
          ]
        },
        "gather": {
          "logged": 1708981797523
        },
        "id": "d4cf49ed-9d29-4ed9-bdab-51a308c41b8e",
        "colab": {
          "base_uri": "https://localhost:8080/"
        },
        "outputId": "37b3baf0-49b1-444f-ee41-7a76d102b9f2"
      },
      "id": "d4cf49ed-9d29-4ed9-bdab-51a308c41b8e"
    },
    {
      "cell_type": "markdown",
      "source": [
        "### Running A Minimal RAG Chain\n",
        "The next cells will implement a simple RAG pipeline:\n",
        "- download a sample PDF file and load it onto the store;\n",
        "- create a RAG chain with LCEL (LangChain Expression Language), with the vector store at its heart;\n",
        "- run the question-answering chain."
      ],
      "metadata": {
        "id": "847181ba-77d1-4a17-b7f9-9e2c3d8efd13"
      },
      "id": "847181ba-77d1-4a17-b7f9-9e2c3d8efd13"
    },
    {
      "cell_type": "code",
      "source": [
        "!curl -L \\\n",
        "\"https://github.com/awesome-astra/datasets/blob/main/demo-resources/what-is-philosophy/what-is-philosophy.pdf?raw=true\" \\\n",
        "\"-o what-is-philosophy.pdf\""
      ],
      "outputs": [
        {
          "output_type": "stream",
          "name": "stdout",
          "text": [
            "  % Total    % Received % Xferd  Average Speed   Time    Time     Time  Current\n",
            "                                 Dload  Upload   Total   Spent    Left  Speed\n",
            "\r  0     0    0     0    0     0      0      0 --:--:-- --:--:-- --:--:--     0\r  0     0    0     0    0     0      0      0 --:--:-- --:--:-- --:--:--     0\r  0     0    0     0    0     0      0      0 --:--:-- --:--:-- --:--:--     0\n",
            "  0     0    0     0    0     0      0      0 --:--:-- --:--:-- --:--:--     0\n",
            "100 55220  100 55220    0     0   113k      0 --:--:-- --:--:-- --:--:--  113k\n"
          ]
        }
      ],
      "execution_count": null,
      "metadata": {
        "gather": {
          "logged": 1708981806811
        },
        "id": "5cbc4dba-0d5e-4038-8fc5-de6cadd1c2a9",
        "colab": {
          "base_uri": "https://localhost:8080/"
        },
        "outputId": "49a32d88-eb2e-4957-e84e-a308d906bf43"
      },
      "id": "5cbc4dba-0d5e-4038-8fc5-de6cadd1c2a9"
    },
    {
      "cell_type": "code",
      "source": [
        "#Load the PDF file\n",
        "#pdf_loader = PyPDFLoader(\"what-is-philosophy.pdf\")\n",
        "\n",
        "import os\n",
        "\n",
        "!mv '/content/ what-is-philosophy.pdf' '/content/what-is-philosophy.pdf'\n",
        "\n",
        "# Assuming 'what-is-philosophy.pdf' is in the current working directory\n",
        "file_path = os.path.join(os.getcwd(),\"what-is-philosophy.pdf\")\n",
        "print(file_path)\n",
        "\n",
        "!ls \"/content\"  # Or adjust the path to where you expect the file to be.\n",
        "\n",
        "\n",
        "pdf_loader = PyPDFLoader(file_path)\n",
        "\n",
        "#Create document chunks & embeddings\n",
        "splitter = RecursiveCharacterTextSplitter(chunk_size=512, chunk_overlap=64)\n",
        "docs_from_pdf = pdf_loader.load_and_split(text_splitter=splitter)\n",
        "\n",
        "print(f\"Documents from PDF: {len(docs_from_pdf)}.\")\n",
        "inserted_ids_from_pdf = vstore.add_documents(docs_from_pdf)\n",
        "print(f\"Inserted {len(inserted_ids_from_pdf)} documents.\")"
      ],
      "outputs": [
        {
          "output_type": "stream",
          "name": "stdout",
          "text": [
            "/content/what-is-philosophy.pdf\n",
            "sample_data  what-is-philosophy.pdf\n",
            "Documents from PDF: 38.\n",
            "Inserted 38 documents.\n"
          ]
        }
      ],
      "execution_count": null,
      "metadata": {
        "nbmake": {
          "post_cell_execute": [
            "assert len(docs_from_pdf) > 0\n",
            "assert len(inserted_ids_from_pdf) > 0"
          ]
        },
        "gather": {
          "logged": 1708981813217
        },
        "id": "459385be-5e9c-47ff-ba53-2b7ae6166b09",
        "colab": {
          "base_uri": "https://localhost:8080/"
        },
        "outputId": "b20699e2-e258-4a6e-8e43-f5946f7b7c8c"
      },
      "id": "459385be-5e9c-47ff-ba53-2b7ae6166b09"
    },
    {
      "cell_type": "code",
      "source": [
        "#Create the prompt and chain\n",
        "retriever = vstore.as_retriever(search_kwargs={\"k\": 3})\n",
        "\n",
        "philo_template = \"\"\"\n",
        "You are a philosopher that draws inspiration from great thinkers of the past\n",
        "to craft well-thought answers to user questions. Use the provided context as the basis\n",
        "for your answers and do not make up new reasoning paths - just mix-and-match what you are given.\n",
        "Your answers must be concise and to the point, and refrain from answering about other topics than philosophy.\n",
        "\n",
        "CONTEXT:\n",
        "{context}\n",
        "\n",
        "QUESTION: {question}\n",
        "\n",
        "YOUR ANSWER:\"\"\"\n",
        "\n",
        "philo_prompt = ChatPromptTemplate.from_template(philo_template)\n",
        "\n",
        "llm = ChatOpenAI()\n",
        "\n",
        "chain = (\n",
        "    {\"context\": retriever, \"question\": RunnablePassthrough()}\n",
        "    | philo_prompt\n",
        "    | llm\n",
        "    | StrOutputParser()\n",
        ")"
      ],
      "outputs": [
        {
          "output_type": "stream",
          "name": "stderr",
          "text": [
            "/usr/local/lib/python3.10/dist-packages/langchain_core/_api/deprecation.py:117: LangChainDeprecationWarning: The class `langchain_community.chat_models.openai.ChatOpenAI` was deprecated in langchain-community 0.0.10 and will be removed in 0.2.0. An updated version of the class exists in the langchain-openai package and should be used instead. To use it run `pip install -U langchain-openai` and import as `from langchain_openai import ChatOpenAI`.\n",
            "  warn_deprecated(\n"
          ]
        }
      ],
      "execution_count": null,
      "metadata": {
        "gather": {
          "logged": 1708981820222
        },
        "id": "5010a66c-4298-4e32-82b5-2da0d36a5c70",
        "colab": {
          "base_uri": "https://localhost:8080/"
        },
        "outputId": "e1d48c17-40c3-4b2a-d554-55292d9fa0f8"
      },
      "id": "5010a66c-4298-4e32-82b5-2da0d36a5c70"
    },
    {
      "cell_type": "code",
      "source": [
        "#Run the whole chain and answer question\n",
        "chain.invoke(\"How does Russel elaborate on Peirce's idea of the security blanket?\")"
      ],
      "outputs": [
        {
          "output_type": "execute_result",
          "data": {
            "text/plain": [
              "\"Russell elaborates on Peirce's idea of the security blanket by describing how individuals without a philosophical mindset are confined by common prejudices and habitual beliefs, leading to a sense of imprisonment in their own perspectives. This lack of philosophical inquiry results in a clinging to comforting beliefs, which ultimately creates further anxiety and worry, turning the security blanket into a source of additional concern.\""
            ],
            "application/vnd.google.colaboratory.intrinsic+json": {
              "type": "string"
            }
          },
          "metadata": {},
          "execution_count": 43
        }
      ],
      "execution_count": null,
      "metadata": {
        "gather": {
          "logged": 1708981828470
        },
        "id": "fcbc1296-6c7c-478b-b55b-533ba4e54ddb",
        "colab": {
          "base_uri": "https://localhost:8080/",
          "height": 71
        },
        "outputId": "e319bce3-47f7-49ff-be1a-a43d26112219"
      },
      "id": "fcbc1296-6c7c-478b-b55b-533ba4e54ddb"
    },
    {
      "cell_type": "markdown",
      "source": [
        "### Cleanup\n",
        "If you want to completely delete the collection from your DSE7 instance, run this.\n",
        "\n",
        "_(You will lose the data you stored in it.)_"
      ],
      "metadata": {
        "id": "177610c7-50d0-4b7b-8634-b03338054c8e"
      },
      "id": "177610c7-50d0-4b7b-8634-b03338054c8e"
    },
    {
      "cell_type": "code",
      "source": [
        "vstore.delete_collection()"
      ],
      "outputs": [],
      "execution_count": null,
      "metadata": {
        "id": "fd405a13-6f71-46fa-87e6-167238e9c25e"
      },
      "id": "fd405a13-6f71-46fa-87e6-167238e9c25e"
    },
    {
      "cell_type": "markdown",
      "source": [
        "### Learn more"
      ],
      "metadata": {
        "id": "c10ece4d-ae06-42ab-baf4-4d0ac2051743"
      },
      "id": "c10ece4d-ae06-42ab-baf4-4d0ac2051743"
    },
    {
      "cell_type": "markdown",
      "source": [
        "For more information, extended quickstarts and additional usage examples, please visit the [CassIO documentation](https://cassio.org/frameworks/langchain/about/) for more on using the LangChain `Cassandra` vector store."
      ],
      "metadata": {
        "id": "51ea8b69-7e15-458f-85aa-9fa199f95f9c"
      },
      "id": "51ea8b69-7e15-458f-85aa-9fa199f95f9c"
    }
  ],
  "metadata": {
    "kernelspec": {
      "name": "python310-sdkv2",
      "language": "python",
      "display_name": "Python 3.10 - SDK v2"
    },
    "language_info": {
      "name": "python",
      "version": "3.10.11",
      "mimetype": "text/x-python",
      "codemirror_mode": {
        "name": "ipython",
        "version": 3
      },
      "pygments_lexer": "ipython3",
      "nbconvert_exporter": "python",
      "file_extension": ".py"
    },
    "microsoft": {
      "ms_spell_check": {
        "ms_spell_check_language": "en"
      },
      "host": {
        "AzureML": {
          "notebookHasBeenCompleted": true
        }
      }
    },
    "kernel_info": {
      "name": "python310-sdkv2"
    },
    "nteract": {
      "version": "nteract-front-end@1.0.0"
    },
    "colab": {
      "provenance": [],
      "include_colab_link": true
    },
    "widgets": {
      "application/vnd.jupyter.widget-state+json": {
        "1a13358279ca4640a320ae27caa8ef60": {
          "model_module": "@jupyter-widgets/controls",
          "model_name": "HBoxModel",
          "model_module_version": "1.5.0",
          "state": {
            "_dom_classes": [],
            "_model_module": "@jupyter-widgets/controls",
            "_model_module_version": "1.5.0",
            "_model_name": "HBoxModel",
            "_view_count": null,
            "_view_module": "@jupyter-widgets/controls",
            "_view_module_version": "1.5.0",
            "_view_name": "HBoxView",
            "box_style": "",
            "children": [
              "IPY_MODEL_e5b6a4876c9142f3926de6a01ce412e1",
              "IPY_MODEL_ff1f71426e2f4a018e6e1642b0c44bb0",
              "IPY_MODEL_7913e2f9c13d4f3cb7eec9b553ad2833"
            ],
            "layout": "IPY_MODEL_fd61f83449f444e680f4b5e09f35e46e"
          }
        },
        "e5b6a4876c9142f3926de6a01ce412e1": {
          "model_module": "@jupyter-widgets/controls",
          "model_name": "HTMLModel",
          "model_module_version": "1.5.0",
          "state": {
            "_dom_classes": [],
            "_model_module": "@jupyter-widgets/controls",
            "_model_module_version": "1.5.0",
            "_model_name": "HTMLModel",
            "_view_count": null,
            "_view_module": "@jupyter-widgets/controls",
            "_view_module_version": "1.5.0",
            "_view_name": "HTMLView",
            "description": "",
            "description_tooltip": null,
            "layout": "IPY_MODEL_1dd29142593e48fbafc0afae7dca1951",
            "placeholder": "​",
            "style": "IPY_MODEL_7300c389de5e4fb69d9abbd95587ff95",
            "value": "Downloading readme: 100%"
          }
        },
        "ff1f71426e2f4a018e6e1642b0c44bb0": {
          "model_module": "@jupyter-widgets/controls",
          "model_name": "FloatProgressModel",
          "model_module_version": "1.5.0",
          "state": {
            "_dom_classes": [],
            "_model_module": "@jupyter-widgets/controls",
            "_model_module_version": "1.5.0",
            "_model_name": "FloatProgressModel",
            "_view_count": null,
            "_view_module": "@jupyter-widgets/controls",
            "_view_module_version": "1.5.0",
            "_view_name": "ProgressView",
            "bar_style": "success",
            "description": "",
            "description_tooltip": null,
            "layout": "IPY_MODEL_f19cb76deb9447678ce11a25bce12ec9",
            "max": 574,
            "min": 0,
            "orientation": "horizontal",
            "style": "IPY_MODEL_dc397e0b464343ffa579e5ab1ce267ae",
            "value": 574
          }
        },
        "7913e2f9c13d4f3cb7eec9b553ad2833": {
          "model_module": "@jupyter-widgets/controls",
          "model_name": "HTMLModel",
          "model_module_version": "1.5.0",
          "state": {
            "_dom_classes": [],
            "_model_module": "@jupyter-widgets/controls",
            "_model_module_version": "1.5.0",
            "_model_name": "HTMLModel",
            "_view_count": null,
            "_view_module": "@jupyter-widgets/controls",
            "_view_module_version": "1.5.0",
            "_view_name": "HTMLView",
            "description": "",
            "description_tooltip": null,
            "layout": "IPY_MODEL_b08456eab5af4653b3a165f7b7507101",
            "placeholder": "​",
            "style": "IPY_MODEL_f980c6720a4d47ac821664b2e6d3f721",
            "value": " 574/574 [00:00&lt;00:00, 8.76kB/s]"
          }
        },
        "fd61f83449f444e680f4b5e09f35e46e": {
          "model_module": "@jupyter-widgets/base",
          "model_name": "LayoutModel",
          "model_module_version": "1.2.0",
          "state": {
            "_model_module": "@jupyter-widgets/base",
            "_model_module_version": "1.2.0",
            "_model_name": "LayoutModel",
            "_view_count": null,
            "_view_module": "@jupyter-widgets/base",
            "_view_module_version": "1.2.0",
            "_view_name": "LayoutView",
            "align_content": null,
            "align_items": null,
            "align_self": null,
            "border": null,
            "bottom": null,
            "display": null,
            "flex": null,
            "flex_flow": null,
            "grid_area": null,
            "grid_auto_columns": null,
            "grid_auto_flow": null,
            "grid_auto_rows": null,
            "grid_column": null,
            "grid_gap": null,
            "grid_row": null,
            "grid_template_areas": null,
            "grid_template_columns": null,
            "grid_template_rows": null,
            "height": null,
            "justify_content": null,
            "justify_items": null,
            "left": null,
            "margin": null,
            "max_height": null,
            "max_width": null,
            "min_height": null,
            "min_width": null,
            "object_fit": null,
            "object_position": null,
            "order": null,
            "overflow": null,
            "overflow_x": null,
            "overflow_y": null,
            "padding": null,
            "right": null,
            "top": null,
            "visibility": null,
            "width": null
          }
        },
        "1dd29142593e48fbafc0afae7dca1951": {
          "model_module": "@jupyter-widgets/base",
          "model_name": "LayoutModel",
          "model_module_version": "1.2.0",
          "state": {
            "_model_module": "@jupyter-widgets/base",
            "_model_module_version": "1.2.0",
            "_model_name": "LayoutModel",
            "_view_count": null,
            "_view_module": "@jupyter-widgets/base",
            "_view_module_version": "1.2.0",
            "_view_name": "LayoutView",
            "align_content": null,
            "align_items": null,
            "align_self": null,
            "border": null,
            "bottom": null,
            "display": null,
            "flex": null,
            "flex_flow": null,
            "grid_area": null,
            "grid_auto_columns": null,
            "grid_auto_flow": null,
            "grid_auto_rows": null,
            "grid_column": null,
            "grid_gap": null,
            "grid_row": null,
            "grid_template_areas": null,
            "grid_template_columns": null,
            "grid_template_rows": null,
            "height": null,
            "justify_content": null,
            "justify_items": null,
            "left": null,
            "margin": null,
            "max_height": null,
            "max_width": null,
            "min_height": null,
            "min_width": null,
            "object_fit": null,
            "object_position": null,
            "order": null,
            "overflow": null,
            "overflow_x": null,
            "overflow_y": null,
            "padding": null,
            "right": null,
            "top": null,
            "visibility": null,
            "width": null
          }
        },
        "7300c389de5e4fb69d9abbd95587ff95": {
          "model_module": "@jupyter-widgets/controls",
          "model_name": "DescriptionStyleModel",
          "model_module_version": "1.5.0",
          "state": {
            "_model_module": "@jupyter-widgets/controls",
            "_model_module_version": "1.5.0",
            "_model_name": "DescriptionStyleModel",
            "_view_count": null,
            "_view_module": "@jupyter-widgets/base",
            "_view_module_version": "1.2.0",
            "_view_name": "StyleView",
            "description_width": ""
          }
        },
        "f19cb76deb9447678ce11a25bce12ec9": {
          "model_module": "@jupyter-widgets/base",
          "model_name": "LayoutModel",
          "model_module_version": "1.2.0",
          "state": {
            "_model_module": "@jupyter-widgets/base",
            "_model_module_version": "1.2.0",
            "_model_name": "LayoutModel",
            "_view_count": null,
            "_view_module": "@jupyter-widgets/base",
            "_view_module_version": "1.2.0",
            "_view_name": "LayoutView",
            "align_content": null,
            "align_items": null,
            "align_self": null,
            "border": null,
            "bottom": null,
            "display": null,
            "flex": null,
            "flex_flow": null,
            "grid_area": null,
            "grid_auto_columns": null,
            "grid_auto_flow": null,
            "grid_auto_rows": null,
            "grid_column": null,
            "grid_gap": null,
            "grid_row": null,
            "grid_template_areas": null,
            "grid_template_columns": null,
            "grid_template_rows": null,
            "height": null,
            "justify_content": null,
            "justify_items": null,
            "left": null,
            "margin": null,
            "max_height": null,
            "max_width": null,
            "min_height": null,
            "min_width": null,
            "object_fit": null,
            "object_position": null,
            "order": null,
            "overflow": null,
            "overflow_x": null,
            "overflow_y": null,
            "padding": null,
            "right": null,
            "top": null,
            "visibility": null,
            "width": null
          }
        },
        "dc397e0b464343ffa579e5ab1ce267ae": {
          "model_module": "@jupyter-widgets/controls",
          "model_name": "ProgressStyleModel",
          "model_module_version": "1.5.0",
          "state": {
            "_model_module": "@jupyter-widgets/controls",
            "_model_module_version": "1.5.0",
            "_model_name": "ProgressStyleModel",
            "_view_count": null,
            "_view_module": "@jupyter-widgets/base",
            "_view_module_version": "1.2.0",
            "_view_name": "StyleView",
            "bar_color": null,
            "description_width": ""
          }
        },
        "b08456eab5af4653b3a165f7b7507101": {
          "model_module": "@jupyter-widgets/base",
          "model_name": "LayoutModel",
          "model_module_version": "1.2.0",
          "state": {
            "_model_module": "@jupyter-widgets/base",
            "_model_module_version": "1.2.0",
            "_model_name": "LayoutModel",
            "_view_count": null,
            "_view_module": "@jupyter-widgets/base",
            "_view_module_version": "1.2.0",
            "_view_name": "LayoutView",
            "align_content": null,
            "align_items": null,
            "align_self": null,
            "border": null,
            "bottom": null,
            "display": null,
            "flex": null,
            "flex_flow": null,
            "grid_area": null,
            "grid_auto_columns": null,
            "grid_auto_flow": null,
            "grid_auto_rows": null,
            "grid_column": null,
            "grid_gap": null,
            "grid_row": null,
            "grid_template_areas": null,
            "grid_template_columns": null,
            "grid_template_rows": null,
            "height": null,
            "justify_content": null,
            "justify_items": null,
            "left": null,
            "margin": null,
            "max_height": null,
            "max_width": null,
            "min_height": null,
            "min_width": null,
            "object_fit": null,
            "object_position": null,
            "order": null,
            "overflow": null,
            "overflow_x": null,
            "overflow_y": null,
            "padding": null,
            "right": null,
            "top": null,
            "visibility": null,
            "width": null
          }
        },
        "f980c6720a4d47ac821664b2e6d3f721": {
          "model_module": "@jupyter-widgets/controls",
          "model_name": "DescriptionStyleModel",
          "model_module_version": "1.5.0",
          "state": {
            "_model_module": "@jupyter-widgets/controls",
            "_model_module_version": "1.5.0",
            "_model_name": "DescriptionStyleModel",
            "_view_count": null,
            "_view_module": "@jupyter-widgets/base",
            "_view_module_version": "1.2.0",
            "_view_name": "StyleView",
            "description_width": ""
          }
        },
        "b75006f8ad1f495aa1f3e4e2b7440f05": {
          "model_module": "@jupyter-widgets/controls",
          "model_name": "HBoxModel",
          "model_module_version": "1.5.0",
          "state": {
            "_dom_classes": [],
            "_model_module": "@jupyter-widgets/controls",
            "_model_module_version": "1.5.0",
            "_model_name": "HBoxModel",
            "_view_count": null,
            "_view_module": "@jupyter-widgets/controls",
            "_view_module_version": "1.5.0",
            "_view_name": "HBoxView",
            "box_style": "",
            "children": [
              "IPY_MODEL_a561e6c74f704bf6b77d83c04f6a515a",
              "IPY_MODEL_4def0f73f713473eb3d95015ef4634b7",
              "IPY_MODEL_79b9a6606d0945a28ed2c8a039d39272"
            ],
            "layout": "IPY_MODEL_5bc34b07d00441c683ee9c838689b56a"
          }
        },
        "a561e6c74f704bf6b77d83c04f6a515a": {
          "model_module": "@jupyter-widgets/controls",
          "model_name": "HTMLModel",
          "model_module_version": "1.5.0",
          "state": {
            "_dom_classes": [],
            "_model_module": "@jupyter-widgets/controls",
            "_model_module_version": "1.5.0",
            "_model_name": "HTMLModel",
            "_view_count": null,
            "_view_module": "@jupyter-widgets/controls",
            "_view_module_version": "1.5.0",
            "_view_name": "HTMLView",
            "description": "",
            "description_tooltip": null,
            "layout": "IPY_MODEL_65e0004e959e48179ef186f41af458e3",
            "placeholder": "​",
            "style": "IPY_MODEL_e9ade96985d74d8d86f0f1a85269db26",
            "value": "Downloading data: 100%"
          }
        },
        "4def0f73f713473eb3d95015ef4634b7": {
          "model_module": "@jupyter-widgets/controls",
          "model_name": "FloatProgressModel",
          "model_module_version": "1.5.0",
          "state": {
            "_dom_classes": [],
            "_model_module": "@jupyter-widgets/controls",
            "_model_module_version": "1.5.0",
            "_model_name": "FloatProgressModel",
            "_view_count": null,
            "_view_module": "@jupyter-widgets/controls",
            "_view_module_version": "1.5.0",
            "_view_name": "ProgressView",
            "bar_style": "success",
            "description": "",
            "description_tooltip": null,
            "layout": "IPY_MODEL_71b849ad6ecb4df5bd431497e142f04f",
            "max": 67554,
            "min": 0,
            "orientation": "horizontal",
            "style": "IPY_MODEL_d18e8ba8f3e143eeb178f39d194000c0",
            "value": 67554
          }
        },
        "79b9a6606d0945a28ed2c8a039d39272": {
          "model_module": "@jupyter-widgets/controls",
          "model_name": "HTMLModel",
          "model_module_version": "1.5.0",
          "state": {
            "_dom_classes": [],
            "_model_module": "@jupyter-widgets/controls",
            "_model_module_version": "1.5.0",
            "_model_name": "HTMLModel",
            "_view_count": null,
            "_view_module": "@jupyter-widgets/controls",
            "_view_module_version": "1.5.0",
            "_view_name": "HTMLView",
            "description": "",
            "description_tooltip": null,
            "layout": "IPY_MODEL_7b48b2b013944e3593d663fbf3eb9f1e",
            "placeholder": "​",
            "style": "IPY_MODEL_575c3691c7264a688fdd660019db58de",
            "value": " 67.6k/67.6k [00:00&lt;00:00, 427kB/s]"
          }
        },
        "5bc34b07d00441c683ee9c838689b56a": {
          "model_module": "@jupyter-widgets/base",
          "model_name": "LayoutModel",
          "model_module_version": "1.2.0",
          "state": {
            "_model_module": "@jupyter-widgets/base",
            "_model_module_version": "1.2.0",
            "_model_name": "LayoutModel",
            "_view_count": null,
            "_view_module": "@jupyter-widgets/base",
            "_view_module_version": "1.2.0",
            "_view_name": "LayoutView",
            "align_content": null,
            "align_items": null,
            "align_self": null,
            "border": null,
            "bottom": null,
            "display": null,
            "flex": null,
            "flex_flow": null,
            "grid_area": null,
            "grid_auto_columns": null,
            "grid_auto_flow": null,
            "grid_auto_rows": null,
            "grid_column": null,
            "grid_gap": null,
            "grid_row": null,
            "grid_template_areas": null,
            "grid_template_columns": null,
            "grid_template_rows": null,
            "height": null,
            "justify_content": null,
            "justify_items": null,
            "left": null,
            "margin": null,
            "max_height": null,
            "max_width": null,
            "min_height": null,
            "min_width": null,
            "object_fit": null,
            "object_position": null,
            "order": null,
            "overflow": null,
            "overflow_x": null,
            "overflow_y": null,
            "padding": null,
            "right": null,
            "top": null,
            "visibility": null,
            "width": null
          }
        },
        "65e0004e959e48179ef186f41af458e3": {
          "model_module": "@jupyter-widgets/base",
          "model_name": "LayoutModel",
          "model_module_version": "1.2.0",
          "state": {
            "_model_module": "@jupyter-widgets/base",
            "_model_module_version": "1.2.0",
            "_model_name": "LayoutModel",
            "_view_count": null,
            "_view_module": "@jupyter-widgets/base",
            "_view_module_version": "1.2.0",
            "_view_name": "LayoutView",
            "align_content": null,
            "align_items": null,
            "align_self": null,
            "border": null,
            "bottom": null,
            "display": null,
            "flex": null,
            "flex_flow": null,
            "grid_area": null,
            "grid_auto_columns": null,
            "grid_auto_flow": null,
            "grid_auto_rows": null,
            "grid_column": null,
            "grid_gap": null,
            "grid_row": null,
            "grid_template_areas": null,
            "grid_template_columns": null,
            "grid_template_rows": null,
            "height": null,
            "justify_content": null,
            "justify_items": null,
            "left": null,
            "margin": null,
            "max_height": null,
            "max_width": null,
            "min_height": null,
            "min_width": null,
            "object_fit": null,
            "object_position": null,
            "order": null,
            "overflow": null,
            "overflow_x": null,
            "overflow_y": null,
            "padding": null,
            "right": null,
            "top": null,
            "visibility": null,
            "width": null
          }
        },
        "e9ade96985d74d8d86f0f1a85269db26": {
          "model_module": "@jupyter-widgets/controls",
          "model_name": "DescriptionStyleModel",
          "model_module_version": "1.5.0",
          "state": {
            "_model_module": "@jupyter-widgets/controls",
            "_model_module_version": "1.5.0",
            "_model_name": "DescriptionStyleModel",
            "_view_count": null,
            "_view_module": "@jupyter-widgets/base",
            "_view_module_version": "1.2.0",
            "_view_name": "StyleView",
            "description_width": ""
          }
        },
        "71b849ad6ecb4df5bd431497e142f04f": {
          "model_module": "@jupyter-widgets/base",
          "model_name": "LayoutModel",
          "model_module_version": "1.2.0",
          "state": {
            "_model_module": "@jupyter-widgets/base",
            "_model_module_version": "1.2.0",
            "_model_name": "LayoutModel",
            "_view_count": null,
            "_view_module": "@jupyter-widgets/base",
            "_view_module_version": "1.2.0",
            "_view_name": "LayoutView",
            "align_content": null,
            "align_items": null,
            "align_self": null,
            "border": null,
            "bottom": null,
            "display": null,
            "flex": null,
            "flex_flow": null,
            "grid_area": null,
            "grid_auto_columns": null,
            "grid_auto_flow": null,
            "grid_auto_rows": null,
            "grid_column": null,
            "grid_gap": null,
            "grid_row": null,
            "grid_template_areas": null,
            "grid_template_columns": null,
            "grid_template_rows": null,
            "height": null,
            "justify_content": null,
            "justify_items": null,
            "left": null,
            "margin": null,
            "max_height": null,
            "max_width": null,
            "min_height": null,
            "min_width": null,
            "object_fit": null,
            "object_position": null,
            "order": null,
            "overflow": null,
            "overflow_x": null,
            "overflow_y": null,
            "padding": null,
            "right": null,
            "top": null,
            "visibility": null,
            "width": null
          }
        },
        "d18e8ba8f3e143eeb178f39d194000c0": {
          "model_module": "@jupyter-widgets/controls",
          "model_name": "ProgressStyleModel",
          "model_module_version": "1.5.0",
          "state": {
            "_model_module": "@jupyter-widgets/controls",
            "_model_module_version": "1.5.0",
            "_model_name": "ProgressStyleModel",
            "_view_count": null,
            "_view_module": "@jupyter-widgets/base",
            "_view_module_version": "1.2.0",
            "_view_name": "StyleView",
            "bar_color": null,
            "description_width": ""
          }
        },
        "7b48b2b013944e3593d663fbf3eb9f1e": {
          "model_module": "@jupyter-widgets/base",
          "model_name": "LayoutModel",
          "model_module_version": "1.2.0",
          "state": {
            "_model_module": "@jupyter-widgets/base",
            "_model_module_version": "1.2.0",
            "_model_name": "LayoutModel",
            "_view_count": null,
            "_view_module": "@jupyter-widgets/base",
            "_view_module_version": "1.2.0",
            "_view_name": "LayoutView",
            "align_content": null,
            "align_items": null,
            "align_self": null,
            "border": null,
            "bottom": null,
            "display": null,
            "flex": null,
            "flex_flow": null,
            "grid_area": null,
            "grid_auto_columns": null,
            "grid_auto_flow": null,
            "grid_auto_rows": null,
            "grid_column": null,
            "grid_gap": null,
            "grid_row": null,
            "grid_template_areas": null,
            "grid_template_columns": null,
            "grid_template_rows": null,
            "height": null,
            "justify_content": null,
            "justify_items": null,
            "left": null,
            "margin": null,
            "max_height": null,
            "max_width": null,
            "min_height": null,
            "min_width": null,
            "object_fit": null,
            "object_position": null,
            "order": null,
            "overflow": null,
            "overflow_x": null,
            "overflow_y": null,
            "padding": null,
            "right": null,
            "top": null,
            "visibility": null,
            "width": null
          }
        },
        "575c3691c7264a688fdd660019db58de": {
          "model_module": "@jupyter-widgets/controls",
          "model_name": "DescriptionStyleModel",
          "model_module_version": "1.5.0",
          "state": {
            "_model_module": "@jupyter-widgets/controls",
            "_model_module_version": "1.5.0",
            "_model_name": "DescriptionStyleModel",
            "_view_count": null,
            "_view_module": "@jupyter-widgets/base",
            "_view_module_version": "1.2.0",
            "_view_name": "StyleView",
            "description_width": ""
          }
        },
        "a3a2ef5c20cf455fbd08139b45164f9d": {
          "model_module": "@jupyter-widgets/controls",
          "model_name": "HBoxModel",
          "model_module_version": "1.5.0",
          "state": {
            "_dom_classes": [],
            "_model_module": "@jupyter-widgets/controls",
            "_model_module_version": "1.5.0",
            "_model_name": "HBoxModel",
            "_view_count": null,
            "_view_module": "@jupyter-widgets/controls",
            "_view_module_version": "1.5.0",
            "_view_name": "HBoxView",
            "box_style": "",
            "children": [
              "IPY_MODEL_beb3cadb5de0461d8581beffb10c241b",
              "IPY_MODEL_69e93c982f5846a5bf6cf2a60005dbed",
              "IPY_MODEL_36afec9d703940589e3208568eca89ff"
            ],
            "layout": "IPY_MODEL_90feaa389a06462cbdf5165b9308ebd6"
          }
        },
        "beb3cadb5de0461d8581beffb10c241b": {
          "model_module": "@jupyter-widgets/controls",
          "model_name": "HTMLModel",
          "model_module_version": "1.5.0",
          "state": {
            "_dom_classes": [],
            "_model_module": "@jupyter-widgets/controls",
            "_model_module_version": "1.5.0",
            "_model_name": "HTMLModel",
            "_view_count": null,
            "_view_module": "@jupyter-widgets/controls",
            "_view_module_version": "1.5.0",
            "_view_name": "HTMLView",
            "description": "",
            "description_tooltip": null,
            "layout": "IPY_MODEL_11d2a65f2984440f8b17e148dd75b921",
            "placeholder": "​",
            "style": "IPY_MODEL_051923fd22164294a239a1dc38b10b76",
            "value": "Generating train split: "
          }
        },
        "69e93c982f5846a5bf6cf2a60005dbed": {
          "model_module": "@jupyter-widgets/controls",
          "model_name": "FloatProgressModel",
          "model_module_version": "1.5.0",
          "state": {
            "_dom_classes": [],
            "_model_module": "@jupyter-widgets/controls",
            "_model_module_version": "1.5.0",
            "_model_name": "FloatProgressModel",
            "_view_count": null,
            "_view_module": "@jupyter-widgets/controls",
            "_view_module_version": "1.5.0",
            "_view_name": "ProgressView",
            "bar_style": "success",
            "description": "",
            "description_tooltip": null,
            "layout": "IPY_MODEL_2c270f65be4e468181d04b14600447af",
            "max": 1,
            "min": 0,
            "orientation": "horizontal",
            "style": "IPY_MODEL_780ccf403ed54e32aa25749e7b6dc348",
            "value": 1
          }
        },
        "36afec9d703940589e3208568eca89ff": {
          "model_module": "@jupyter-widgets/controls",
          "model_name": "HTMLModel",
          "model_module_version": "1.5.0",
          "state": {
            "_dom_classes": [],
            "_model_module": "@jupyter-widgets/controls",
            "_model_module_version": "1.5.0",
            "_model_name": "HTMLModel",
            "_view_count": null,
            "_view_module": "@jupyter-widgets/controls",
            "_view_module_version": "1.5.0",
            "_view_name": "HTMLView",
            "description": "",
            "description_tooltip": null,
            "layout": "IPY_MODEL_416f39bcec6d4842a22a0873d80ddefd",
            "placeholder": "​",
            "style": "IPY_MODEL_93f622149a13466b86589ec3fd344783",
            "value": " 450/0 [00:00&lt;00:00, 3485.76 examples/s]"
          }
        },
        "90feaa389a06462cbdf5165b9308ebd6": {
          "model_module": "@jupyter-widgets/base",
          "model_name": "LayoutModel",
          "model_module_version": "1.2.0",
          "state": {
            "_model_module": "@jupyter-widgets/base",
            "_model_module_version": "1.2.0",
            "_model_name": "LayoutModel",
            "_view_count": null,
            "_view_module": "@jupyter-widgets/base",
            "_view_module_version": "1.2.0",
            "_view_name": "LayoutView",
            "align_content": null,
            "align_items": null,
            "align_self": null,
            "border": null,
            "bottom": null,
            "display": null,
            "flex": null,
            "flex_flow": null,
            "grid_area": null,
            "grid_auto_columns": null,
            "grid_auto_flow": null,
            "grid_auto_rows": null,
            "grid_column": null,
            "grid_gap": null,
            "grid_row": null,
            "grid_template_areas": null,
            "grid_template_columns": null,
            "grid_template_rows": null,
            "height": null,
            "justify_content": null,
            "justify_items": null,
            "left": null,
            "margin": null,
            "max_height": null,
            "max_width": null,
            "min_height": null,
            "min_width": null,
            "object_fit": null,
            "object_position": null,
            "order": null,
            "overflow": null,
            "overflow_x": null,
            "overflow_y": null,
            "padding": null,
            "right": null,
            "top": null,
            "visibility": null,
            "width": null
          }
        },
        "11d2a65f2984440f8b17e148dd75b921": {
          "model_module": "@jupyter-widgets/base",
          "model_name": "LayoutModel",
          "model_module_version": "1.2.0",
          "state": {
            "_model_module": "@jupyter-widgets/base",
            "_model_module_version": "1.2.0",
            "_model_name": "LayoutModel",
            "_view_count": null,
            "_view_module": "@jupyter-widgets/base",
            "_view_module_version": "1.2.0",
            "_view_name": "LayoutView",
            "align_content": null,
            "align_items": null,
            "align_self": null,
            "border": null,
            "bottom": null,
            "display": null,
            "flex": null,
            "flex_flow": null,
            "grid_area": null,
            "grid_auto_columns": null,
            "grid_auto_flow": null,
            "grid_auto_rows": null,
            "grid_column": null,
            "grid_gap": null,
            "grid_row": null,
            "grid_template_areas": null,
            "grid_template_columns": null,
            "grid_template_rows": null,
            "height": null,
            "justify_content": null,
            "justify_items": null,
            "left": null,
            "margin": null,
            "max_height": null,
            "max_width": null,
            "min_height": null,
            "min_width": null,
            "object_fit": null,
            "object_position": null,
            "order": null,
            "overflow": null,
            "overflow_x": null,
            "overflow_y": null,
            "padding": null,
            "right": null,
            "top": null,
            "visibility": null,
            "width": null
          }
        },
        "051923fd22164294a239a1dc38b10b76": {
          "model_module": "@jupyter-widgets/controls",
          "model_name": "DescriptionStyleModel",
          "model_module_version": "1.5.0",
          "state": {
            "_model_module": "@jupyter-widgets/controls",
            "_model_module_version": "1.5.0",
            "_model_name": "DescriptionStyleModel",
            "_view_count": null,
            "_view_module": "@jupyter-widgets/base",
            "_view_module_version": "1.2.0",
            "_view_name": "StyleView",
            "description_width": ""
          }
        },
        "2c270f65be4e468181d04b14600447af": {
          "model_module": "@jupyter-widgets/base",
          "model_name": "LayoutModel",
          "model_module_version": "1.2.0",
          "state": {
            "_model_module": "@jupyter-widgets/base",
            "_model_module_version": "1.2.0",
            "_model_name": "LayoutModel",
            "_view_count": null,
            "_view_module": "@jupyter-widgets/base",
            "_view_module_version": "1.2.0",
            "_view_name": "LayoutView",
            "align_content": null,
            "align_items": null,
            "align_self": null,
            "border": null,
            "bottom": null,
            "display": null,
            "flex": null,
            "flex_flow": null,
            "grid_area": null,
            "grid_auto_columns": null,
            "grid_auto_flow": null,
            "grid_auto_rows": null,
            "grid_column": null,
            "grid_gap": null,
            "grid_row": null,
            "grid_template_areas": null,
            "grid_template_columns": null,
            "grid_template_rows": null,
            "height": null,
            "justify_content": null,
            "justify_items": null,
            "left": null,
            "margin": null,
            "max_height": null,
            "max_width": null,
            "min_height": null,
            "min_width": null,
            "object_fit": null,
            "object_position": null,
            "order": null,
            "overflow": null,
            "overflow_x": null,
            "overflow_y": null,
            "padding": null,
            "right": null,
            "top": null,
            "visibility": null,
            "width": "20px"
          }
        },
        "780ccf403ed54e32aa25749e7b6dc348": {
          "model_module": "@jupyter-widgets/controls",
          "model_name": "ProgressStyleModel",
          "model_module_version": "1.5.0",
          "state": {
            "_model_module": "@jupyter-widgets/controls",
            "_model_module_version": "1.5.0",
            "_model_name": "ProgressStyleModel",
            "_view_count": null,
            "_view_module": "@jupyter-widgets/base",
            "_view_module_version": "1.2.0",
            "_view_name": "StyleView",
            "bar_color": null,
            "description_width": ""
          }
        },
        "416f39bcec6d4842a22a0873d80ddefd": {
          "model_module": "@jupyter-widgets/base",
          "model_name": "LayoutModel",
          "model_module_version": "1.2.0",
          "state": {
            "_model_module": "@jupyter-widgets/base",
            "_model_module_version": "1.2.0",
            "_model_name": "LayoutModel",
            "_view_count": null,
            "_view_module": "@jupyter-widgets/base",
            "_view_module_version": "1.2.0",
            "_view_name": "LayoutView",
            "align_content": null,
            "align_items": null,
            "align_self": null,
            "border": null,
            "bottom": null,
            "display": null,
            "flex": null,
            "flex_flow": null,
            "grid_area": null,
            "grid_auto_columns": null,
            "grid_auto_flow": null,
            "grid_auto_rows": null,
            "grid_column": null,
            "grid_gap": null,
            "grid_row": null,
            "grid_template_areas": null,
            "grid_template_columns": null,
            "grid_template_rows": null,
            "height": null,
            "justify_content": null,
            "justify_items": null,
            "left": null,
            "margin": null,
            "max_height": null,
            "max_width": null,
            "min_height": null,
            "min_width": null,
            "object_fit": null,
            "object_position": null,
            "order": null,
            "overflow": null,
            "overflow_x": null,
            "overflow_y": null,
            "padding": null,
            "right": null,
            "top": null,
            "visibility": null,
            "width": null
          }
        },
        "93f622149a13466b86589ec3fd344783": {
          "model_module": "@jupyter-widgets/controls",
          "model_name": "DescriptionStyleModel",
          "model_module_version": "1.5.0",
          "state": {
            "_model_module": "@jupyter-widgets/controls",
            "_model_module_version": "1.5.0",
            "_model_name": "DescriptionStyleModel",
            "_view_count": null,
            "_view_module": "@jupyter-widgets/base",
            "_view_module_version": "1.2.0",
            "_view_name": "StyleView",
            "description_width": ""
          }
        }
      }
    }
  },
  "nbformat": 4,
  "nbformat_minor": 5
}