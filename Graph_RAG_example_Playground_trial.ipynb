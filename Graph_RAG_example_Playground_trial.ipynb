{
  "cells": [
    {
      "cell_type": "markdown",
      "metadata": {
        "id": "view-in-github",
        "colab_type": "text"
      },
      "source": [
        "<a href=\"https://colab.research.google.com/github/YoshiyukiKono/gen_ai-sandbox/blob/main/Graph_RAG_example_Playground_trial.ipynb\" target=\"_parent\"><img src=\"https://colab.research.google.com/assets/colab-badge.svg\" alt=\"Open In Colab\"/></a>"
      ]
    },
    {
      "cell_type": "markdown",
      "metadata": {
        "id": "KfQJWl2G8UAt"
      },
      "source": [
        "# Graph RAG -- Connecting Knowledge for the LLM\n",
        "\n",
        "* Brian Godsey, DataStax -- brian.godsey@datastax.com\n",
        "\n",
        "---------------\n",
        "\n",
        "NOTE: this notebook was built locally and uploaded here. The dataset used here may not be in this notebook's environment and will need to be re-downloaded.\n",
        "\n",
        "---------------\n",
        "\n",
        "Graph RAG is particularly powerful for tasks where context and relationships within data are crucial. It's well-suited for applications where related pieces of information appear in very different documents or contexts, and thus may not be close semantic neighbors in a vector DB.\n",
        "\n",
        "It is also useful in natural language processing tasks that require deep understanding and contextualization, such as question answering, where the context provided by the graph data can significantly enhance the quality and relevance of the generated responses.\n",
        "\n",
        "### Motivation\n",
        "\n",
        "* To explore the possibilities for graph RAG on example datasets\n",
        "* To experiment with building and using knowledge graphs (KGs) for graph RAG\n",
        "* To compare results from graph RAG against plain RAG for various query types\n",
        "* To discover how and where graph RAG can be useful beyond plain RAG\n",
        "\n",
        "### Key Points\n",
        "\n",
        "* There are many ways to customize and tailor graph RAG to your datasets\n",
        "* The KG significantly impacts graph RAG performance\n",
        "* Building a KG dynamically can be tricky\n",
        "* Graph RAG can make connections and answer queries where plain RAG fails\n",
        "\n",
        "### Further Notes\n",
        "\n",
        "* The default implementations in LlamaIndex have some issues\n",
        "* Specifically: keyword extraction/matching, triplet extraction, case sensitivity, unidirectional traversal, default prompts\n",
        "* Adding a little more sophistication to a few of these could make significant improvements\n"
      ]
    },
    {
      "cell_type": "markdown",
      "metadata": {
        "id": "bTKH23_Hjowk"
      },
      "source": [
        "## Setup Enviroments and APIs"
      ]
    },
    {
      "cell_type": "markdown",
      "metadata": {
        "id": "kCujHuKgoyvx"
      },
      "source": [
        "### Package installations"
      ]
    },
    {
      "cell_type": "code",
      "execution_count": 1,
      "metadata": {
        "id": "MgiwHIL_DqUp",
        "outputId": "be8d6cd5-3517-4baf-b01e-42d069c2821a",
        "colab": {
          "base_uri": "https://localhost:8080/"
        }
      },
      "outputs": [
        {
          "output_type": "stream",
          "name": "stdout",
          "text": [
            "Collecting llama-index\n",
            "  Downloading llama_index-0.10.29-py3-none-any.whl (6.9 kB)\n",
            "Collecting llama-index-agent-openai<0.3.0,>=0.1.4 (from llama-index)\n",
            "  Downloading llama_index_agent_openai-0.2.2-py3-none-any.whl (12 kB)\n",
            "Collecting llama-index-cli<0.2.0,>=0.1.2 (from llama-index)\n",
            "  Downloading llama_index_cli-0.1.11-py3-none-any.whl (26 kB)\n",
            "Collecting llama-index-core<0.11.0,>=0.10.29 (from llama-index)\n",
            "  Downloading llama_index_core-0.10.29-py3-none-any.whl (15.4 MB)\n",
            "\u001b[2K     \u001b[90m━━━━━━━━━━━━━━━━━━━━━━━━━━━━━━━━━━━━━━━━\u001b[0m \u001b[32m15.4/15.4 MB\u001b[0m \u001b[31m43.8 MB/s\u001b[0m eta \u001b[36m0:00:00\u001b[0m\n",
            "\u001b[?25hCollecting llama-index-embeddings-openai<0.2.0,>=0.1.5 (from llama-index)\n",
            "  Downloading llama_index_embeddings_openai-0.1.7-py3-none-any.whl (6.0 kB)\n",
            "Collecting llama-index-indices-managed-llama-cloud<0.2.0,>=0.1.2 (from llama-index)\n",
            "  Downloading llama_index_indices_managed_llama_cloud-0.1.5-py3-none-any.whl (6.7 kB)\n",
            "Collecting llama-index-legacy<0.10.0,>=0.9.48 (from llama-index)\n",
            "  Downloading llama_index_legacy-0.9.48-py3-none-any.whl (2.0 MB)\n",
            "\u001b[2K     \u001b[90m━━━━━━━━━━━━━━━━━━━━━━━━━━━━━━━━━━━━━━━━\u001b[0m \u001b[32m2.0/2.0 MB\u001b[0m \u001b[31m44.0 MB/s\u001b[0m eta \u001b[36m0:00:00\u001b[0m\n",
            "\u001b[?25hCollecting llama-index-llms-openai<0.2.0,>=0.1.13 (from llama-index)\n",
            "  Downloading llama_index_llms_openai-0.1.15-py3-none-any.whl (10 kB)\n",
            "Collecting llama-index-multi-modal-llms-openai<0.2.0,>=0.1.3 (from llama-index)\n",
            "  Downloading llama_index_multi_modal_llms_openai-0.1.5-py3-none-any.whl (5.8 kB)\n",
            "Collecting llama-index-program-openai<0.2.0,>=0.1.3 (from llama-index)\n",
            "  Downloading llama_index_program_openai-0.1.5-py3-none-any.whl (4.1 kB)\n",
            "Collecting llama-index-question-gen-openai<0.2.0,>=0.1.2 (from llama-index)\n",
            "  Downloading llama_index_question_gen_openai-0.1.3-py3-none-any.whl (2.9 kB)\n",
            "Collecting llama-index-readers-file<0.2.0,>=0.1.4 (from llama-index)\n",
            "  Downloading llama_index_readers_file-0.1.19-py3-none-any.whl (36 kB)\n",
            "Collecting llama-index-readers-llama-parse<0.2.0,>=0.1.2 (from llama-index)\n",
            "  Downloading llama_index_readers_llama_parse-0.1.4-py3-none-any.whl (2.5 kB)\n",
            "Collecting openai>=1.14.0 (from llama-index-agent-openai<0.3.0,>=0.1.4->llama-index)\n",
            "  Downloading openai-1.19.0-py3-none-any.whl (292 kB)\n",
            "\u001b[2K     \u001b[90m━━━━━━━━━━━━━━━━━━━━━━━━━━━━━━━━━━━━━━━━\u001b[0m \u001b[32m292.8/292.8 kB\u001b[0m \u001b[31m10.3 MB/s\u001b[0m eta \u001b[36m0:00:00\u001b[0m\n",
            "\u001b[?25hRequirement already satisfied: PyYAML>=6.0.1 in /usr/local/lib/python3.10/dist-packages (from llama-index-core<0.11.0,>=0.10.29->llama-index) (6.0.1)\n",
            "Requirement already satisfied: SQLAlchemy[asyncio]>=1.4.49 in /usr/local/lib/python3.10/dist-packages (from llama-index-core<0.11.0,>=0.10.29->llama-index) (2.0.29)\n",
            "Requirement already satisfied: aiohttp<4.0.0,>=3.8.6 in /usr/local/lib/python3.10/dist-packages (from llama-index-core<0.11.0,>=0.10.29->llama-index) (3.9.3)\n",
            "Collecting dataclasses-json (from llama-index-core<0.11.0,>=0.10.29->llama-index)\n",
            "  Downloading dataclasses_json-0.6.4-py3-none-any.whl (28 kB)\n",
            "Collecting deprecated>=1.2.9.3 (from llama-index-core<0.11.0,>=0.10.29->llama-index)\n",
            "  Downloading Deprecated-1.2.14-py2.py3-none-any.whl (9.6 kB)\n",
            "Collecting dirtyjson<2.0.0,>=1.0.8 (from llama-index-core<0.11.0,>=0.10.29->llama-index)\n",
            "  Downloading dirtyjson-1.0.8-py3-none-any.whl (25 kB)\n",
            "Requirement already satisfied: fsspec>=2023.5.0 in /usr/local/lib/python3.10/dist-packages (from llama-index-core<0.11.0,>=0.10.29->llama-index) (2023.6.0)\n",
            "Collecting httpx (from llama-index-core<0.11.0,>=0.10.29->llama-index)\n",
            "  Downloading httpx-0.27.0-py3-none-any.whl (75 kB)\n",
            "\u001b[2K     \u001b[90m━━━━━━━━━━━━━━━━━━━━━━━━━━━━━━━━━━━━━━━━\u001b[0m \u001b[32m75.6/75.6 kB\u001b[0m \u001b[31m6.8 MB/s\u001b[0m eta \u001b[36m0:00:00\u001b[0m\n",
            "\u001b[?25hCollecting llamaindex-py-client<0.2.0,>=0.1.18 (from llama-index-core<0.11.0,>=0.10.29->llama-index)\n",
            "  Downloading llamaindex_py_client-0.1.18-py3-none-any.whl (136 kB)\n",
            "\u001b[2K     \u001b[90m━━━━━━━━━━━━━━━━━━━━━━━━━━━━━━━━━━━━━━━━\u001b[0m \u001b[32m136.1/136.1 kB\u001b[0m \u001b[31m2.2 MB/s\u001b[0m eta \u001b[36m0:00:00\u001b[0m\n",
            "\u001b[?25hRequirement already satisfied: nest-asyncio<2.0.0,>=1.5.8 in /usr/local/lib/python3.10/dist-packages (from llama-index-core<0.11.0,>=0.10.29->llama-index) (1.6.0)\n",
            "Requirement already satisfied: networkx>=3.0 in /usr/local/lib/python3.10/dist-packages (from llama-index-core<0.11.0,>=0.10.29->llama-index) (3.3)\n",
            "Requirement already satisfied: nltk<4.0.0,>=3.8.1 in /usr/local/lib/python3.10/dist-packages (from llama-index-core<0.11.0,>=0.10.29->llama-index) (3.8.1)\n",
            "Requirement already satisfied: numpy in /usr/local/lib/python3.10/dist-packages (from llama-index-core<0.11.0,>=0.10.29->llama-index) (1.25.2)\n",
            "Requirement already satisfied: pandas in /usr/local/lib/python3.10/dist-packages (from llama-index-core<0.11.0,>=0.10.29->llama-index) (2.0.3)\n",
            "Requirement already satisfied: pillow>=9.0.0 in /usr/local/lib/python3.10/dist-packages (from llama-index-core<0.11.0,>=0.10.29->llama-index) (9.4.0)\n",
            "Requirement already satisfied: requests>=2.31.0 in /usr/local/lib/python3.10/dist-packages (from llama-index-core<0.11.0,>=0.10.29->llama-index) (2.31.0)\n",
            "Requirement already satisfied: tenacity<9.0.0,>=8.2.0 in /usr/local/lib/python3.10/dist-packages (from llama-index-core<0.11.0,>=0.10.29->llama-index) (8.2.3)\n",
            "Collecting tiktoken>=0.3.3 (from llama-index-core<0.11.0,>=0.10.29->llama-index)\n",
            "  Downloading tiktoken-0.6.0-cp310-cp310-manylinux_2_17_x86_64.manylinux2014_x86_64.whl (1.8 MB)\n",
            "\u001b[2K     \u001b[90m━━━━━━━━━━━━━━━━━━━━━━━━━━━━━━━━━━━━━━━━\u001b[0m \u001b[32m1.8/1.8 MB\u001b[0m \u001b[31m40.3 MB/s\u001b[0m eta \u001b[36m0:00:00\u001b[0m\n",
            "\u001b[?25hRequirement already satisfied: tqdm<5.0.0,>=4.66.1 in /usr/local/lib/python3.10/dist-packages (from llama-index-core<0.11.0,>=0.10.29->llama-index) (4.66.2)\n",
            "Requirement already satisfied: typing-extensions>=4.5.0 in /usr/local/lib/python3.10/dist-packages (from llama-index-core<0.11.0,>=0.10.29->llama-index) (4.11.0)\n",
            "Collecting typing-inspect>=0.8.0 (from llama-index-core<0.11.0,>=0.10.29->llama-index)\n",
            "  Downloading typing_inspect-0.9.0-py3-none-any.whl (8.8 kB)\n",
            "Requirement already satisfied: wrapt in /usr/local/lib/python3.10/dist-packages (from llama-index-core<0.11.0,>=0.10.29->llama-index) (1.14.1)\n",
            "Requirement already satisfied: beautifulsoup4<5.0.0,>=4.12.3 in /usr/local/lib/python3.10/dist-packages (from llama-index-readers-file<0.2.0,>=0.1.4->llama-index) (4.12.3)\n",
            "Collecting pypdf<5.0.0,>=4.0.1 (from llama-index-readers-file<0.2.0,>=0.1.4->llama-index)\n",
            "  Downloading pypdf-4.2.0-py3-none-any.whl (290 kB)\n",
            "\u001b[2K     \u001b[90m━━━━━━━━━━━━━━━━━━━━━━━━━━━━━━━━━━━━━━━━\u001b[0m \u001b[32m290.4/290.4 kB\u001b[0m \u001b[31m14.7 MB/s\u001b[0m eta \u001b[36m0:00:00\u001b[0m\n",
            "\u001b[?25hCollecting striprtf<0.0.27,>=0.0.26 (from llama-index-readers-file<0.2.0,>=0.1.4->llama-index)\n",
            "  Downloading striprtf-0.0.26-py3-none-any.whl (6.9 kB)\n",
            "Collecting llama-parse<0.5.0,>=0.4.0 (from llama-index-readers-llama-parse<0.2.0,>=0.1.2->llama-index)\n",
            "  Downloading llama_parse-0.4.1-py3-none-any.whl (7.3 kB)\n",
            "Requirement already satisfied: aiosignal>=1.1.2 in /usr/local/lib/python3.10/dist-packages (from aiohttp<4.0.0,>=3.8.6->llama-index-core<0.11.0,>=0.10.29->llama-index) (1.3.1)\n",
            "Requirement already satisfied: attrs>=17.3.0 in /usr/local/lib/python3.10/dist-packages (from aiohttp<4.0.0,>=3.8.6->llama-index-core<0.11.0,>=0.10.29->llama-index) (23.2.0)\n",
            "Requirement already satisfied: frozenlist>=1.1.1 in /usr/local/lib/python3.10/dist-packages (from aiohttp<4.0.0,>=3.8.6->llama-index-core<0.11.0,>=0.10.29->llama-index) (1.4.1)\n",
            "Requirement already satisfied: multidict<7.0,>=4.5 in /usr/local/lib/python3.10/dist-packages (from aiohttp<4.0.0,>=3.8.6->llama-index-core<0.11.0,>=0.10.29->llama-index) (6.0.5)\n",
            "Requirement already satisfied: yarl<2.0,>=1.0 in /usr/local/lib/python3.10/dist-packages (from aiohttp<4.0.0,>=3.8.6->llama-index-core<0.11.0,>=0.10.29->llama-index) (1.9.4)\n",
            "Requirement already satisfied: async-timeout<5.0,>=4.0 in /usr/local/lib/python3.10/dist-packages (from aiohttp<4.0.0,>=3.8.6->llama-index-core<0.11.0,>=0.10.29->llama-index) (4.0.3)\n",
            "Requirement already satisfied: soupsieve>1.2 in /usr/local/lib/python3.10/dist-packages (from beautifulsoup4<5.0.0,>=4.12.3->llama-index-readers-file<0.2.0,>=0.1.4->llama-index) (2.5)\n",
            "Requirement already satisfied: pydantic>=1.10 in /usr/local/lib/python3.10/dist-packages (from llamaindex-py-client<0.2.0,>=0.1.18->llama-index-core<0.11.0,>=0.10.29->llama-index) (2.6.4)\n",
            "Requirement already satisfied: anyio in /usr/local/lib/python3.10/dist-packages (from httpx->llama-index-core<0.11.0,>=0.10.29->llama-index) (3.7.1)\n",
            "Requirement already satisfied: certifi in /usr/local/lib/python3.10/dist-packages (from httpx->llama-index-core<0.11.0,>=0.10.29->llama-index) (2024.2.2)\n",
            "Collecting httpcore==1.* (from httpx->llama-index-core<0.11.0,>=0.10.29->llama-index)\n",
            "  Downloading httpcore-1.0.5-py3-none-any.whl (77 kB)\n",
            "\u001b[2K     \u001b[90m━━━━━━━━━━━━━━━━━━━━━━━━━━━━━━━━━━━━━━━━\u001b[0m \u001b[32m77.9/77.9 kB\u001b[0m \u001b[31m5.0 MB/s\u001b[0m eta \u001b[36m0:00:00\u001b[0m\n",
            "\u001b[?25hRequirement already satisfied: idna in /usr/local/lib/python3.10/dist-packages (from httpx->llama-index-core<0.11.0,>=0.10.29->llama-index) (3.6)\n",
            "Requirement already satisfied: sniffio in /usr/local/lib/python3.10/dist-packages (from httpx->llama-index-core<0.11.0,>=0.10.29->llama-index) (1.3.1)\n",
            "Collecting h11<0.15,>=0.13 (from httpcore==1.*->httpx->llama-index-core<0.11.0,>=0.10.29->llama-index)\n",
            "  Downloading h11-0.14.0-py3-none-any.whl (58 kB)\n",
            "\u001b[2K     \u001b[90m━━━━━━━━━━━━━━━━━━━━━━━━━━━━━━━━━━━━━━━━\u001b[0m \u001b[32m58.3/58.3 kB\u001b[0m \u001b[31m5.4 MB/s\u001b[0m eta \u001b[36m0:00:00\u001b[0m\n",
            "\u001b[?25hRequirement already satisfied: click in /usr/local/lib/python3.10/dist-packages (from nltk<4.0.0,>=3.8.1->llama-index-core<0.11.0,>=0.10.29->llama-index) (8.1.7)\n",
            "Requirement already satisfied: joblib in /usr/local/lib/python3.10/dist-packages (from nltk<4.0.0,>=3.8.1->llama-index-core<0.11.0,>=0.10.29->llama-index) (1.4.0)\n",
            "Requirement already satisfied: regex>=2021.8.3 in /usr/local/lib/python3.10/dist-packages (from nltk<4.0.0,>=3.8.1->llama-index-core<0.11.0,>=0.10.29->llama-index) (2023.12.25)\n",
            "Requirement already satisfied: distro<2,>=1.7.0 in /usr/lib/python3/dist-packages (from openai>=1.14.0->llama-index-agent-openai<0.3.0,>=0.1.4->llama-index) (1.7.0)\n",
            "Requirement already satisfied: charset-normalizer<4,>=2 in /usr/local/lib/python3.10/dist-packages (from requests>=2.31.0->llama-index-core<0.11.0,>=0.10.29->llama-index) (3.3.2)\n",
            "Requirement already satisfied: urllib3<3,>=1.21.1 in /usr/local/lib/python3.10/dist-packages (from requests>=2.31.0->llama-index-core<0.11.0,>=0.10.29->llama-index) (2.0.7)\n",
            "Requirement already satisfied: greenlet!=0.4.17 in /usr/local/lib/python3.10/dist-packages (from SQLAlchemy[asyncio]>=1.4.49->llama-index-core<0.11.0,>=0.10.29->llama-index) (3.0.3)\n",
            "Collecting mypy-extensions>=0.3.0 (from typing-inspect>=0.8.0->llama-index-core<0.11.0,>=0.10.29->llama-index)\n",
            "  Downloading mypy_extensions-1.0.0-py3-none-any.whl (4.7 kB)\n",
            "Collecting marshmallow<4.0.0,>=3.18.0 (from dataclasses-json->llama-index-core<0.11.0,>=0.10.29->llama-index)\n",
            "  Downloading marshmallow-3.21.1-py3-none-any.whl (49 kB)\n",
            "\u001b[2K     \u001b[90m━━━━━━━━━━━━━━━━━━━━━━━━━━━━━━━━━━━━━━━━\u001b[0m \u001b[32m49.4/49.4 kB\u001b[0m \u001b[31m4.0 MB/s\u001b[0m eta \u001b[36m0:00:00\u001b[0m\n",
            "\u001b[?25hRequirement already satisfied: python-dateutil>=2.8.2 in /usr/local/lib/python3.10/dist-packages (from pandas->llama-index-core<0.11.0,>=0.10.29->llama-index) (2.8.2)\n",
            "Requirement already satisfied: pytz>=2020.1 in /usr/local/lib/python3.10/dist-packages (from pandas->llama-index-core<0.11.0,>=0.10.29->llama-index) (2023.4)\n",
            "Requirement already satisfied: tzdata>=2022.1 in /usr/local/lib/python3.10/dist-packages (from pandas->llama-index-core<0.11.0,>=0.10.29->llama-index) (2024.1)\n",
            "Requirement already satisfied: exceptiongroup in /usr/local/lib/python3.10/dist-packages (from anyio->httpx->llama-index-core<0.11.0,>=0.10.29->llama-index) (1.2.0)\n",
            "Requirement already satisfied: packaging>=17.0 in /usr/local/lib/python3.10/dist-packages (from marshmallow<4.0.0,>=3.18.0->dataclasses-json->llama-index-core<0.11.0,>=0.10.29->llama-index) (24.0)\n",
            "Requirement already satisfied: annotated-types>=0.4.0 in /usr/local/lib/python3.10/dist-packages (from pydantic>=1.10->llamaindex-py-client<0.2.0,>=0.1.18->llama-index-core<0.11.0,>=0.10.29->llama-index) (0.6.0)\n",
            "Requirement already satisfied: pydantic-core==2.16.3 in /usr/local/lib/python3.10/dist-packages (from pydantic>=1.10->llamaindex-py-client<0.2.0,>=0.1.18->llama-index-core<0.11.0,>=0.10.29->llama-index) (2.16.3)\n",
            "Requirement already satisfied: six>=1.5 in /usr/local/lib/python3.10/dist-packages (from python-dateutil>=2.8.2->pandas->llama-index-core<0.11.0,>=0.10.29->llama-index) (1.16.0)\n",
            "Installing collected packages: striprtf, dirtyjson, pypdf, mypy-extensions, marshmallow, h11, deprecated, typing-inspect, tiktoken, httpcore, httpx, dataclasses-json, openai, llamaindex-py-client, llama-index-legacy, llama-index-core, llama-parse, llama-index-readers-file, llama-index-llms-openai, llama-index-indices-managed-llama-cloud, llama-index-embeddings-openai, llama-index-readers-llama-parse, llama-index-multi-modal-llms-openai, llama-index-cli, llama-index-agent-openai, llama-index-program-openai, llama-index-question-gen-openai, llama-index\n",
            "Successfully installed dataclasses-json-0.6.4 deprecated-1.2.14 dirtyjson-1.0.8 h11-0.14.0 httpcore-1.0.5 httpx-0.27.0 llama-index-0.10.29 llama-index-agent-openai-0.2.2 llama-index-cli-0.1.11 llama-index-core-0.10.29 llama-index-embeddings-openai-0.1.7 llama-index-indices-managed-llama-cloud-0.1.5 llama-index-legacy-0.9.48 llama-index-llms-openai-0.1.15 llama-index-multi-modal-llms-openai-0.1.5 llama-index-program-openai-0.1.5 llama-index-question-gen-openai-0.1.3 llama-index-readers-file-0.1.19 llama-index-readers-llama-parse-0.1.4 llama-parse-0.4.1 llamaindex-py-client-0.1.18 marshmallow-3.21.1 mypy-extensions-1.0.0 openai-1.19.0 pypdf-4.2.0 striprtf-0.0.26 tiktoken-0.6.0 typing-inspect-0.9.0\n",
            "Collecting llama-index-vector-stores-astra\n",
            "  Downloading llama_index_vector_stores_astra-0.1.2-py3-none-any.whl (5.4 kB)\n",
            "Collecting astrapy<0.8.0,>=0.7.1 (from llama-index-vector-stores-astra)\n",
            "  Downloading astrapy-0.7.7-py3-none-any.whl (32 kB)\n",
            "Requirement already satisfied: llama-index-core<0.11.0,>=0.10.1 in /usr/local/lib/python3.10/dist-packages (from llama-index-vector-stores-astra) (0.10.29)\n",
            "Collecting cassio<0.2.0,>=0.1.4 (from astrapy<0.8.0,>=0.7.1->llama-index-vector-stores-astra)\n",
            "  Downloading cassio-0.1.5-py3-none-any.whl (41 kB)\n",
            "\u001b[2K     \u001b[90m━━━━━━━━━━━━━━━━━━━━━━━━━━━━━━━━━━━━━━━━\u001b[0m \u001b[32m41.3/41.3 kB\u001b[0m \u001b[31m1.7 MB/s\u001b[0m eta \u001b[36m0:00:00\u001b[0m\n",
            "\u001b[?25hCollecting deprecation<2.2.0,>=2.1.0 (from astrapy<0.8.0,>=0.7.1->llama-index-vector-stores-astra)\n",
            "  Downloading deprecation-2.1.0-py2.py3-none-any.whl (11 kB)\n",
            "Requirement already satisfied: httpx[http2]<1,>=0.25.2 in /usr/local/lib/python3.10/dist-packages (from astrapy<0.8.0,>=0.7.1->llama-index-vector-stores-astra) (0.27.0)\n",
            "Requirement already satisfied: toml<0.11.0,>=0.10.2 in /usr/local/lib/python3.10/dist-packages (from astrapy<0.8.0,>=0.7.1->llama-index-vector-stores-astra) (0.10.2)\n",
            "Requirement already satisfied: PyYAML>=6.0.1 in /usr/local/lib/python3.10/dist-packages (from llama-index-core<0.11.0,>=0.10.1->llama-index-vector-stores-astra) (6.0.1)\n",
            "Requirement already satisfied: SQLAlchemy[asyncio]>=1.4.49 in /usr/local/lib/python3.10/dist-packages (from llama-index-core<0.11.0,>=0.10.1->llama-index-vector-stores-astra) (2.0.29)\n",
            "Requirement already satisfied: aiohttp<4.0.0,>=3.8.6 in /usr/local/lib/python3.10/dist-packages (from llama-index-core<0.11.0,>=0.10.1->llama-index-vector-stores-astra) (3.9.3)\n",
            "Requirement already satisfied: dataclasses-json in /usr/local/lib/python3.10/dist-packages (from llama-index-core<0.11.0,>=0.10.1->llama-index-vector-stores-astra) (0.6.4)\n",
            "Requirement already satisfied: deprecated>=1.2.9.3 in /usr/local/lib/python3.10/dist-packages (from llama-index-core<0.11.0,>=0.10.1->llama-index-vector-stores-astra) (1.2.14)\n",
            "Requirement already satisfied: dirtyjson<2.0.0,>=1.0.8 in /usr/local/lib/python3.10/dist-packages (from llama-index-core<0.11.0,>=0.10.1->llama-index-vector-stores-astra) (1.0.8)\n",
            "Requirement already satisfied: fsspec>=2023.5.0 in /usr/local/lib/python3.10/dist-packages (from llama-index-core<0.11.0,>=0.10.1->llama-index-vector-stores-astra) (2023.6.0)\n",
            "Requirement already satisfied: llamaindex-py-client<0.2.0,>=0.1.18 in /usr/local/lib/python3.10/dist-packages (from llama-index-core<0.11.0,>=0.10.1->llama-index-vector-stores-astra) (0.1.18)\n",
            "Requirement already satisfied: nest-asyncio<2.0.0,>=1.5.8 in /usr/local/lib/python3.10/dist-packages (from llama-index-core<0.11.0,>=0.10.1->llama-index-vector-stores-astra) (1.6.0)\n",
            "Requirement already satisfied: networkx>=3.0 in /usr/local/lib/python3.10/dist-packages (from llama-index-core<0.11.0,>=0.10.1->llama-index-vector-stores-astra) (3.3)\n",
            "Requirement already satisfied: nltk<4.0.0,>=3.8.1 in /usr/local/lib/python3.10/dist-packages (from llama-index-core<0.11.0,>=0.10.1->llama-index-vector-stores-astra) (3.8.1)\n",
            "Requirement already satisfied: numpy in /usr/local/lib/python3.10/dist-packages (from llama-index-core<0.11.0,>=0.10.1->llama-index-vector-stores-astra) (1.25.2)\n",
            "Requirement already satisfied: openai>=1.1.0 in /usr/local/lib/python3.10/dist-packages (from llama-index-core<0.11.0,>=0.10.1->llama-index-vector-stores-astra) (1.19.0)\n",
            "Requirement already satisfied: pandas in /usr/local/lib/python3.10/dist-packages (from llama-index-core<0.11.0,>=0.10.1->llama-index-vector-stores-astra) (2.0.3)\n",
            "Requirement already satisfied: pillow>=9.0.0 in /usr/local/lib/python3.10/dist-packages (from llama-index-core<0.11.0,>=0.10.1->llama-index-vector-stores-astra) (9.4.0)\n",
            "Requirement already satisfied: requests>=2.31.0 in /usr/local/lib/python3.10/dist-packages (from llama-index-core<0.11.0,>=0.10.1->llama-index-vector-stores-astra) (2.31.0)\n",
            "Requirement already satisfied: tenacity<9.0.0,>=8.2.0 in /usr/local/lib/python3.10/dist-packages (from llama-index-core<0.11.0,>=0.10.1->llama-index-vector-stores-astra) (8.2.3)\n",
            "Requirement already satisfied: tiktoken>=0.3.3 in /usr/local/lib/python3.10/dist-packages (from llama-index-core<0.11.0,>=0.10.1->llama-index-vector-stores-astra) (0.6.0)\n",
            "Requirement already satisfied: tqdm<5.0.0,>=4.66.1 in /usr/local/lib/python3.10/dist-packages (from llama-index-core<0.11.0,>=0.10.1->llama-index-vector-stores-astra) (4.66.2)\n",
            "Requirement already satisfied: typing-extensions>=4.5.0 in /usr/local/lib/python3.10/dist-packages (from llama-index-core<0.11.0,>=0.10.1->llama-index-vector-stores-astra) (4.11.0)\n",
            "Requirement already satisfied: typing-inspect>=0.8.0 in /usr/local/lib/python3.10/dist-packages (from llama-index-core<0.11.0,>=0.10.1->llama-index-vector-stores-astra) (0.9.0)\n",
            "Requirement already satisfied: wrapt in /usr/local/lib/python3.10/dist-packages (from llama-index-core<0.11.0,>=0.10.1->llama-index-vector-stores-astra) (1.14.1)\n",
            "Requirement already satisfied: aiosignal>=1.1.2 in /usr/local/lib/python3.10/dist-packages (from aiohttp<4.0.0,>=3.8.6->llama-index-core<0.11.0,>=0.10.1->llama-index-vector-stores-astra) (1.3.1)\n",
            "Requirement already satisfied: attrs>=17.3.0 in /usr/local/lib/python3.10/dist-packages (from aiohttp<4.0.0,>=3.8.6->llama-index-core<0.11.0,>=0.10.1->llama-index-vector-stores-astra) (23.2.0)\n",
            "Requirement already satisfied: frozenlist>=1.1.1 in /usr/local/lib/python3.10/dist-packages (from aiohttp<4.0.0,>=3.8.6->llama-index-core<0.11.0,>=0.10.1->llama-index-vector-stores-astra) (1.4.1)\n",
            "Requirement already satisfied: multidict<7.0,>=4.5 in /usr/local/lib/python3.10/dist-packages (from aiohttp<4.0.0,>=3.8.6->llama-index-core<0.11.0,>=0.10.1->llama-index-vector-stores-astra) (6.0.5)\n",
            "Requirement already satisfied: yarl<2.0,>=1.0 in /usr/local/lib/python3.10/dist-packages (from aiohttp<4.0.0,>=3.8.6->llama-index-core<0.11.0,>=0.10.1->llama-index-vector-stores-astra) (1.9.4)\n",
            "Requirement already satisfied: async-timeout<5.0,>=4.0 in /usr/local/lib/python3.10/dist-packages (from aiohttp<4.0.0,>=3.8.6->llama-index-core<0.11.0,>=0.10.1->llama-index-vector-stores-astra) (4.0.3)\n",
            "Collecting cassandra-driver>=3.28.0 (from cassio<0.2.0,>=0.1.4->astrapy<0.8.0,>=0.7.1->llama-index-vector-stores-astra)\n",
            "  Downloading cassandra_driver-3.29.1-cp310-cp310-manylinux_2_17_x86_64.manylinux2014_x86_64.whl (18.9 MB)\n",
            "\u001b[2K     \u001b[90m━━━━━━━━━━━━━━━━━━━━━━━━━━━━━━━━━━━━━━━━\u001b[0m \u001b[32m18.9/18.9 MB\u001b[0m \u001b[31m45.1 MB/s\u001b[0m eta \u001b[36m0:00:00\u001b[0m\n",
            "\u001b[?25hRequirement already satisfied: packaging in /usr/local/lib/python3.10/dist-packages (from deprecation<2.2.0,>=2.1.0->astrapy<0.8.0,>=0.7.1->llama-index-vector-stores-astra) (24.0)\n",
            "Requirement already satisfied: anyio in /usr/local/lib/python3.10/dist-packages (from httpx[http2]<1,>=0.25.2->astrapy<0.8.0,>=0.7.1->llama-index-vector-stores-astra) (3.7.1)\n",
            "Requirement already satisfied: certifi in /usr/local/lib/python3.10/dist-packages (from httpx[http2]<1,>=0.25.2->astrapy<0.8.0,>=0.7.1->llama-index-vector-stores-astra) (2024.2.2)\n",
            "Requirement already satisfied: httpcore==1.* in /usr/local/lib/python3.10/dist-packages (from httpx[http2]<1,>=0.25.2->astrapy<0.8.0,>=0.7.1->llama-index-vector-stores-astra) (1.0.5)\n",
            "Requirement already satisfied: idna in /usr/local/lib/python3.10/dist-packages (from httpx[http2]<1,>=0.25.2->astrapy<0.8.0,>=0.7.1->llama-index-vector-stores-astra) (3.6)\n",
            "Requirement already satisfied: sniffio in /usr/local/lib/python3.10/dist-packages (from httpx[http2]<1,>=0.25.2->astrapy<0.8.0,>=0.7.1->llama-index-vector-stores-astra) (1.3.1)\n",
            "Collecting h2<5,>=3 (from httpx[http2]<1,>=0.25.2->astrapy<0.8.0,>=0.7.1->llama-index-vector-stores-astra)\n",
            "  Downloading h2-4.1.0-py3-none-any.whl (57 kB)\n",
            "\u001b[2K     \u001b[90m━━━━━━━━━━━━━━━━━━━━━━━━━━━━━━━━━━━━━━━━\u001b[0m \u001b[32m57.5/57.5 kB\u001b[0m \u001b[31m6.6 MB/s\u001b[0m eta \u001b[36m0:00:00\u001b[0m\n",
            "\u001b[?25hRequirement already satisfied: h11<0.15,>=0.13 in /usr/local/lib/python3.10/dist-packages (from httpcore==1.*->httpx[http2]<1,>=0.25.2->astrapy<0.8.0,>=0.7.1->llama-index-vector-stores-astra) (0.14.0)\n",
            "Requirement already satisfied: pydantic>=1.10 in /usr/local/lib/python3.10/dist-packages (from llamaindex-py-client<0.2.0,>=0.1.18->llama-index-core<0.11.0,>=0.10.1->llama-index-vector-stores-astra) (2.6.4)\n",
            "Requirement already satisfied: click in /usr/local/lib/python3.10/dist-packages (from nltk<4.0.0,>=3.8.1->llama-index-core<0.11.0,>=0.10.1->llama-index-vector-stores-astra) (8.1.7)\n",
            "Requirement already satisfied: joblib in /usr/local/lib/python3.10/dist-packages (from nltk<4.0.0,>=3.8.1->llama-index-core<0.11.0,>=0.10.1->llama-index-vector-stores-astra) (1.4.0)\n",
            "Requirement already satisfied: regex>=2021.8.3 in /usr/local/lib/python3.10/dist-packages (from nltk<4.0.0,>=3.8.1->llama-index-core<0.11.0,>=0.10.1->llama-index-vector-stores-astra) (2023.12.25)\n",
            "Requirement already satisfied: distro<2,>=1.7.0 in /usr/lib/python3/dist-packages (from openai>=1.1.0->llama-index-core<0.11.0,>=0.10.1->llama-index-vector-stores-astra) (1.7.0)\n",
            "Requirement already satisfied: charset-normalizer<4,>=2 in /usr/local/lib/python3.10/dist-packages (from requests>=2.31.0->llama-index-core<0.11.0,>=0.10.1->llama-index-vector-stores-astra) (3.3.2)\n",
            "Requirement already satisfied: urllib3<3,>=1.21.1 in /usr/local/lib/python3.10/dist-packages (from requests>=2.31.0->llama-index-core<0.11.0,>=0.10.1->llama-index-vector-stores-astra) (2.0.7)\n",
            "Requirement already satisfied: greenlet!=0.4.17 in /usr/local/lib/python3.10/dist-packages (from SQLAlchemy[asyncio]>=1.4.49->llama-index-core<0.11.0,>=0.10.1->llama-index-vector-stores-astra) (3.0.3)\n",
            "Requirement already satisfied: mypy-extensions>=0.3.0 in /usr/local/lib/python3.10/dist-packages (from typing-inspect>=0.8.0->llama-index-core<0.11.0,>=0.10.1->llama-index-vector-stores-astra) (1.0.0)\n",
            "Requirement already satisfied: marshmallow<4.0.0,>=3.18.0 in /usr/local/lib/python3.10/dist-packages (from dataclasses-json->llama-index-core<0.11.0,>=0.10.1->llama-index-vector-stores-astra) (3.21.1)\n",
            "Requirement already satisfied: python-dateutil>=2.8.2 in /usr/local/lib/python3.10/dist-packages (from pandas->llama-index-core<0.11.0,>=0.10.1->llama-index-vector-stores-astra) (2.8.2)\n",
            "Requirement already satisfied: pytz>=2020.1 in /usr/local/lib/python3.10/dist-packages (from pandas->llama-index-core<0.11.0,>=0.10.1->llama-index-vector-stores-astra) (2023.4)\n",
            "Requirement already satisfied: tzdata>=2022.1 in /usr/local/lib/python3.10/dist-packages (from pandas->llama-index-core<0.11.0,>=0.10.1->llama-index-vector-stores-astra) (2024.1)\n",
            "Requirement already satisfied: exceptiongroup in /usr/local/lib/python3.10/dist-packages (from anyio->httpx[http2]<1,>=0.25.2->astrapy<0.8.0,>=0.7.1->llama-index-vector-stores-astra) (1.2.0)\n",
            "Collecting geomet<0.3,>=0.1 (from cassandra-driver>=3.28.0->cassio<0.2.0,>=0.1.4->astrapy<0.8.0,>=0.7.1->llama-index-vector-stores-astra)\n",
            "  Downloading geomet-0.2.1.post1-py3-none-any.whl (18 kB)\n",
            "Collecting hyperframe<7,>=6.0 (from h2<5,>=3->httpx[http2]<1,>=0.25.2->astrapy<0.8.0,>=0.7.1->llama-index-vector-stores-astra)\n",
            "  Downloading hyperframe-6.0.1-py3-none-any.whl (12 kB)\n",
            "Collecting hpack<5,>=4.0 (from h2<5,>=3->httpx[http2]<1,>=0.25.2->astrapy<0.8.0,>=0.7.1->llama-index-vector-stores-astra)\n",
            "  Downloading hpack-4.0.0-py3-none-any.whl (32 kB)\n",
            "Requirement already satisfied: annotated-types>=0.4.0 in /usr/local/lib/python3.10/dist-packages (from pydantic>=1.10->llamaindex-py-client<0.2.0,>=0.1.18->llama-index-core<0.11.0,>=0.10.1->llama-index-vector-stores-astra) (0.6.0)\n",
            "Requirement already satisfied: pydantic-core==2.16.3 in /usr/local/lib/python3.10/dist-packages (from pydantic>=1.10->llamaindex-py-client<0.2.0,>=0.1.18->llama-index-core<0.11.0,>=0.10.1->llama-index-vector-stores-astra) (2.16.3)\n",
            "Requirement already satisfied: six>=1.5 in /usr/local/lib/python3.10/dist-packages (from python-dateutil>=2.8.2->pandas->llama-index-core<0.11.0,>=0.10.1->llama-index-vector-stores-astra) (1.16.0)\n",
            "Installing collected packages: hyperframe, hpack, geomet, deprecation, h2, cassandra-driver, cassio, astrapy, llama-index-vector-stores-astra\n",
            "Successfully installed astrapy-0.7.7 cassandra-driver-3.29.1 cassio-0.1.5 deprecation-2.1.0 geomet-0.2.1.post1 h2-4.1.0 hpack-4.0.0 hyperframe-6.0.1 llama-index-vector-stores-astra-0.1.2\n",
            "Requirement already satisfied: networkx in /usr/local/lib/python3.10/dist-packages (3.3)\n"
          ]
        }
      ],
      "source": [
        "%pip install llama-index\n",
        "%pip install llama-index-vector-stores-astra\n",
        "\n",
        "%pip install networkx\n"
      ]
    },
    {
      "cell_type": "markdown",
      "metadata": {
        "id": "wNCmkzvzjowm"
      },
      "source": [
        "### Package imports and config parameters"
      ]
    },
    {
      "cell_type": "code",
      "execution_count": 2,
      "metadata": {
        "id": "rkRkHPfRjowm"
      },
      "outputs": [],
      "source": [
        "# basic imports\n",
        "import os\n",
        "import sys\n",
        "import logging\n",
        "import networkx as nx\n",
        "from IPython.display import display, Markdown\n",
        "\n",
        "\n",
        "logging.basicConfig(\n",
        "    stream=sys.stdout, level=logging.INFO\n",
        ")  # logging.DEBUG for more verbose output\n",
        "\n",
        "\n",
        "# parameters for the knowledge graph and storage\n",
        "space_name = \"llamaindex\"\n",
        "edge_types, rel_prop_names = [\"relationship\"], [\n",
        "    \"relationship\"\n",
        "]  # default, could be omit if create from an empty kg\n",
        "tags = [\"entity\"]  # default, could be omit if create from an empty kg\n",
        "\n",
        "\n",
        "# HELPER FUNCTIONS\n",
        "\n",
        "# define prompt viewing function\n",
        "def display_prompt_dict(prompts_dict):\n",
        "    for k, p in prompts_dict.items():\n",
        "        text_md = f\"**Prompt Key**: {k}<br>\" f\"**Text:** <br>\"\n",
        "        display(Markdown(text_md))\n",
        "        print(p.get_template())\n",
        "        display(Markdown(\"<br><br>\"))\n"
      ]
    },
    {
      "cell_type": "markdown",
      "metadata": {
        "id": "cWWl02T2jowm"
      },
      "source": [
        "### Load Datasets"
      ]
    },
    {
      "cell_type": "markdown",
      "source": [
        "If the data isn't in this environment, you can find it here:\n",
        "\n",
        "https://github.com/run-llama/llama-datasets/tree/main/llama_datasets/origin_of_covid19\n"
      ],
      "metadata": {
        "id": "94kr4OH-2eLv"
      }
    },
    {
      "cell_type": "code",
      "source": [
        "# create directories and download file\n",
        "!mkdir origin_of_covid19\n",
        "!mkdir origin_of_covid19/source_files\n",
        "\n",
        "!curl -L -o origin_of_covid19/source_files/OriginsOfCovid19.pdf https://github.com/run-llama/llama-datasets/raw/main/llama_datasets/origin_of_covid19/source_files/OriginOfCovid19.pdf"
      ],
      "metadata": {
        "id": "T05p6ibCsaAM",
        "outputId": "3d5a3ad6-591a-4eb3-ae52-1282ebe5105a",
        "colab": {
          "base_uri": "https://localhost:8080/"
        }
      },
      "execution_count": 3,
      "outputs": [
        {
          "output_type": "stream",
          "name": "stdout",
          "text": [
            "  % Total    % Received % Xferd  Average Speed   Time    Time     Time  Current\n",
            "                                 Dload  Upload   Total   Spent    Left  Speed\n",
            "  0     0    0     0    0     0      0      0 --:--:-- --:--:-- --:--:--     0\n",
            "100 2549k  100 2549k    0     0  2591k      0 --:--:-- --:--:-- --:--:-- 2591k\n"
          ]
        }
      ]
    },
    {
      "cell_type": "code",
      "execution_count": 4,
      "metadata": {
        "id": "ZLU2Ecbujowm"
      },
      "outputs": [],
      "source": [
        "from llama_index.core import SimpleDirectoryReader\n",
        "from llama_index.core.llama_dataset import LabelledRagDataset\n",
        "\n",
        "PATH_TO_DATA = './'\n",
        "\n",
        "dataset_path = 'origin_of_covid19/source_files'\n",
        "\n",
        "#rag_dataset = LabelledRagDataset.from_json(\"./origin_of_covid_data/data/rag_dataset.json\")\n",
        "documents = SimpleDirectoryReader(input_dir=PATH_TO_DATA + dataset_path).load_data()"
      ]
    },
    {
      "cell_type": "code",
      "execution_count": 6,
      "metadata": {
        "id": "MX1fvWyWjowm",
        "outputId": "9eba4836-03cb-4f9b-b619-576ad431198c",
        "colab": {
          "base_uri": "https://localhost:8080/"
        }
      },
      "outputs": [
        {
          "output_type": "execute_result",
          "data": {
            "text/plain": [
              "[Document(id_='748e97dc-5d06-4147-8079-f77aaa7ce905', embedding=None, metadata={'page_label': '1', 'file_name': 'OriginOfCovid19.pdf', 'file_path': '/content/origin_of_covid_data/source_files/OriginOfCovid19.pdf', 'file_type': 'application/pdf', 'file_size': 2610336, 'creation_date': '2024-04-16', 'last_modified_date': '2024-04-16'}, excluded_embed_metadata_keys=['file_name', 'file_type', 'file_size', 'creation_date', 'last_modified_date', 'last_accessed_date'], excluded_llm_metadata_keys=['file_name', 'file_type', 'file_size', 'creation_date', 'last_modified_date', 'last_accessed_date'], relationships={}, text='Am. J. Trop. Med. Hyg. , 103(3), 2020, pp. 955 –959\\ndoi:10.4269/ajtmh.20-0849Copyright © 2020 by The American Society of Tropical Medicine and Hygiene\\nPerspective Piece\\nThe Origin of COVID-19 and Why It Matters\\nDavid M. Morens,1,2* Joel G. Breman,3Charles H. Calisher,4Peter C. Doherty,5Beatrice H. Hahn,6,7Gerald T. Keusch,8,9,10\\nLaura D. Kramer,11,12James W. LeDuc,13Thomas P. Monath,3,14and Jeffery K. Taubenberger15\\n1American Committee on Arthropod-Borne Viruses, American Society of Tropical Medicine and Hygiene, Arlington, Virginia;2National Institute of\\nAllergy and Infectious Diseases, National Institutes of Health, Bethesda, Maryland;3American Society of Tropical Medicine and Hygiene, Arlington,\\nVirginia;4Arthropod-borne and Infectious Diseases Laboratory, Department of Microbiology, Immunology & Pathology, College of Veterinary\\nMedicine and Biomedical Sciences, Colorado State University, Fort Collins, Colorado;5Department of Microbiology and Immunology, University of\\nMelbourne at the Doherty Institute, Melbourne, Australia;6Department of Medicine, Perelman School of Medicine, University of Pennsylvania,\\nPhiladelphia, Pennsylvania;7Department of Microbiology, Perelman School of Medicine, University of Pennsylvania, Philadelphia, Pennsylvania;\\n8Department of Medicine, Boston University School of Medicine, Boston, Massachusetts;9Department of Global Health, Boston University School\\nof Public Health, Boston, Massachusetts;10National Emerging Infectious Diseases Laboratory at Boston University, Boston, Massachusetts;\\n11Arbovirus Laboratory, Wadsworth Center, New York State Department of Health, Albany, New York;12Department of Biomedical Sciences,\\nSchool of Public Health, State University of New York at Albany, Albany, New York;13Galveston National Laboratory and Department of\\nMicrobiology and Immunology, University of Texas Medical Branch, Galveston, Texas;14Crozet BioPharma LLC, Devens, Massachusetts;15Viral\\nPathogenesis and Evolution Section, Laboratory of Infectious Diseases, National Institute of Allergy and Infectious Diseases, National Institut es of\\nHealth, Bethesda, Maryland\\nAbstract. The COVID-19 pandemic is among the deadliest infectious diseases to have emerged in recent history. As\\nwith all past pandemics, the speci ﬁc mechanism of its emergence in humans remains unknown. Nevertheless, a large body\\nof virologic, epidemiologic, veterinary, and ecologic data establishes that the new virus, SARS-CoV-2, evolved directly orindirectly from a β-coronavirus in the sarbecovirus (SARS-like virus) group that naturally infect bats and pangolins in Asia\\nand Southeast Asia. Scientists have warned for decades that such sarbecoviruses are poised to emerge again and again,\\nidenti ﬁed risk factors, and argued for enhanced pandemic prevention and control efforts. Unfortunately, few such pre-\\nventive actions were taken resulting in the latest coronavirus emergence detected in late 2019 which quickly spreadpandemically. The risk of similar coronavirus outbreaks in the future remains high. In addition to controlling the COVID-19pandemic, we must undertake vigorous scienti ﬁc, public health, and societal actions, including signi ﬁcantly increased\\nfunding for basic and applied research addressing disease emergence, to prevent this tragic history from repeating itself.\\nIn 2007, scientists studying coronaviruses warned: “The\\npresence of a large reservoir of SARS-CoV –like viruses in\\nhorseshoe bats ...is a time bomb. The possibility of the re-\\nemergence of SARS and other novel viruses ...should not be\\nignored. ”\\n1\\nFew paid attention following the disappearance of SARS\\nafter the initial outbreak in 2002. Now, 18 years later, COVID-19\\nhas emerged as the deadliest respiratory disease pandemic\\nsince 1918, when the “Spanish ”inﬂuenza pandemic killed an\\nestimated 50 million people.2We need to understand what\\nhappened so that we can prevent it from happening again, and\\nbe betterprepared to containsimilar pandemics attheir outsets.\\nEMERGENCE OF THE COVID-19 PANDEMIC\\nThe agent of COVID-19, SARS-CoV-2, was named after the\\ngenetically related SARS-CoV (more recently distinguished\\nby some as SARS-CoV-1), which caused a deadly near-\\npandemic in 2002 –2003.3Before 2019, neither SARS-CoV-2\\nnor its genetic sequences had ever been identi ﬁed in viruses of\\nhumans or animals.\\nEven so, scienti ﬁc research conducted over the last two\\ndecades provides clues about how and why the COVID-19\\npandemic appeared. We must understand these critically\\nimportant scienti ﬁcﬁndings, described in the following text, so\\nthat we can better address signi ﬁcant existential risks we will\\ncontinue to face for the foreseeable future.HOW VIRAL DISEASES EMERGE\\nViruses are compact nucleic acid packages of either DNA or\\n(in the case of coronaviruses) RNA associated with proteins, and in\\nsome cases with lipids. Viruses are not living organisms and can\\nonly reproduce inside living cells susceptible to viral entry and withthe capacity to replicate viral nucleic acids and translate nucleicacid signals into amino acids to build viral proteins. Viruses are\\ntherefore nonliving self-contained genetic programs capable of\\nredirecting a cell ’s machinery to produce more of themselves.\\nIt follows that when a virus enters a human cell for the ﬁrst time, it\\nhas very recently been transmitted from cells of some other host,\\nthat is, from another animal or, for example, an insect vector.Emergence of a pathogen between a vertebrate or an insect has\\nbeen referred to as host-switching, sometimes described as a\\nspillover event. Most of the human viral and nonviral infectiousdiseases that have existed for centuries —measles, in ﬂuenza,\\ncholera, smallpox (eradicated in 1980), falciparum malaria,\\n4\\ndengue, HIV, and many others —originated by animal-to-human\\nhost-switching.5The complex genetic events that underlie host-\\nswitching differ greatly from pa thogen to pathogen, but general\\nmechanisms have been recognized for many.6–9\\nHost-switching determinants pr ominently include social, en-\\nvironmental, and biological factor s providing the opportunity for\\nhost–species interaction; shared host cell receptors; genetic\\ndistance between transmitting and receiving hosts; and charac-teristics and complexity of the viral quasi-species or viral swarm.\\n(RNA viruses in particular are no t transmitted to multiple cells as\\nidentical virions, but as collectio ns of thousands of different ge-\\nnetically related virions. The ever-changing complexity of the viralswarm varies among species, gene tically distinct but related in-\\ndividuals of the same species, and in single hosts over time.) * Address correspondence to David M. Morens, Room 7A-03, Building\\n31, 31 Center Drive, Bethesda, Maryland 20892-2520. Email:\\ndm270q@nih.gov\\n955', start_char_idx=None, end_char_idx=None, text_template='{metadata_str}\\n\\n{content}', metadata_template='{key}: {value}', metadata_seperator='\\n'),\n",
              " Document(id_='b01a4e65-f6db-46e6-91a8-193400f0799e', embedding=None, metadata={'page_label': '2', 'file_name': 'OriginOfCovid19.pdf', 'file_path': '/content/origin_of_covid_data/source_files/OriginOfCovid19.pdf', 'file_type': 'application/pdf', 'file_size': 2610336, 'creation_date': '2024-04-16', 'last_modified_date': '2024-04-16'}, excluded_embed_metadata_keys=['file_name', 'file_type', 'file_size', 'creation_date', 'last_modified_date', 'last_accessed_date'], excluded_llm_metadata_keys=['file_name', 'file_type', 'file_size', 'creation_date', 'last_modified_date', 'last_accessed_date'], relationships={}, text='Studying animal viruses that have previously spilled over\\ninto humans provides clues about host-switching determi-nants. A well-understood example is in ﬂuenza virus emer-\\ngence into humans and other mammals.\\n2Human pandemic\\nand seasonal in ﬂuenza viruses arise from enzootic viruses of\\nwild waterfowl and shore birds. From within this natural res-\\nervoir, the 1918 pandemic “founder ”virus somehow host-\\nswitched into humans. We know this from genetic studiescomparing avian viruses, the 1918 virus, and its descendants,which have caused three subsequent pandemics, as well as\\nannual seasonal in ﬂuenza in each of the 102 years since 1918.\\nSimilarly, other avian in ﬂuenza viruses have host-switched into\\nhorses, dogs, pigs, seals, and other vertebrates, with as yet un-\\nknown pandemic potential.\\n2,10,11Although some molecular host-\\nswitching events remain unobserved, phylogenetic analyses ofinﬂuenza viruses allow us to readily characterize evolution and\\nhost-switching as it occurs in nature.\\n2\\nCORONAVIRUSES\\nCoronaviruses are RNA viruses globally distributed in a\\nlarge but unknown number of animal species. Coronavirusesimportant for humans are found within phylogenetically\\ndistinct taxonomic subgroups, labeled as the α-a n d β-\\ncoronaviruses (Figure 1).\\n12Four endemic human coronavi-\\nruses, which emerged at some undetermined time in the past,\\ncause (mostly) mild self-limited upper respiratory tract infec-\\ntions (Figure 1).\\nRECENT CORONAVIRUS EMERGENCES FROM ANIMALS\\nINTO HUMANS\\nUntil recently, relatively little was known about coronavi-\\nruses, and research interest in these common cold viruses\\nwas minimal. Eighteen years ago, a previously unknown β-\\ncoronavirus named SARS-CoV suddenly emerged. Following\\nits initial appearance in China it spread to 29 other countries,\\ncausing a near-pandemic and killing 813 of the 8,809 peoplewith con ﬁrmed infection before being controlled by aggres-\\nsive public health measures. It has not been seen since. In\\n2012, however, another previously unknown β-coronavirus\\nnamed Middle East respiratory syndrome coronavirus (MERS-CoV), and closely related to SARS-CoV, emerged to cause\\nhigh case-fatality human infections. Fortunately, this virus\\ndoes not ef ﬁciently transmit between humans, and cases have\\nbeen largely limited to the Middle East where its intermediary\\nhost, the dromedary camel, is present in relatively high num-\\nbers. In 2016, yet another novel bat-origin coronavirus, anα-coronavirus, emerged in China to cause a novel epizootic\\ndisease in pigs, termed swine acute diarrhea syndrome\\ncoronavirus (SADS-CoV). And most recently, at least as earlyas late November 2019, SARS-CoV-2 was recognized andbecame the third fatal bat virus –associated human diseaseHCoV\\n−NL63HCoV\\n−229ESADS\\n−CoVSARS\\n−CoV\\n−1Bat\\n−CoV\\n−RaTG13 SARS\\n−CoV\\n−2GD\\n−Pangolin\\n−CoVGX\\n−Pangolin\\n−CoV\\nHCoV−HKU1HCoV−OC43\\nFCoVMERS\\n−CoV\\n0.187100\\n97\\n100Beta-CoV\\nDelta-CoV\\nGam\\nm\\na-CoV\\nAlpha-CoV\\nFIGURE 1. Phylogenetic relationships of selected coronaviruses of\\nmedical and veterinary importan ce. Human SARS-CoV and SARS-CoV-2\\nare closely related to numerous bat and pangolin coronaviruses in a viralgenetic grouping called sarbecoviruses, which contains many otherviruses very closely related to SARS-CoV and SARS-CoV-2. These viru-s e sb e l o n gt ot h eo r d e r Nidovirales , family Coronaviridae , subfamily\\nCoronavirinae and the four genera Alphacoronavirus ,Betacoronavirus ,\\nGammacoronavirus ,a n d Deltacoronavirus . The betacoronaviruses are\\ncomprised of two subgenera, Sarbecovirus andMerbecovirus .T h ef o r m e r\\ninclude SARS-CoV and SARS-CoV-2; the latter includes Middle East re-spiratory syndrome-related coronavirus (MERS-CoV). Image created bySebastian M. Gygli, Ph.D., NIAID, NIH, and used with permission.\\nFIGURE 2. Predicted global hotspots for disease emergence, showing estimated risks, adjusted for reporting bias. From a comprehensive global\\nstudy combining multiple data sources. Reproduced with permission from Allen et al .14956 MORENS AND OTHERS', start_char_idx=None, end_char_idx=None, text_template='{metadata_str}\\n\\n{content}', metadata_template='{key}: {value}', metadata_seperator='\\n'),\n",
              " Document(id_='e09e4ea7-61db-4e42-8389-79376b559fa0', embedding=None, metadata={'page_label': '3', 'file_name': 'OriginOfCovid19.pdf', 'file_path': '/content/origin_of_covid_data/source_files/OriginOfCovid19.pdf', 'file_type': 'application/pdf', 'file_size': 2610336, 'creation_date': '2024-04-16', 'last_modified_date': '2024-04-16'}, excluded_embed_metadata_keys=['file_name', 'file_type', 'file_size', 'creation_date', 'last_modified_date', 'last_accessed_date'], excluded_llm_metadata_keys=['file_name', 'file_type', 'file_size', 'creation_date', 'last_modified_date', 'last_accessed_date'], relationships={}, text='emergence and the fourth bat virus –associated mammalian\\nemergence in 18 years.\\nCORONAVIRUS EMERGENCE RISKS\\nAn enormous reservoir of coronaviruses infects hundreds of bat\\nspecies distributed globally. SARS-CoV, MERS-CoV, and SARS-\\nCoV-2 are closely related β-coronaviruses clustering in two adja-\\ncent phylogenetic groupings: sa rbecovirus (SARS-like viruses)\\nand merbecovirus (MERS-like vir uses) (Figure 1). The two SARS\\nviruses, as well as SADS-CoV, are descended from viruses en-\\nzootic in rhinolophid (genus, Rhinolophus ), or horseshoe bats.\\nOver the past 15 years, scientists have also identi ﬁed global\\nanimal reservoirs of coronaviruses (in Africa, the Americas, the\\nMiddle East, Asia and Southeast Asia, and particularly China, the\\nlocation of three of the four most recent emergences). Theseefforts have revealed much about coronaviral ecosystems, res-\\nervoir hosts, viral movement between hosts, viral evolution, and\\nrisk of emergence into humans and other mammals.\\nBats of numerous globally distributed genera and species\\nare now known to be the major reservoir of animal coronavi-\\nruses. One 20-country study of more than 19,000 animals\\n(predominantly nonhuman primates, bats, and rodents)revealed that bats accounted for more than 98% of corona-\\nvirus detections, and that almost 9% of > 12,000 randomly\\nstudied bats were infected with one or more coronavirus.\\n13\\nSigni ﬁcant interspecies viral transmission between closely\\nand distantly related bats also appears to be important. Bats of\\nsome species, including rhinolophids, co-roost with bats ofother species, facilitating viral exchanges and enhanced viral\\nevolution associated with genetic recombination. In fact, many\\nsuch bat coronaviruses have genetic sequences similar toSARS-CoV and SARS-CoV-2.\\nInvestigators have also mapped global hotspots for po-\\ntential infection emergence, prominently in south/southwest\\nChina and contiguous regions and countries (Figure 2),\\n14and\\nhave identi ﬁed numerous human –animal interactions that con-\\nstitute emergence risk factors, for example bat tourism, wet\\nmarkets, wildlife supply chains for human consumption,15land\\nmanagement practices, and environmental perturbations.16–18\\nVirologic and risk mapping studies indicate a very high risk of\\nfurther coronavirus outbreaks.19–21\\nSARS-CoV and SARS-CoV-2 emerged in China, home to\\nbats of more than 100 species, many of which carry α- and/or\\nβ-coronaviruses. In one study, more than 780 partial coro-\\nnavirus genetic sequences were identi ﬁed from bats of\\n41 species infected by α- and of 31 species infected by\\nβ-coronaviruses.21Within the sarbecovirus lineage, en-\\ncompassing SARS and SARS-like viruses, many identi ﬁed\\ngenetic sequences are very similar to SARS-CoV and SARS-\\nCoV-2.21–23One such virus is more than 96% identical to\\nSARS-CoV-2 in its whole genome23; another shares more\\nthan 97% identity in the 1ab replicase gene, as well as a furin\\nc l e a v a g es i t ei n s e r t i o n .24Nature is clearly a cauldron for in-\\ntense and dangerous coronavirus evolution.\\nWAS COVID-19 PREDICTED?\\nA clearer, more worrisome picture of the coronavirus eco-\\nsystem has recently come together. A contiguous area en-\\ncompassing parts of south/southwest China, Laos, Myanmar,\\nand Vietnam constitutes a bat coronavirus “hotspot, ”featuringintense interspecies viral transmission. In such hotspots, a\\nrich diversity of SARS-like viruses has been found, not only in\\nrhinolophid bats but also in bats of other genera and species towhich these viruses had host-switched. The same rhinolophid\\nbats are also implicated in the emergence of SADS-CoV in\\nsouthern China. Many of these SARS-like viruses bind to hu-man angiotensin-converting enzyme-2 (ACE2) receptors and\\ninfect human respiratory epithelial cells in vitro, suggesting their\\npandemic potential.\\n19,25\\nOminously, bat-to-human transmission of SARS-like viruses\\nhas already been detected,20perhaps representing pandemic\\nnear-misses. Even the more genetically distant SADS-CoV\\ninfects cells of humans and numerous other vertebrates,raising concern about indirect coronavirus emergences. This\\nseems to have occurred with the bat-to-camel-to-human\\nemergence of MERS, and possibly with SARS-CoV emer-gence into humans, which may have resulted from bat virus\\ninfection of masked palm civet cats ( Paguma larvata ), with\\nsubsequent human spillover.\\n12As a byproduct of the impor-\\ntant international surveillance work described above, in 2017,the therapeutic bene ﬁt of the antiviral drug remdesivir was\\nsuggested; it is now, in 2020, being widely used to treat per-\\nsons infected with SARS-CoV-2.\\n26\\nSince 2007, when alarming predictions about threatened\\ncoronavirus emergences began to appear,1understanding\\nof coronavirus ecosystems has become far more complete.Over the past 5 years, Chinese, American, European, and\\nother scientists have begun to renew warnings that hu-\\nmans are intensively interacting with coronavirus-infectedbats, that enzootic SARS-related bat coronaviruses have all\\nof the essential components of the SARS virus, that some\\nof these SARS-like viruses can infect laboratory-humanized\\nmice to cause SARS-like disease, that SARS-like viruses havethe ability to directly infect andbetransmitted between humans,\\nand, therefore, that these viruses are poised for human\\nemergence.\\n19,21,22Many scientists have proposed aggressive\\nmonitoring of known hotspots to try to predict and prevent viral\\nemergence that might impact human health, including early\\nwarning of host-switching events.19,20,27\\nUnfortunately, outside of some members of the scienti ﬁc\\ncommunity, there has been little interest and no sense of\\nurgency. In 2020, we learned, tragically, what 12 years of un-heeded warnings have led to: a bat-derived sarbecovirus —\\nfrom the very same SARS-like bat virus group that had been\\nwarned about by multiple voices for over a decade —emerged\\nand proceeded to cause the COVID-19 pandemic that nowsweeps the globe.\\nSARS-CoV-2 emerged essentially as predicted: a natural\\nevent associated with either direct transmission of a batcoronavirus to humans or indirect transmission to humans via\\nan intermediate host such as a Malaysian pangolin ( Manis\\njavanica ) or another, yet-to-be-identi ﬁed mammal.\\n28–31\\nIt should be clari ﬁed that theories about a hypothetical man-\\nmade origin of SARS-CoV-2 have been thoroughly discredited\\nby multiple coronavirus experts.21,28,29SARS-CoV-2 contains\\nneither the genetic ﬁngerprints of any of the reverse genetics\\nsystems that have been used to engineer coronaviruses nor\\ndoes it contain genetic sequences that would have been\\n“forward engineered ”from preexisting viruses, including the\\ngenetically closest sarbecoviruses. That is, SARS-CoV-2 is\\nunlike any previously identi ﬁed coronavirus from which it\\ncould have been engineered. Moreover, the SARS-CoV-2ORIGIN OF COVID-19 957', start_char_idx=None, end_char_idx=None, text_template='{metadata_str}\\n\\n{content}', metadata_template='{key}: {value}', metadata_seperator='\\n'),\n",
              " Document(id_='7773b13f-ef91-4096-9542-268c69011736', embedding=None, metadata={'page_label': '4', 'file_name': 'OriginOfCovid19.pdf', 'file_path': '/content/origin_of_covid_data/source_files/OriginOfCovid19.pdf', 'file_type': 'application/pdf', 'file_size': 2610336, 'creation_date': '2024-04-16', 'last_modified_date': '2024-04-16'}, excluded_embed_metadata_keys=['file_name', 'file_type', 'file_size', 'creation_date', 'last_modified_date', 'last_accessed_date'], excluded_llm_metadata_keys=['file_name', 'file_type', 'file_size', 'creation_date', 'last_modified_date', 'last_accessed_date'], relationships={}, text='receptor-binding domain, which has af ﬁnity for cells of various\\nmammals, binds to human ACE2 receptors via a novel\\nmechanism.\\nEngineering such a virus would have required 1) published\\nor otherwise available scienti ﬁc knowledge that did not exist\\nuntil after COVID-19 recognition; 2) a failure to follow obviousengineering pathways, resulting in an imperfectly constructed\\nvirus; and 3) an ability to genetically engineer a new virus\\nwithout leaving ﬁngerprints of the engineering. Furthermore,\\nthe 12 amino acid furin-cleavage site insertion between theSARS-CoV-2 spike protein ’s S1 and S2 domains, which some\\nhave alleged to be a sign of genetic engineering, is found in\\nother bat and human coronaviruses in nature, probably arisingvia naturally occurring recombination.\\n24\\nIt is also highly unlikely that SARS-CoV-2 was released from\\na laboratory by accident because no laboratory had the virusnor did its genetic sequence exist in any sequence database\\nbefore its initial GenBank deposition (early January 2020).\\nChina ’s laboratory safety practices, policies, training, and\\nengineering are equivalent to those of the United States andother developed countries,\\n32making viral “escape ”extremely\\nunlikely, and of course impossible without a viral isolate pre-\\nsent. SARS-CoV-2 shares genetic properties with many othersarbecoviruses, lies fully within their genetic cluster, and is\\nthus a virus that emerged naturally.\\nCOVID-19 EMERGENCE MECHANISMS: WHY\\nTHEY MATTER\\nUnderstanding how COVID-19 emerged is of great importance.\\nWe now know that the viruses causing SARS, MERS, and COVID-\\n1 9a r ea l lm e m b e r so fe n o r m o u sg r o u p so fb a tc o r o n a v i r u s e sdistributed globally, and that many of these viruses are function-ally preadapted to human emergence. This preadaptation can be\\nthought of as “accidental ”because it must have occurred in na-\\nture in the absence of human infection and does not rule outfurther human adaptation to enable pandemicity. Molecular\\nmechanisms of preadaptation are not fully known, but are un-\\ndoubtedly related to functional similarities between ACE2 re-ceptors on the cells of numerous mammals (bats, humans, minks,\\ncats, and other domestic and wild animals).\\n33,34\\nThe ability of coronaviruses to ev olve at a high rate, illustrated\\nby extreme phylogenetic diversity, coupled with the dispersion of\\nnew viral variants within an enormous array of wild animal species\\nthat can serve as hosts, portends poorly for the future of coro-navirus disease emergence. We are already seeing coronavirusmutants with altered af ﬁnity for human ACE2. Whether bat\\ncoronaviruses evolve independently or by “sampling ”various\\nmammalian ACE2 receptors, the result is the same. That batsarbecoviruses so easily switch between multiple hosts sug-\\ngests a many-pronged human risk: directly from bats and in-\\ndirectly from other mammals infected by bat viruses. Because wehave only just begun to sample, sequence, and study bat/\\nmammalian coronaviruses, we can be certain that what we now\\nknow is but the tip of a very large iceberg.\\nThe ﬁndings described earlier reaf ﬁrm what has long been\\nobvious: that future coronavirus transmissions into humans\\nare not only possible, but likely. Scientists knew this years ago\\nand raised appropriate alarm. Our prolonged deafness nowexacts a tragic price.\\nThe story of COVID-19 emergence sends a powerful mes-\\nsage. A quantum leap in bat coronavirus surveillance andresearch is urgently needed. This work must emphasize viro-\\nlogic and behavioral ﬁeld studies of humans and animals\\nwherever they interface, and especially in disease hotspots, aswell as virologic studies related to human and animal spillover\\nrisks and the means of reducing them.\\n35\\nImportant research that has languished, been underfunded, or\\ndiscontinued should be greatly expanded to deal with the ur-\\ngency of the situation, and more scientists, including scientists\\nworking in China and other hotspot countries (Figure 2), shouldbe recruited to these efforts, esp ecially in international research\\npartnerships. Full, open international collaboration involving\\nmany countries is essential. In particular, ﬁeld research on the\\nprevalence and virus-host relationships of coronaviruses, de-velopment of platform technologies for diagnostics, vaccines,\\nand animal models for studies of pathogenesis and potential\\ntherapeutics is essential to permit, for example, modelingstructure/function relationships of speci ﬁc binding domains from\\nnewly identi ﬁed agents to create critical tools for disease control.\\nIn addition to robust expansion of surveillance and re-\\nsearch, there are things that we can do now to lower our risks.We know much about coronavirus hotspots, not only in China\\nbut also globally; we can more aggressively surveil these lo-\\ncations to learn more about the local viral ecology and identifyinitial human spillover events. We also know much about hu-\\nman behaviors that directly and indirectly bring us into contact\\nwith bats, including risks from wet markets, bat cave tourism,capturing and eating bats, and perturbing the environment in\\nways that alter bat habitats and habits. These are behaviors\\nthat we can and must change.\\nWe can also strengthen basic public health, including hygiene\\nand sanitation, so that emerging viruses do not have a fertile ﬁeld\\nin which to amplify replication, and we must build and maintainstrong public health infrastructure to respond quickly and ef ﬁ-\\nciently to pathogen emergence. For viruses that have emerged,\\nsuch as SARS-CoV-2, we need to develop effective antivirals\\nand, ideally, broadly protective vaccines. Education and com-munication with populations where spillover events occur is also\\nan important component of risk reduction.\\nWe must also realize that the problem is larger than just\\ncoronaviruses. In recent years, we have seen emergences and\\nreemergences of numerous other human infectious diseases\\nsuch as Ebola fever, Lassa fever, hantavirus pulmonary syn-drome, human monkeypox, HIV, dengue, chikungunya, Zika,\\nand epizootic avian in ﬂuenza. We have entered a new pan-\\ndemic era,\\n36one in which epidemic and pandemic emer-\\ngences are becoming commonplace; some are likely to behighly pathogenic. In 2020, our science is suf ﬁciently robust to\\nhave a good chance of controlling pandemic viral emergences\\nwithin 2 –3 years, but dramatically insuf ﬁcient to prevent and\\ncontrol their emergences in the ﬁrst place.\\nWe should begin developing broadly protective vaccines\\nand broadly therapeutic antiviral/antimicrobial agents againstpathogens within taxonomic groups likely to emerge in the\\nfuture, including coronaviruses, henipaviruses, and ﬁloviruses,\\namong others. Organizations like the Coalition for EpidemicPreparedness Innovations, among others, should be extendedand strengthened, emphasizing, in addition to vaccine devel-\\nopment, therapeutics as well as prevention tools. Pandemic\\nprevention should be a global effort on a par with chemical andnuclear weapon prevention.\\nUnless we reset the equation; i nvest more in critical and cre-\\native laboratory, ﬁeld, and behavioral research; and start ﬁnding958 MORENS AND OTHERS', start_char_idx=None, end_char_idx=None, text_template='{metadata_str}\\n\\n{content}', metadata_template='{key}: {value}', metadata_seperator='\\n'),\n",
              " Document(id_='03ed6386-7c05-4e25-b4a4-902743148e94', embedding=None, metadata={'page_label': '5', 'file_name': 'OriginOfCovid19.pdf', 'file_path': '/content/origin_of_covid_data/source_files/OriginOfCovid19.pdf', 'file_type': 'application/pdf', 'file_size': 2610336, 'creation_date': '2024-04-16', 'last_modified_date': '2024-04-16'}, excluded_embed_metadata_keys=['file_name', 'file_type', 'file_size', 'creation_date', 'last_modified_date', 'last_accessed_date'], excluded_llm_metadata_keys=['file_name', 'file_type', 'file_size', 'creation_date', 'last_modified_date', 'last_accessed_date'], relationships={}, text='ways to prevent these emergenc es, we will soon see additional\\ncoronavirus pandemics, as well as global spread of other types of\\ninfectious agents not yet imagined, caused by some of the mil-lions of viruses in the natural world, many of which we have not\\nyet had the time and funding to identify and study.\\n27\\nUnderstanding how COVID-19 emerged is a critical point on\\na steep learning curve we must quickly master. As we face the\\nmounting deaths and societal upheavals of the COVID-19\\npandemic, we must not lose sight of how this pandemic be-gan, how and why we missed the warning signs, and what wecan do to prevent it from happening again —and again.\\nReceived July 3, 2020. Accepted for publication July 13, 2020.\\nPublished online July 22, 2020.Acknowledgement: Publication charges for this article were waived\\ndue to the ongoing pandemic of COVID-19.\\nFinancial support: This work was funded in part by the intramural re-\\nsearch program of the National Institute of Allergy and Infectious\\nDiseases (NIAID), National Institutes of Health (NIH).\\nDisclosure: The views in this article are those of the authors and not of\\ntheir institutions, or the NIAID, NIH, DHHS.\\nAuthors ’addresses: David M. Morens, American Committee on\\nArthropod-Borne Viruses, American Society of Tropical Medicine andHygiene, Arlington, VA, and National Institute of Allergy and InfectiousDiseases, National Institutes of Health, Bethesda, MD, E-mail:\\ndm270q@nih.gov. Joel G. Breman, American Society of Tropical\\nMedicine and Hygiene, Arlington, VA, E-mail: jgbreman@gmail.com.Charles H. Calisher, Colorado State University, Fort Collins, CO,E-mail: calisher@cybersafe.net. Peter C. Doherty, Department of Mi-crobiology and Immunology, University of Melbourne at the DohertyInstitute, Melbourne, Australia, E-mail: pcd@unimelb.edu.au. Beatrice\\nH. Hahn, Perelman School of Medicine, University of Pennsylvania,\\nPhiladelphia, PA, E-mail: bhahn@pennmedicine.upenn.edu. Gerald T.Keusch, Boston University School of Medicine, Boston, MA, E-mail:keusch@bu.edu. Laura D. Kramer, Wadsworth Center, NewYorkStateDepartment of Health, Albany, NY, E-mail: laura.kramer@health.ny.gov.James LeDuc, University of Texas Medical Branch, Galveston, TX,E-mail: jwleduc@utmb.edu. Thomas P. Monath, Crozet BioPharma\\nLLC, Devens, MA, E-mail: tom.monath@crozetbiopharma.com. Jeffery\\nK. Taubenberger, Viral Pathogenesis and Evolution Section, Labo-ratory of Infectious Diseases, National Institute of Allergy and In-fectious Diseases, National Institutes of Health, Bethesda, MD,E-mail: taubenbergerj@niaid.nih.gov.\\nThis is an open-access article distributed under the terms of the\\nCreative Commons Attribution (CC-BY) License, which permits un-\\nrestricted use, distribution, and reproduction in any medium, provided\\nthe original author and source are credited.\\nREFERENCES\\n1. Cheng VCC, Lau SKP, Woo PCY, Yuen KY, 2007. Severe acute\\nrespiratory syndrome coronavirus as an agent of emerging and\\nreemerging infection. Clin Microbiol Rev 20: 660–694.\\n2. Taubenberger JK, Kash JC, Morens DM, 2019. The 1918 in ﬂuenza\\npandemic: 100 years of questions answered and unanswered.Sci Transl Med 11: eeaau5485.\\n3. Ksiazek TG et al., 2003. A novel coronavirus associated with\\nsevere acute respiratory syndrome. N Engl J Med 348:\\n1953 –1966.\\n4. Sharp PM, Plenderleith LJ, Hahn BH, 2020. Ape origins of human\\nmalaria. Ann Rev Microbiol 74: 39–63.\\n5. Morens DM, Folkers GK, Fauci AS, 2008. Emerging infections: a\\nperpetual challenge. Lancet Infect Dis 8: 710–719.\\n6. Culliton BJ, 1990. Emerging viruses, emerging threat. Science\\n247: 279–280.\\n7. Kuiken T, Holmes EC, McCauley J, Rimmelzwaan GF, Williams\\nCS, Grenfell BT, 2006. Host species barriers to in ﬂuenza virus\\ninfections. Science 312: 394–397.8. Parrish CR, Holmes EC, Morens DM, Park E-C, Burke DS, Calisher\\nCH, Laughlin CA, Saif LJ, Daszak P, 2008. Cross-species virus\\ntransmission and the emergence of new epidemic diseases.\\nMicrobiol Mol Biol Rev 72: 457–470.\\n9. Geoghegan JL, Holmes EC, 2018. Evolutionary virology at 40.\\nGenetics 210: 1151 –1162.\\n10. Morens DM, Taubenberger JK, 2011. Pandemic in ﬂuenza: certain\\nuncertainties. Rev Med Virol 21: 262–284.\\n11. Sun H et al., 2020. Prevalent Eurasian avian-like H1N1 swine\\ninﬂuenza virus with 2009 pandemic viral genes facilitating\\nhuman infection. Proc Natl Acad Sci U S A , doi: 10.1073/\\npnas.1921186117.\\n12. Corman VM, Muth D, Niemeyer D, Drosten C, 2018. Hosts and sources\\nof endemic human coronaviruses. A d vV i r u sR e s1 0 0 : 163–188.\\n13. Anthony SJ et al., 2017. Global patterns in coronavirus diversity.\\nVirus Evol 3: vex012.\\n14. Allen T, Murray KA, Zambtana-Torrelio C, Morse SS, Rondinini C,\\nMarco MD, Breit N, Olival NJ, Daszak P, 2017. Global hotspots and\\ncorrelates of emerging zoonotic diseases. Nat Comm 8: 1124.\\n15. Huong NQ et al., 2020. Coronavirus testing indicates trans-\\nmission risk along wildlife supply chains for human con-\\nsumption in Viet Nam, 2013 –2014. bioRxiv, doi: 10.1101/\\n2020.06.05.098590.\\n16. Li H et al., 2019. Human-animal interactions and bat coronavirus\\nspillover potential among rural residents in Southern China.\\nBiosaf Health 1: 84–90.\\n17. Monagin C et al., 2018. Serologic and behavioral risk survey of\\nworkers with wildlife contact in China.\\nPLoS One 13: e0194647.\\n18. Li H-Y et al., 2020. A qualitative study of zoonotic risk factors among\\nrural communities in southern China. Int Health 12: 77–85.\\n19. Hu B et al., 2017. Discovery of a rich gene pool of bat SARS-\\nrelated coronaviruses provides new insights into the origin of\\nSARS coronavirus. PLoS Pathog 13: e1006698.\\n20. Wang N et al., 2018. Serological evidence of bat SARS-related\\ncoronavirus infection in humans, China. Virol Sin 33: 104–107.\\n21. Latinne A et al., 2020. Origin and cross-species transmission of\\nbat coronaviruses in China. Nat Commun (In press).\\n22. Menachery VD et al., 2016. SARS-like WIV1-CoV poised for hu-\\nman emergence. Proc Natl Acad Sci U S A 113: 3048 –3053.\\n23. Zhou P et al., 2020. A pneumonia outbreak associated with a new\\ncoronavirus of probable bat origin. Nature 579: 270–2734.\\n24. Zhou H et al., 2020. A novel bat coronavirus reveals natural in-\\nsertions at the S1/S2 cleavage site of the Spike protein and a\\npossible recombinant origin of HCoV-19. bioRxiv, doi: 10.1101/\\n2020.03.02.974139.\\n25. Ge XY et al., 2013. Isolation and characterization of a bat SARS-like\\ncoronavirus that uses the ACE2 receptor. Nature 503: 535–538.\\n26. Sheahan TP et al., 2017. Broad-spectrum antiviral GS-5734 in-\\nhibits both epidemic and zoonotic coronaviruses. Sci Transl\\nMed 9: eaal3653.\\n27. Carroll D, Daszak P, Wolfe ND, Gao GF, Morel CM, Morzaria S,\\nPablos-M ´ endez A, Tomori O, Mazet JAK, 2018. The Global\\nVirome Project. Science 359: 872–974.\\n28. Anderson KG, Rambaut A, Lipkin WI, Holmes EC, Garry RF, 2020.\\nThe proximal origin of SARS-CoV-2. Nat Med 26: 450–452.\\n29. Zhang Y-Z, Holmes EC, 2020. A genomic perspective on the or-\\nigin and emergence of SARS-CoV-2. Cell 181: 223–226.\\n30. Lu R et al., 2020. Genomic characterisation and epidemiology of\\n2019 novel coronavirus: implications for virus origins and re-\\nceptor binding. Lancet 395: 565–574.\\n31. Li X, Giorgi EE, Marichann MH, Foley B, Xiao C, Kong X-P, Chen Y,\\nKrober B, Gao F, 2020. Emergence of SARS-CoV-2 through re-\\ncombination and strong purifying selection. Sci Adv 6: eabb9153.\\n32. Xia H, Huang Y, Ma H, Liu B, Xie W, Song D, Yuan Z, 2019. Bio-\\nsafety level 4 laboratory user training program, China. Emerg\\nInfect Dis 25: e180220.\\n33. Oreshkova N et al., 2020. SARS-CoV2 infection in farmed mink,\\nNetherlands. Euro Surveill 25: pii=2001005.\\n34. Halfman PJ et al., 2020. Transmission of SARS-CoV-2 in do-\\nmestic cats. N Engl J Med , doi: 10.1056/NEJMc2013400.\\n35. Letko M, Seifert SN, Olival KJ, Plowright RK, Munster VJ, 2020.\\nBat-borne virus diversity, spillover, and emergence. Nat Rev\\nMicrobiol 18: 461–471.\\n36. Morens DM, Daszak P, Markel H, Taubenberger JK, 2020. Pandemic\\nCOVID-19 joins history ’sp a n d e m i cl e g i o n . mBio 11: e00812-20.ORIGIN OF COVID-19 959', start_char_idx=None, end_char_idx=None, text_template='{metadata_str}\\n\\n{content}', metadata_template='{key}: {value}', metadata_seperator='\\n')]"
            ]
          },
          "metadata": {},
          "execution_count": 6
        }
      ],
      "source": [
        "documents"
      ]
    },
    {
      "cell_type": "markdown",
      "metadata": {
        "id": "ggJRm4UEjowm"
      },
      "source": [
        "#### Download data (broken externally 2024-03-22)"
      ]
    },
    {
      "cell_type": "code",
      "execution_count": 5,
      "metadata": {
        "id": "Xf_QrWGaIdnn"
      },
      "outputs": [],
      "source": [
        "from llama_index.core.llama_dataset import download_llama_dataset\n",
        "\n",
        "# This download step broke on 2024-03-22, giving a JSONDecodeError\n",
        "# it is still unclear what caused this\n",
        "\n",
        "\n",
        "# datasets from here: https://llamahub.ai/?tab=llama_datasets\n",
        "rag_dataset, documents = download_llama_dataset(\n",
        "    # \"PatronusAIFinanceBenchDataset\", \"./patronus_finance_data\" # this dataset takes a long time to download (>10min)\n",
        "    # \"PaulGrahamEssayDataset\", \"./paul_graham_data\"  # small dataset\n",
        "    \"OriginOfCovid19Dataset\", \"./origin_of_covid_data\"\n",
        "    #\"DocugamiKgRagSec10Q\", \"./docugami_finance_10Q_data\"  # https://github.com/docugami/KG-RAG-datasets\n",
        ")"
      ]
    },
    {
      "cell_type": "markdown",
      "metadata": {
        "id": "YT5jTkup9_Cj"
      },
      "source": [
        "### Prepare LLM: OpenAI"
      ]
    },
    {
      "cell_type": "code",
      "execution_count": 7,
      "metadata": {
        "id": "ne0hwxgC-ESX",
        "outputId": "1f8ade73-edf5-4103-fc36-2ad050fddff0",
        "colab": {
          "base_uri": "https://localhost:8080/"
        }
      },
      "outputs": [
        {
          "name": "stdout",
          "output_type": "stream",
          "text": [
            "\n",
            "Please enter your OpenAI API Key (e.g. 'sk-...'):··········\n"
          ]
        }
      ],
      "source": [
        "import getpass\n",
        "\n",
        "os.environ[\"OPENAI_API_KEY\"] = getpass.getpass(\n",
        "    \"\\nPlease enter your OpenAI API Key (e.g. 'sk-...'):\"\n",
        ")\n",
        "\n",
        "\n",
        "# define LLM\n",
        "from llama_index.llms.openai import OpenAI\n",
        "from llama_index.core import Settings\n",
        "\n",
        "Settings.llm = OpenAI(\n",
        "    temperature=0,\n",
        "    #model=\"gpt-3.5-turbo\",\n",
        "    model=\"gpt-4\",\n",
        ")\n",
        "Settings.chunk_size = 512"
      ]
    },
    {
      "cell_type": "markdown",
      "metadata": {
        "id": "NZCEwcP58mFx"
      },
      "source": [
        "### Prepare Graph DB"
      ]
    },
    {
      "cell_type": "markdown",
      "metadata": {
        "id": "kmzeSIP1blpp"
      },
      "source": [
        "#### SimpleGraphStore\n",
        "\n",
        "Instead of a full-featured graph DB, for simplicity we'll use an in memory graph store object."
      ]
    },
    {
      "cell_type": "code",
      "execution_count": 8,
      "metadata": {
        "id": "wfjDx63bbi1X"
      },
      "outputs": [],
      "source": [
        "from llama_index.core.graph_stores import SimpleGraphStore\n",
        "from llama_index.core import StorageContext\n",
        "\n",
        "graph_store = SimpleGraphStore()\n",
        "storage_context = StorageContext.from_defaults(graph_store=graph_store)"
      ]
    },
    {
      "cell_type": "markdown",
      "metadata": {
        "id": "eUpA-2HQA1Lh"
      },
      "source": [
        "## Build the Knowledge Graph"
      ]
    },
    {
      "cell_type": "markdown",
      "metadata": {
        "id": "DOXrEVyHjowo"
      },
      "source": [
        "### Create a custom triplet extraction prompt (optional)"
      ]
    },
    {
      "cell_type": "code",
      "execution_count": 9,
      "metadata": {
        "id": "gZNFuNlZi9va"
      },
      "outputs": [],
      "source": [
        "from llama_index.core.prompts.base import PromptTemplate\n",
        "from llama_index.core.prompts.prompt_type import PromptType\n",
        "\n",
        "\n",
        "kg_prompt_template_string = (\n",
        "    \"Some text is provided below. \"\n",
        "    \"Given the text, extract up to \"\n",
        "    \"{max_knowledge_triplets} \"\n",
        "    \"knowledge triplets in the form of (subject, predicate, object). Avoid stopwords.\\n\"\n",
        "\n",
        "    \"* Keep the subject and predicate simple, and not too long.\"\n",
        "    \"* Focus on people, places, animals, organisms, diseases, organizations.\\n\"\n",
        "    \"* Return triplet text in all lowercase.\\n\"\n",
        "    \"* Also include triplets in the reverse relationship direction.\\n\"\n",
        "\n",
        "    \"\\n\\n---------------------\\n\"\n",
        "    \"Examples:\"\n",
        "    \"\\n\\nText: Sarbecoviruses are a group of viruses\"\n",
        "    \"\\nTriplets:\\n\"\n",
        "    \"(sarbecovisuses, are a group of, viruses)\"\n",
        "    \"(viruses, include, sarbecoviruses)\"\n",
        "\n",
        "    \"\\n\\nText: Sarbecoviruses are a group of viruses that naturally infect bats and pangolins.\"\n",
        "    \"\\nTriplets:\\n\"\n",
        "    \"(sarbecovisuses, are a group of, viruses)\"\n",
        "    \"(viruses, include, sarbecoviruses)\"\n",
        "    \"(sarbecoviruses, naturally infect, bats)\"\n",
        "    \"(bats, are naturally infected by, sarbecoviruses)\"\n",
        "    \"(sarbecoviruses, naturally infect, pangolins)\"\n",
        "    \"(pangolins, are naturally infected by, sarbecoviruses)\"\n",
        "\n",
        "    \"---------------------\\n\"\n",
        "    \"\\nText: {text}\\n\"\n",
        "    \"\\nTriplets:\\n\"\n",
        ")\n",
        "\n",
        "kg_triplet_template = PromptTemplate(\n",
        "    kg_prompt_template_string,\n",
        "    prompt_type=PromptType.KNOWLEDGE_TRIPLET_EXTRACT\n",
        ")"
      ]
    },
    {
      "cell_type": "markdown",
      "metadata": {
        "id": "VSSkb0NJjowo"
      },
      "source": [
        "### Build the KG\n",
        "\n",
        "This usually takes between 2 and 10 minutes, depending on LLM used and KG parameters."
      ]
    },
    {
      "cell_type": "code",
      "execution_count": 10,
      "metadata": {
        "id": "CRLJshF6FyAw"
      },
      "outputs": [],
      "source": [
        "from llama_index.core import KnowledgeGraphIndex\n",
        "\n",
        "\n",
        "kg_index = KnowledgeGraphIndex.from_documents(\n",
        "    documents,\n",
        "    kg_triple_extract_template=kg_triplet_template,\n",
        "    storage_context=storage_context,\n",
        "    max_triplets_per_chunk=20,\n",
        "    space_name=space_name,\n",
        "    edge_types=edge_types,\n",
        "    rel_prop_names=rel_prop_names,\n",
        "    tags=tags,\n",
        "    include_embeddings=True,\n",
        ")"
      ]
    },
    {
      "cell_type": "markdown",
      "metadata": {
        "id": "nUMVtb9cd6k7"
      },
      "source": [
        "### Explore the KG"
      ]
    },
    {
      "cell_type": "code",
      "execution_count": 11,
      "metadata": {
        "colab": {
          "base_uri": "https://localhost:8080/"
        },
        "id": "frwKkHZ2eBSi",
        "outputId": "b8a0b537-3980-4af1-e2e9-9764e82e7c34"
      },
      "outputs": [
        {
          "output_type": "stream",
          "name": "stdout",
          "text": [
            "Number of nodes:  88\n"
          ]
        }
      ],
      "source": [
        "graph = kg_index.get_networkx_graph()\n",
        "\n",
        "print('Number of nodes: ', len(list(graph.nodes)))"
      ]
    },
    {
      "cell_type": "code",
      "execution_count": null,
      "metadata": {
        "id": "lFJl9q5reXfa"
      },
      "outputs": [],
      "source": [
        "# write the graph to a file\n",
        "# nx.write_graphml(graph.subgraph, \"kg.graphml\")"
      ]
    },
    {
      "cell_type": "code",
      "execution_count": 12,
      "metadata": {
        "colab": {
          "base_uri": "https://localhost:8080/"
        },
        "id": "iI1pO7XSeHJX",
        "outputId": "8ca2d886-c7be-4f88-c225-2ebfdde78a50"
      },
      "outputs": [
        {
          "output_type": "execute_result",
          "data": {
            "text/plain": [
              "[('Sars-cov-2', 22),\n",
              " ('Sarbecoviruses', 9),\n",
              " ('Bats', 7),\n",
              " ('Scientists', 7),\n",
              " ('David m. morens', 4),\n",
              " ('Laura d. kramer', 3),\n",
              " ('Covid-19 pandemic', 3),\n",
              " ('American society of tropical medicine and hygiene', 2),\n",
              " ('Charles h. calisher', 2),\n",
              " ('Peter c. doherty', 2),\n",
              " ('Beatrice h. hahn', 2),\n",
              " ('Department of medicine', 2),\n",
              " ('Gerald t. keusch', 2),\n",
              " ('Sarbecovirus', 2),\n",
              " ('Similar coronavirus outbreaks', 2),\n",
              " ('Page_label', 1),\n",
              " ('1', 1),\n",
              " ('File_path', 1),\n",
              " ('/content/origin_of_covid_data/source_files/originofcovid19.pdf', 1),\n",
              " ('Am. j. trop. med. hyg.', 1),\n",
              " ('103(3', 1),\n",
              " ('American committee on arthropod-borne viruses', 1),\n",
              " ('National institute of allergy and infectious diseases', 1),\n",
              " ('Dm270q@nih.gov', 1),\n",
              " ('Joel g. breman', 1),\n",
              " ('Arthropod-borne and infectious diseases laboratory', 1),\n",
              " ('Colorado state university', 1),\n",
              " ('Department of microbiology and immunology', 1),\n",
              " ('University of melbourne at the doherty institute', 1),\n",
              " ('Perelman school of medicine', 1),\n",
              " ('Boston university school of medicine', 1),\n",
              " ('Arbovirus laboratory', 1),\n",
              " ('Wadsworth center', 1),\n",
              " ('New york state department of health', 1),\n",
              " ('James w. leduc', 1),\n",
              " ('Galveston national laboratory', 1),\n",
              " ('Thomas p. monath', 1),\n",
              " ('Crozet biopharma llc', 1),\n",
              " ('Deadliest infectious diseases', 1),\n",
              " ('Last two decades', 1),\n",
              " ('The globe', 1),\n",
              " ('Β-coronavirus', 1),\n",
              " ('Genetically related sars-cov', 1),\n",
              " ('Before 2019', 1),\n",
              " ('Late november 2019', 1),\n",
              " ('Third fatal bat virus –associated human disease', 1),\n",
              " ('Third fatal bat virus', 1),\n",
              " ('Human disease', 1),\n",
              " ('Numerous bat and pangolin coronaviruses', 1),\n",
              " ('China', 1),\n",
              " ('Natural event', 1),\n",
              " ('Neither the genetic fingerprints of any of the reverse genetics systems',\n",
              "  1),\n",
              " ('No genetic sequences that would have been “forward engineered', 1),\n",
              " ('Unlike any previously identified coronavirus', 1),\n",
              " ('A laboratory', 1),\n",
              " ('Many other sarbecoviruses', 1),\n",
              " ('A virus that emerged naturally', 1),\n",
              " ('Othersarbecoviruses', 1),\n",
              " ('Their genetic cluster', 1),\n",
              " ('Effective antivirals', 1),\n",
              " ('Broadly protective vaccines', 1),\n",
              " ('Recombination and strong purifying selection', 1),\n",
              " ('Pangolins', 1),\n",
              " ('Major reservoir of animal coronaviruses', 1),\n",
              " ('More than 98% of coronavirus detections', 1),\n",
              " ('One or more coronavirus', 1),\n",
              " ('Bats of other species', 1),\n",
              " ('Α- and/or β-coronaviruses', 1),\n",
              " ('Human behaviors', 1),\n",
              " ('Sarbecoviruses are poised to emerge', 1),\n",
              " ('Coronaviruses', 1),\n",
              " ('Coronaviruses in 2007', 1),\n",
              " ('Monitoring of known hotspots', 1),\n",
              " ('This years ago', 1),\n",
              " ('Appropriate alarm', 1),\n",
              " ('Recruited to these efforts', 1),\n",
              " ('According to scientists', 1),\n",
              " ('Order nidovirales', 1),\n",
              " ('Family coronaviridae', 1),\n",
              " ('Subfamily coronavirinae', 1),\n",
              " ('Four genera alphacoronavirus', 1),\n",
              " ('Betacoronavirus', 1),\n",
              " ('Gammacoronavirus', 1),\n",
              " ('Deltacoronavirus', 1),\n",
              " ('Coronavirus emergence', 1),\n",
              " ('Late 2019', 1),\n",
              " ('Risk', 1),\n",
              " ('In the future', 1)]"
            ]
          },
          "metadata": {},
          "execution_count": 12
        }
      ],
      "source": [
        "#list(graph.nodes)[0:20]\n",
        "sorted(graph.degree, key=lambda x: x[1], reverse=True) #[0:20]"
      ]
    },
    {
      "cell_type": "code",
      "execution_count": 13,
      "metadata": {
        "colab": {
          "base_uri": "https://localhost:8080/"
        },
        "id": "GeJUjErNBZu4",
        "outputId": "8f6e5065-2565-44f5-b199-7d783da8982c"
      },
      "outputs": [
        {
          "output_type": "execute_result",
          "data": {
            "text/plain": [
              "[('Page_label', '1', {'label': 'Is', 'title': 'Is'}),\n",
              " ('File_path',\n",
              "  '/content/origin_of_covid_data/source_files/originofcovid19.pdf',\n",
              "  {'label': 'Is', 'title': 'Is'}),\n",
              " ('Am. j. trop. med. hyg.', '103(3', {'label': 'Is', 'title': 'Is'}),\n",
              " ('David m. morens',\n",
              "  'American committee on arthropod-borne viruses',\n",
              "  {'label': 'Includes', 'title': 'Includes'}),\n",
              " ('David m. morens',\n",
              "  'National institute of allergy and infectious diseases',\n",
              "  {'label': 'Includes', 'title': 'Includes'}),\n",
              " ('David m. morens',\n",
              "  'Dm270q@nih.gov',\n",
              "  {'label': 'Has email', 'title': 'Has email'}),\n",
              " ('David m. morens',\n",
              "  'American society of tropical medicine and hygiene',\n",
              "  {'label': 'Includes', 'title': 'Includes'}),\n",
              " ('American society of tropical medicine and hygiene',\n",
              "  'Joel g. breman',\n",
              "  {'label': 'Includes', 'title': 'Includes'}),\n",
              " ('Charles h. calisher',\n",
              "  'Arthropod-borne and infectious diseases laboratory',\n",
              "  {'label': 'Includes', 'title': 'Includes'}),\n",
              " ('Charles h. calisher',\n",
              "  'Colorado state university',\n",
              "  {'label': 'Is part of', 'title': 'Is part of'}),\n",
              " ('Peter c. doherty',\n",
              "  'Department of microbiology and immunology',\n",
              "  {'label': 'Includes', 'title': 'Includes'}),\n",
              " ('Peter c. doherty',\n",
              "  'University of melbourne at the doherty institute',\n",
              "  {'label': 'Is part of', 'title': 'Is part of'}),\n",
              " ('Beatrice h. hahn',\n",
              "  'Department of medicine',\n",
              "  {'label': 'Includes', 'title': 'Includes'}),\n",
              " ('Beatrice h. hahn',\n",
              "  'Perelman school of medicine',\n",
              "  {'label': 'Is part of', 'title': 'Is part of'}),\n",
              " ('Department of medicine',\n",
              "  'Gerald t. keusch',\n",
              "  {'label': 'Is a member of', 'title': 'Is a member of'}),\n",
              " ('Gerald t. keusch',\n",
              "  'Boston university school of medicine',\n",
              "  {'label': 'Is part of', 'title': 'Is part of'}),\n",
              " ('Laura d. kramer',\n",
              "  'Arbovirus laboratory',\n",
              "  {'label': 'Includes', 'title': 'Includes'}),\n",
              " ('Laura d. kramer',\n",
              "  'Wadsworth center',\n",
              "  {'label': 'Is part of', 'title': 'Is part of'}),\n",
              " ('Laura d. kramer',\n",
              "  'New york state department of health',\n",
              "  {'label': 'Is part of', 'title': 'Is part of'}),\n",
              " ('James w. leduc',\n",
              "  'Galveston national laboratory',\n",
              "  {'label': 'Includes', 'title': 'Includes'}),\n",
              " ('Thomas p. monath',\n",
              "  'Crozet biopharma llc',\n",
              "  {'label': 'Includes', 'title': 'Includes'}),\n",
              " ('Covid-19 pandemic',\n",
              "  'Deadliest infectious diseases',\n",
              "  {'label': 'Include', 'title': 'Include'}),\n",
              " ('Covid-19 pandemic',\n",
              "  'Last two decades',\n",
              "  {'label': 'Appeared', 'title': 'Appeared'}),\n",
              " ('Covid-19 pandemic',\n",
              "  'The globe',\n",
              "  {'label': 'Now sweeps', 'title': 'Now sweeps'}),\n",
              " ('Sars-cov-2',\n",
              "  'Β-coronavirus',\n",
              "  {'label': 'Evolved into', 'title': 'Evolved into'}),\n",
              " ('Sars-cov-2',\n",
              "  'Genetically related sars-cov',\n",
              "  {'label': 'Was named after', 'title': 'Was named after'}),\n",
              " ('Sars-cov-2',\n",
              "  'Before 2019',\n",
              "  {'label': 'Had not been identified', 'title': 'Had not been identified'}),\n",
              " ('Sars-cov-2',\n",
              "  'Late november 2019',\n",
              "  {'label': 'Was recognized', 'title': 'Was recognized'}),\n",
              " ('Sars-cov-2',\n",
              "  'Third fatal bat virus –associated human disease',\n",
              "  {'label': 'Became', 'title': 'Became'}),\n",
              " ('Sars-cov-2', 'Third fatal bat virus', {'label': 'Is', 'title': 'Is'}),\n",
              " ('Sars-cov-2',\n",
              "  'Human disease',\n",
              "  {'label': 'Is associated with', 'title': 'Is associated with'}),\n",
              " ('Sars-cov-2',\n",
              "  'Numerous bat and pangolin coronaviruses',\n",
              "  {'label': 'Is closely related to', 'title': 'Is closely related to'}),\n",
              " ('Sars-cov-2', 'Sarbecoviruses', {'label': 'Include', 'title': 'Include'}),\n",
              " ('Sars-cov-2', 'China', {'label': 'Emerged in', 'title': 'Emerged in'}),\n",
              " ('Sars-cov-2', 'Natural event', {'label': 'Emerged', 'title': 'Emerged'}),\n",
              " ('Sars-cov-2',\n",
              "  'Neither the genetic fingerprints of any of the reverse genetics systems',\n",
              "  {'label': 'Contains', 'title': 'Contains'}),\n",
              " ('Sars-cov-2',\n",
              "  'No genetic sequences that would have been “forward engineered',\n",
              "  {'label': 'Contains', 'title': 'Contains'}),\n",
              " ('Sars-cov-2',\n",
              "  'Unlike any previously identified coronavirus',\n",
              "  {'label': 'Is', 'title': 'Is'}),\n",
              " ('Sars-cov-2',\n",
              "  'A laboratory',\n",
              "  {'label': 'Was released from', 'title': 'Was released from'}),\n",
              " ('Sars-cov-2',\n",
              "  'Many other sarbecoviruses',\n",
              "  {'label': 'Shares genetic properties with',\n",
              "   'title': 'Shares genetic properties with'}),\n",
              " ('Sars-cov-2',\n",
              "  'A virus that emerged naturally',\n",
              "  {'label': 'Is', 'title': 'Is'}),\n",
              " ('Sars-cov-2',\n",
              "  'Othersarbecoviruses',\n",
              "  {'label': 'Shares genetic properties with',\n",
              "   'title': 'Shares genetic properties with'}),\n",
              " ('Sars-cov-2',\n",
              "  'Their genetic cluster',\n",
              "  {'label': 'Lies within', 'title': 'Lies within'}),\n",
              " ('Sars-cov-2', 'Effective antivirals', {'label': 'Needs', 'title': 'Needs'}),\n",
              " ('Sars-cov-2',\n",
              "  'Broadly protective vaccines',\n",
              "  {'label': 'Needs', 'title': 'Needs'}),\n",
              " ('Sars-cov-2',\n",
              "  'Recombination and strong purifying selection',\n",
              "  {'label': 'Emerged through', 'title': 'Emerged through'}),\n",
              " ('Sarbecoviruses',\n",
              "  'According to scientists',\n",
              "  {'label': 'Are poised to emerge', 'title': 'Are poised to emerge'}),\n",
              " ('Sarbecoviruses',\n",
              "  'Order nidovirales',\n",
              "  {'label': 'Belong to', 'title': 'Belong to'}),\n",
              " ('Sarbecoviruses',\n",
              "  'Family coronaviridae',\n",
              "  {'label': 'Belong to', 'title': 'Belong to'}),\n",
              " ('Sarbecoviruses',\n",
              "  'Subfamily coronavirinae',\n",
              "  {'label': 'Belong to', 'title': 'Belong to'}),\n",
              " ('Sarbecoviruses',\n",
              "  'Four genera alphacoronavirus',\n",
              "  {'label': 'Belong to', 'title': 'Belong to'}),\n",
              " ('Sarbecoviruses',\n",
              "  'Betacoronavirus',\n",
              "  {'label': 'Belong to', 'title': 'Belong to'}),\n",
              " ('Sarbecoviruses',\n",
              "  'Gammacoronavirus',\n",
              "  {'label': 'Belong to', 'title': 'Belong to'}),\n",
              " ('Sarbecoviruses',\n",
              "  'Deltacoronavirus',\n",
              "  {'label': 'Belong to', 'title': 'Belong to'}),\n",
              " ('Sarbecovirus',\n",
              "  'Bats',\n",
              "  {'label': 'Are naturally infected by',\n",
              "   'title': 'Are naturally infected by'}),\n",
              " ('Sarbecovirus',\n",
              "  'Pangolins',\n",
              "  {'label': 'Are naturally infected by',\n",
              "   'title': 'Are naturally infected by'}),\n",
              " ('Bats',\n",
              "  'Major reservoir of animal coronaviruses',\n",
              "  {'label': 'Are now known to be', 'title': 'Are now known to be'}),\n",
              " ('Bats',\n",
              "  'More than 98% of coronavirus detections',\n",
              "  {'label': 'Accounted for', 'title': 'Accounted for'}),\n",
              " ('Bats',\n",
              "  'One or more coronavirus',\n",
              "  {'label': 'Were infected with', 'title': 'Were infected with'}),\n",
              " ('Bats',\n",
              "  'Bats of other species',\n",
              "  {'label': 'Co-roost with', 'title': 'Co-roost with'}),\n",
              " ('Bats', 'Α- and/or β-coronaviruses', {'label': 'Carry', 'title': 'Carry'}),\n",
              " ('Bats',\n",
              "  'Human behaviors',\n",
              "  {'label': 'Are contacted by', 'title': 'Are contacted by'}),\n",
              " ('Scientists',\n",
              "  'Sarbecoviruses are poised to emerge',\n",
              "  {'label': 'Have warned', 'title': 'Have warned'}),\n",
              " ('Scientists', 'Coronaviruses', {'label': 'Studying', 'title': 'Studying'}),\n",
              " ('Scientists',\n",
              "  'Coronaviruses in 2007',\n",
              "  {'label': 'Studying', 'title': 'Studying'}),\n",
              " ('Scientists',\n",
              "  'Monitoring of known hotspots',\n",
              "  {'label': 'Have proposed', 'title': 'Have proposed'}),\n",
              " ('Scientists', 'This years ago', {'label': 'Knew', 'title': 'Knew'}),\n",
              " ('Scientists', 'Appropriate alarm', {'label': 'Raised', 'title': 'Raised'}),\n",
              " ('Scientists',\n",
              "  'Recruited to these efforts',\n",
              "  {'label': 'Should be', 'title': 'Should be'}),\n",
              " ('Coronavirus emergence',\n",
              "  'Late 2019',\n",
              "  {'label': 'Detected', 'title': 'Detected'}),\n",
              " ('Risk',\n",
              "  'Similar coronavirus outbreaks',\n",
              "  {'label': 'Remains high', 'title': 'Remains high'}),\n",
              " ('Similar coronavirus outbreaks',\n",
              "  'In the future',\n",
              "  {'label': 'Have high risk', 'title': 'Have high risk'})]"
            ]
          },
          "metadata": {},
          "execution_count": 13
        }
      ],
      "source": [
        "list(graph.edges(data=True))"
      ]
    },
    {
      "cell_type": "markdown",
      "metadata": {
        "id": "s7g2pcUaBKSY"
      },
      "source": [
        "## Graph RAG"
      ]
    },
    {
      "cell_type": "markdown",
      "metadata": {
        "id": "AOeL598ljowp"
      },
      "source": [
        "### Build Retriever and Query Engine"
      ]
    },
    {
      "cell_type": "code",
      "execution_count": 14,
      "metadata": {
        "id": "n1VtNqmiBUAd"
      },
      "outputs": [],
      "source": [
        "from llama_index.core.query_engine import RetrieverQueryEngine\n",
        "from llama_index.core.retrievers import KnowledgeGraphRAGRetriever, KGTableRetriever\n",
        "\n",
        "\n",
        "GRAPH_TRAVERSAL_DEPTH = 3\n",
        "graph_rag_retriever = KGTableRetriever(\n",
        "    kg_index,\n",
        "    storage_context=storage_context,\n",
        "    verbose=True,\n",
        "    retriever_mode='embedding', #'keyword', 'embedding'\n",
        "    graph_traversal_depth=GRAPH_TRAVERSAL_DEPTH,\n",
        "    use_global_node_triplets=True,\n",
        "    include_text=True,\n",
        ")\n",
        "# explicitly set this, because sometimes it isn't set correctly\n",
        "graph_rag_retriever.graph_store_query_depth = GRAPH_TRAVERSAL_DEPTH\n",
        "\n",
        "graph_query_engine = RetrieverQueryEngine.from_args(\n",
        "    graph_rag_retriever,\n",
        "    retriever_mode='embedding', #\"keyword\",\n",
        "    response_mode='tree_summarize', # \"simple_summarize\" \"compact\", \"tree_summarize\",\n",
        ")\n"
      ]
    },
    {
      "cell_type": "code",
      "execution_count": null,
      "metadata": {
        "id": "H8yCMtDHjowq"
      },
      "outputs": [],
      "source": [
        "# check some properties of the Retriever\n",
        "#dir(graph_rag_retriever)\n",
        "#graph_rag_retriever._include_text"
      ]
    },
    {
      "cell_type": "markdown",
      "metadata": {
        "id": "FCTkCRkDjowq"
      },
      "source": [
        "#### Alternate Constructions of KG Retrievers and Query Engines"
      ]
    },
    {
      "cell_type": "code",
      "execution_count": null,
      "metadata": {
        "id": "Y9_-SG6ejowq"
      },
      "outputs": [],
      "source": [
        "# graph_rag_retriever = KnowledgeGraphRAGRetriever(\n",
        "#     storage_context=storage_context,\n",
        "#     verbose=True,\n",
        "#     retriever_mode='keyword',   # 'embedding', is not implemented in LlamaIndex yet\n",
        "#     graph_traversal_depth=3,\n",
        "#     include_text=True,\n",
        "# )\n",
        "\n",
        "# graph_query_engine = kg_index.as_query_engine(\n",
        "#     include_text=False,\n",
        "#     retriever_mode=\"keyword\",\n",
        "#     response_mode=\"tree_summarize\",\n",
        "# )"
      ]
    },
    {
      "cell_type": "markdown",
      "metadata": {
        "id": "WXdFveUSjowq"
      },
      "source": [
        "### Querying with Graph RAG"
      ]
    },
    {
      "cell_type": "code",
      "execution_count": 15,
      "metadata": {
        "colab": {
          "base_uri": "https://localhost:8080/",
          "height": 206
        },
        "id": "np3T5WtrFtZJ",
        "outputId": "4451827a-327b-4fa0-e84e-1445f706c200"
      },
      "outputs": [
        {
          "output_type": "stream",
          "name": "stdout",
          "text": [
            "\u001b[1;3;32mExtracted keywords: ['origin', 'COVID', 'virus']\n",
            "\u001b[0m\u001b[1;3;34mKG context:\n",
            "The following are knowledge sequence in max depth 3 in the form of directed graph like:\n",
            "`subject -[predicate]->, object, <-[predicate_next_hop]-, object_next_hop ...`\n",
            "('Theories', 'About', 'Hypothetical man-made origin of sars-cov-2')\n",
            "('Bat-origin coronavirus', 'Emerged in', 'China')\n",
            "\u001b[0m"
          ]
        },
        {
          "output_type": "display_data",
          "data": {
            "text/plain": [
              "<IPython.core.display.Markdown object>"
            ],
            "text/markdown": "<b>The COVID-19 virus, also known as SARS-CoV-2, is believed to have originated from bats. It emerged as a natural event associated with either direct transmission of a bat coronavirus to humans or indirect transmission to humans via an intermediate host such as a Malaysian pangolin or another yet-to-be-identified mammal. Theories about a hypothetical man-made origin of SARS-CoV-2 have been thoroughly discredited by multiple coronavirus experts.</b>"
          },
          "metadata": {}
        }
      ],
      "source": [
        "response = graph_query_engine.query(\n",
        "    'What is the origin of the COVID virus?'\n",
        "    #'What do we know about the Sars-cov-2 virus?',\n",
        "    #'Tell me about Sarbecoviruses',\n",
        ")\n",
        "display(Markdown(f\"<b>{response}</b>\"))"
      ]
    },
    {
      "cell_type": "markdown",
      "metadata": {
        "id": "1Rgg4JD1jowr"
      },
      "source": [
        "#### Digging into the Graph RAG Response"
      ]
    },
    {
      "cell_type": "markdown",
      "metadata": {
        "id": "f_M7Vx0qjowr"
      },
      "source": [
        "##### Examine the Response object"
      ]
    },
    {
      "cell_type": "code",
      "execution_count": 16,
      "metadata": {
        "id": "lGdGYQhGjowr",
        "outputId": "86409f0d-1f40-45f1-b7b8-eee0bf4002c8",
        "colab": {
          "base_uri": "https://localhost:8080/"
        }
      },
      "outputs": [
        {
          "output_type": "stream",
          "name": "stdout",
          "text": [
            "\n",
            " 19,21,22Many scientists have proposed aggressive\n",
            "monitoring of known hotspots to try to predict and prevent viral\n",
            "emergence that might impact human health, including early\n",
            "warning of host-switching events.19,20,27\n",
            "Unfortunately, outside of some members of the scienti ﬁc\n",
            "community, there has been little interest and no sense of\n",
            "urgency. In 2020, we learned, tragically, what 12 years of un-heeded warnings have led to: a bat-derived sarbecovirus —\n",
            "from the very same SARS-like bat virus group that had been\n",
            "warned about by multiple voices for over a decade —emerged\n",
            "and proceeded to cause the COVID-19 pandemic that nowsweeps the globe.\n",
            "SARS-CoV-2 emerged essentially as predicted: a natural\n",
            "event associated with either direct transmission of a batcoronavirus to humans or indirect transmission to humans via\n",
            "an intermediate host such as a Malaysian pangolin ( Manis\n",
            "javanica ) or another, yet-to-be-identi ﬁed mammal.\n",
            "28–31\n",
            "It should be clari ﬁed that theories about a hypothetical man-\n",
            "made origin of SARS-CoV-2 have been thoroughly discredited\n",
            "by multiple coronavirus experts.21,28,29SARS-CoV-2 contains\n",
            "neither the genetic ﬁngerprints of any of the reverse genetics\n",
            "systems that have been used to engineer coronaviruses nor\n",
            "does it contain genetic sequences that would have been\n",
            "“forward engineered ”from preexisting viruses, including the\n",
            "genetically closest sarbecoviruses. That is, SARS-CoV-2 is\n",
            "unlike any previously identi ﬁed coronavirus from which it\n",
            "could have been engineered. Moreover, the SARS-CoV-2ORIGIN OF COVID-19 957\n",
            "\n",
            " 12Four endemic human coronavi-\n",
            "ruses, which emerged at some undetermined time in the past,\n",
            "cause (mostly) mild self-limited upper respiratory tract infec-\n",
            "tions (Figure 1).\n",
            "RECENT CORONAVIRUS EMERGENCES FROM ANIMALS\n",
            "INTO HUMANS\n",
            "Until recently, relatively little was known about coronavi-\n",
            "ruses, and research interest in these common cold viruses\n",
            "was minimal. Eighteen years ago, a previously unknown β-\n",
            "coronavirus named SARS-CoV suddenly emerged. Following\n",
            "its initial appearance in China it spread to 29 other countries,\n",
            "causing a near-pandemic and killing 813 of the 8,809 peoplewith con ﬁrmed infection before being controlled by aggres-\n",
            "sive public health measures. It has not been seen since. In\n",
            "2012, however, another previously unknown β-coronavirus\n",
            "named Middle East respiratory syndrome coronavirus (MERS-CoV), and closely related to SARS-CoV, emerged to cause\n",
            "high case-fatality human infections. Fortunately, this virus\n",
            "does not ef ﬁciently transmit between humans, and cases have\n",
            "been largely limited to the Middle East where its intermediary\n",
            "host, the dromedary camel, is present in relatively high num-\n",
            "bers. In 2016, yet another novel bat-origin coronavirus, anα-coronavirus, emerged in China to cause a novel epizootic\n",
            "disease in pigs, termed swine acute diarrhea syndrome\n",
            "coronavirus (SADS-CoV). And most recently, at least as earlyas late November 2019, SARS-CoV-2 was recognized andbecame the third fatal bat virus –associated human diseaseHCoV\n",
            "−NL63HCoV\n",
            "−229ESADS\n",
            "−CoVSARS\n",
            "−CoV\n",
            "−1Bat\n",
            "−CoV\n",
            "−RaTG13 SARS\n",
            "−CoV\n",
            "−2GD\n",
            "−Pangolin\n",
            "−CoVGX\n",
            "−Pangolin\n",
            "−CoV\n",
            "HCoV−HKU1HCoV−OC43\n",
            "FCoVMERS\n",
            "−CoV\n",
            "0.187100\n",
            "97\n",
            "100Beta-CoV\n",
            "Delta-CoV\n",
            "Gam\n",
            "m\n",
            "a-CoV\n",
            "Alpha-CoV\n",
            "FIGURE 1.\n",
            "\n",
            " Bats of numerous globally distributed genera and species\n",
            "are now known to be the major reservoir of animal coronavi-\n",
            "ruses. One 20-country study of more than 19,000 animals\n",
            "(predominantly nonhuman primates, bats, and rodents)revealed that bats accounted for more than 98% of corona-\n",
            "virus detections, and that almost 9% of > 12,000 randomly\n",
            "studied bats were infected with one or more coronavirus.\n",
            "13\n",
            "Signi ﬁcant interspecies viral transmission between closely\n",
            "and distantly related bats also appears to be important. Bats of\n",
            "some species, including rhinolophids, co-roost with bats ofother species, facilitating viral exchanges and enhanced viral\n",
            "evolution associated with genetic recombination. In fact, many\n",
            "such bat coronaviruses have genetic sequences similar toSARS-CoV and SARS-CoV-2.\n",
            "Investigators have also mapped global hotspots for po-\n",
            "tential infection emergence, prominently in south/southwest\n",
            "China and contiguous regions and countries (Figure 2),\n",
            "14and\n",
            "have identi ﬁed numerous human –animal interactions that con-\n",
            "stitute emergence risk factors, for example bat tourism, wet\n",
            "markets, wildlife supply chains for human consumption,15land\n",
            "management practices, and environmental perturbations.16–18\n",
            "Virologic and risk mapping studies indicate a very high risk of\n",
            "further coronavirus outbreaks.19–21\n",
            "SARS-CoV and SARS-CoV-2 emerged in China, home to\n",
            "bats of more than 100 species, many of which carry α- and/or\n",
            "β-coronaviruses.\n",
            "\n",
            " receptor-binding domain, which has af ﬁnity for cells of various\n",
            "mammals, binds to human ACE2 receptors via a novel\n",
            "mechanism.\n",
            "Engineering such a virus would have required 1) published\n",
            "or otherwise available scienti ﬁc knowledge that did not exist\n",
            "until after COVID-19 recognition; 2) a failure to follow obviousengineering pathways, resulting in an imperfectly constructed\n",
            "virus; and 3) an ability to genetically engineer a new virus\n",
            "without leaving ﬁngerprints of the engineering. Furthermore,\n",
            "the 12 amino acid furin-cleavage site insertion between theSARS-CoV-2 spike protein ’s S1 and S2 domains, which some\n",
            "have alleged to be a sign of genetic engineering, is found in\n",
            "other bat and human coronaviruses in nature, probably arisingvia naturally occurring recombination.\n",
            "24\n",
            "It is also highly unlikely that SARS-CoV-2 was released from\n",
            "a laboratory by accident because no laboratory had the virusnor did its genetic sequence exist in any sequence database\n",
            "before its initial GenBank deposition (early January 2020).\n",
            "China ’s laboratory safety practices, policies, training, and\n",
            "engineering are equivalent to those of the United States andother developed countries,\n",
            "32making viral “escape ”extremely\n",
            "unlikely, and of course impossible without a viral isolate pre-\n",
            "sent. SARS-CoV-2 shares genetic properties with many othersarbecoviruses, lies fully within their genetic cluster, and is\n",
            "thus a virus that emerged naturally.\n",
            "COVID-19 EMERGENCE MECHANISMS: WHY\n",
            "THEY MATTER\n",
            "Understanding how COVID-19 emerged is of great importance.\n",
            "We now know that the viruses causing SARS, MERS, and COVID-\n",
            "1 9a r ea l lm e m b e r so fe n o r m o u sg r o u p so fb a tc o r o n a v i r u s e sdistributed globally, and that many of these viruses are function-ally preadapted to human emergence. This preadaptation can be\n",
            "thought of as “accidental ”because it must have occurred in na-\n",
            "ture in the absence of human infection and does not rule outfurther human adaptation to enable pandemicity.\n",
            "\n",
            " Studying animal viruses that have previously spilled over\n",
            "into humans provides clues about host-switching determi-nants. A well-understood example is in ﬂuenza virus emer-\n",
            "gence into humans and other mammals.\n",
            "2Human pandemic\n",
            "and seasonal in ﬂuenza viruses arise from enzootic viruses of\n",
            "wild waterfowl and shore birds. From within this natural res-\n",
            "ervoir, the 1918 pandemic “founder ”virus somehow host-\n",
            "switched into humans. We know this from genetic studiescomparing avian viruses, the 1918 virus, and its descendants,which have caused three subsequent pandemics, as well as\n",
            "annual seasonal in ﬂuenza in each of the 102 years since 1918.\n",
            "Similarly, other avian in ﬂuenza viruses have host-switched into\n",
            "horses, dogs, pigs, seals, and other vertebrates, with as yet un-\n",
            "known pandemic potential.\n",
            "2,10,11Although some molecular host-\n",
            "switching events remain unobserved, phylogenetic analyses ofinﬂuenza viruses allow us to readily characterize evolution and\n",
            "host-switching as it occurs in nature.\n",
            "2\n",
            "CORONAVIRUSES\n",
            "Coronaviruses are RNA viruses globally distributed in a\n",
            "large but unknown number of animal species. Coronavirusesimportant for humans are found within phylogenetically\n",
            "distinct taxonomic subgroups, labeled as the α-a n d β-\n",
            "coronaviruses (Figure 1).\n",
            "12Four endemic human coronavi-\n",
            "ruses, which emerged at some undetermined time in the past,\n",
            "cause (mostly) mild self-limited upper respiratory tract infec-\n",
            "tions (Figure 1).\n",
            "RECENT CORONAVIRUS EMERGENCES FROM ANIMALS\n",
            "INTO HUMANS\n",
            "Until recently, relatively little was known about coronavi-\n",
            "ruses, and research interest in these common cold viruses\n",
            "was minimal. Eighteen years ago, a previously unknown β-\n",
            "coronavirus named SARS-CoV suddenly emerged. Following\n",
            "its initial appearance in China it spread to 29 other countries,\n",
            "causing a near-pandemic and killing 813 of the 8,809 peoplewith con ﬁrmed infection before being controlled by aggres-\n",
            "sive public health measures.\n",
            "\n",
            " In fact, many\n",
            "such bat coronaviruses have genetic sequences similar toSARS-CoV and SARS-CoV-2.\n",
            "Investigators have also mapped global hotspots for po-\n",
            "tential infection emergence, prominently in south/southwest\n",
            "China and contiguous regions and countries (Figure 2),\n",
            "14and\n",
            "have identi ﬁed numerous human –animal interactions that con-\n",
            "stitute emergence risk factors, for example bat tourism, wet\n",
            "markets, wildlife supply chains for human consumption,15land\n",
            "management practices, and environmental perturbations.16–18\n",
            "Virologic and risk mapping studies indicate a very high risk of\n",
            "further coronavirus outbreaks.19–21\n",
            "SARS-CoV and SARS-CoV-2 emerged in China, home to\n",
            "bats of more than 100 species, many of which carry α- and/or\n",
            "β-coronaviruses. In one study, more than 780 partial coro-\n",
            "navirus genetic sequences were identi ﬁed from bats of\n",
            "41 species infected by α- and of 31 species infected by\n",
            "β-coronaviruses.21Within the sarbecovirus lineage, en-\n",
            "compassing SARS and SARS-like viruses, many identi ﬁed\n",
            "genetic sequences are very similar to SARS-CoV and SARS-\n",
            "CoV-2.21–23One such virus is more than 96% identical to\n",
            "SARS-CoV-2 in its whole genome23; another shares more\n",
            "than 97% identity in the 1ab replicase gene, as well as a furin\n",
            "c l e a v a g es i t ei n s e r t i o n .24Nature is clearly a cauldron for in-\n",
            "tense and dangerous coronavirus evolution.\n",
            "WAS COVID-19 PREDICTED?\n",
            "A clearer, more worrisome picture of the coronavirus eco-\n",
            "system has recently come together. A contiguous area en-\n",
            "compassing parts of south/southwest China, Laos, Myanmar,\n",
            "and Vietnam constitutes a bat coronavirus “hotspot, ”featuringintense interspecies viral transmission. In such hotspots, a\n",
            "rich diversity of SARS-like viruses has been found, not only in\n",
            "rhinolophid bats but also in bats of other genera and species towhich these viruses had host-switched.\n",
            "\n",
            " The following are knowledge sequence in max depth 3 in the form of directed graph like:\n",
            "`subject -[predicate]->, object, <-[predicate_next_hop]-, object_next_hop ...`\n",
            "('Theories', 'About', 'Hypothetical man-made origin of sars-cov-2')\n",
            "('Bat-origin coronavirus', 'Emerged in', 'China')\n"
          ]
        }
      ],
      "source": [
        "#dir(response)\n",
        "#response.get_formatted_sources()\n",
        "# response.metadata\n",
        "# response.response\n",
        "\n",
        "# print('\\n', response.source_nodes[1].text)\n",
        "for source_node in response.source_nodes:\n",
        "    print('\\n', source_node.text)\n"
      ]
    },
    {
      "cell_type": "markdown",
      "metadata": {
        "id": "88s0TGhdeBzJ"
      },
      "source": [
        "##### Inspect Retrieval-Only Results"
      ]
    },
    {
      "cell_type": "code",
      "execution_count": 19,
      "metadata": {
        "id": "UHCnfzKhisUG",
        "outputId": "23a3efee-117d-4c4f-98e6-fe0570c6f6b8",
        "colab": {
          "base_uri": "https://localhost:8080/"
        }
      },
      "outputs": [
        {
          "output_type": "stream",
          "name": "stdout",
          "text": [
            "\u001b[1;3;32mExtracted keywords: ['Sars-cov-2 virus.', 'Sars', 'cov', '2', 'know', 'virus']\n",
            "\u001b[0m\u001b[1;3;34mKG context:\n",
            "The following are knowledge sequence in max depth 3 in the form of directed graph like:\n",
            "`subject -[predicate]->, object, <-[predicate_next_hop]-, object_next_hop ...`\n",
            "('Sars-cov-2', 'Is', 'Unlike any previously identified coronavirus')\n",
            "('Sars-cov-2', 'Is closely related to', 'Numerous bat and pangolin coronaviruses')\n",
            "\u001b[0m"
          ]
        },
        {
          "output_type": "execute_result",
          "data": {
            "text/plain": [
              "[NodeWithScore(node=TextNode(id_='06aa8c5a-303e-448e-a6f9-683fad6c9e87', embedding=None, metadata={'page_label': '2', 'file_name': 'OriginOfCovid19.pdf', 'file_path': '/content/origin_of_covid_data/source_files/OriginOfCovid19.pdf', 'file_type': 'application/pdf', 'file_size': 2610336, 'creation_date': '2024-04-16', 'last_modified_date': '2024-04-16'}, excluded_embed_metadata_keys=['file_name', 'file_type', 'file_size', 'creation_date', 'last_modified_date', 'last_accessed_date'], excluded_llm_metadata_keys=['file_name', 'file_type', 'file_size', 'creation_date', 'last_modified_date', 'last_accessed_date'], relationships={<NodeRelationship.SOURCE: '1'>: RelatedNodeInfo(node_id='b01a4e65-f6db-46e6-91a8-193400f0799e', node_type=<ObjectType.DOCUMENT: '4'>, metadata={'page_label': '2', 'file_name': 'OriginOfCovid19.pdf', 'file_path': '/content/origin_of_covid_data/source_files/OriginOfCovid19.pdf', 'file_type': 'application/pdf', 'file_size': 2610336, 'creation_date': '2024-04-16', 'last_modified_date': '2024-04-16'}, hash='f17da0accf96241ec4e3fed582e7e7ab17efcf38f0771ed3dccfbc899962a2ae'), <NodeRelationship.PREVIOUS: '2'>: RelatedNodeInfo(node_id='5711f919-e0c2-40c7-8115-975e0ceb9518', node_type=<ObjectType.TEXT: '1'>, metadata={'page_label': '2', 'file_name': 'OriginOfCovid19.pdf', 'file_path': '/content/origin_of_covid_data/source_files/OriginOfCovid19.pdf', 'file_type': 'application/pdf', 'file_size': 2610336, 'creation_date': '2024-04-16', 'last_modified_date': '2024-04-16'}, hash='5af06260d821eff8d55ee9d0bbd87594a1de6c3e9f81f6d068137d6ef8406556'), <NodeRelationship.NEXT: '3'>: RelatedNodeInfo(node_id='e795bb61-15f5-4e60-9de5-7e8b435d85d5', node_type=<ObjectType.TEXT: '1'>, metadata={}, hash='9d732e89e61a4c3aea96feeb7f91e44ef3ce56e0fafea2b0f59f4a096d654a10')}, text='And most recently, at least as earlyas late November 2019, SARS-CoV-2 was recognized andbecame the third fatal bat virus –associated human diseaseHCoV\\n−NL63HCoV\\n−229ESADS\\n−CoVSARS\\n−CoV\\n−1Bat\\n−CoV\\n−RaTG13 SARS\\n−CoV\\n−2GD\\n−Pangolin\\n−CoVGX\\n−Pangolin\\n−CoV\\nHCoV−HKU1HCoV−OC43\\nFCoVMERS\\n−CoV\\n0.187100\\n97\\n100Beta-CoV\\nDelta-CoV\\nGam\\nm\\na-CoV\\nAlpha-CoV\\nFIGURE 1. Phylogenetic relationships of selected coronaviruses of\\nmedical and veterinary importan ce. Human SARS-CoV and SARS-CoV-2\\nare closely related to numerous bat and pangolin coronaviruses in a viralgenetic grouping called sarbecoviruses, which contains many otherviruses very closely related to SARS-CoV and SARS-CoV-2. These viru-s e sb e l o n gt ot h eo r d e r Nidovirales , family Coronaviridae , subfamily\\nCoronavirinae and the four genera Alphacoronavirus ,Betacoronavirus ,\\nGammacoronavirus ,a n d Deltacoronavirus . The betacoronaviruses are\\ncomprised of two subgenera, Sarbecovirus andMerbecovirus .T h ef o r m e r\\ninclude SARS-CoV and SARS-CoV-2; the latter includes Middle East re-spiratory syndrome-related coronavirus (MERS-CoV). Image created bySebastian M. Gygli, Ph.D., NIAID, NIH, and used with permission.\\nFIGURE 2. Predicted global hotspots for disease emergence, showing estimated risks, adjusted for reporting bias. From a comprehensive global\\nstudy combining multiple data sources. Reproduced with permission from Allen et al .14956 MORENS AND OTHERS', start_char_idx=2578, end_char_idx=3999, text_template='{metadata_str}\\n\\n{content}', metadata_template='{key}: {value}', metadata_seperator='\\n'), score=1000.0),\n",
              " NodeWithScore(node=TextNode(id_='d3373467-1f81-4e52-8b54-656335e2a2c2', embedding=None, metadata={'page_label': '3', 'file_name': 'OriginOfCovid19.pdf', 'file_path': '/content/origin_of_covid_data/source_files/OriginOfCovid19.pdf', 'file_type': 'application/pdf', 'file_size': 2610336, 'creation_date': '2024-04-16', 'last_modified_date': '2024-04-16'}, excluded_embed_metadata_keys=['file_name', 'file_type', 'file_size', 'creation_date', 'last_modified_date', 'last_accessed_date'], excluded_llm_metadata_keys=['file_name', 'file_type', 'file_size', 'creation_date', 'last_modified_date', 'last_accessed_date'], relationships={<NodeRelationship.SOURCE: '1'>: RelatedNodeInfo(node_id='e09e4ea7-61db-4e42-8389-79376b559fa0', node_type=<ObjectType.DOCUMENT: '4'>, metadata={'page_label': '3', 'file_name': 'OriginOfCovid19.pdf', 'file_path': '/content/origin_of_covid_data/source_files/OriginOfCovid19.pdf', 'file_type': 'application/pdf', 'file_size': 2610336, 'creation_date': '2024-04-16', 'last_modified_date': '2024-04-16'}, hash='30b7c7e8f5f907ecb22dd86fe0a3951727d10a2e98e66469af1d4c64a74af4d7'), <NodeRelationship.PREVIOUS: '2'>: RelatedNodeInfo(node_id='be87b308-32a8-44e4-8011-25c88b669c53', node_type=<ObjectType.TEXT: '1'>, metadata={'page_label': '3', 'file_name': 'OriginOfCovid19.pdf', 'file_path': '/content/origin_of_covid_data/source_files/OriginOfCovid19.pdf', 'file_type': 'application/pdf', 'file_size': 2610336, 'creation_date': '2024-04-16', 'last_modified_date': '2024-04-16'}, hash='ba5f9ca332dfab324d585e10cd80ad382e5eda04aa6f8c11d2c7c62b8b41dca8'), <NodeRelationship.NEXT: '3'>: RelatedNodeInfo(node_id='ece60815-eb08-4c88-9733-36028cde0973', node_type=<ObjectType.TEXT: '1'>, metadata={}, hash='9f6e249d1a315840fa968ffcb43227d3c50b4734e4080fa5f161afa87f5dd5f1')}, text='19,21,22Many scientists have proposed aggressive\\nmonitoring of known hotspots to try to predict and prevent viral\\nemergence that might impact human health, including early\\nwarning of host-switching events.19,20,27\\nUnfortunately, outside of some members of the scienti ﬁc\\ncommunity, there has been little interest and no sense of\\nurgency. In 2020, we learned, tragically, what 12 years of un-heeded warnings have led to: a bat-derived sarbecovirus —\\nfrom the very same SARS-like bat virus group that had been\\nwarned about by multiple voices for over a decade —emerged\\nand proceeded to cause the COVID-19 pandemic that nowsweeps the globe.\\nSARS-CoV-2 emerged essentially as predicted: a natural\\nevent associated with either direct transmission of a batcoronavirus to humans or indirect transmission to humans via\\nan intermediate host such as a Malaysian pangolin ( Manis\\njavanica ) or another, yet-to-be-identi ﬁed mammal.\\n28–31\\nIt should be clari ﬁed that theories about a hypothetical man-\\nmade origin of SARS-CoV-2 have been thoroughly discredited\\nby multiple coronavirus experts.21,28,29SARS-CoV-2 contains\\nneither the genetic ﬁngerprints of any of the reverse genetics\\nsystems that have been used to engineer coronaviruses nor\\ndoes it contain genetic sequences that would have been\\n“forward engineered ”from preexisting viruses, including the\\ngenetically closest sarbecoviruses. That is, SARS-CoV-2 is\\nunlike any previously identi ﬁed coronavirus from which it\\ncould have been engineered. Moreover, the SARS-CoV-2ORIGIN OF COVID-19 957', start_char_idx=5301, end_char_idx=6839, text_template='{metadata_str}\\n\\n{content}', metadata_template='{key}: {value}', metadata_seperator='\\n'), score=1000.0),\n",
              " NodeWithScore(node=TextNode(id_='5c684ae0-2bb7-4070-b275-dcb5928e9d3d', embedding=None, metadata={'page_label': '4', 'file_name': 'OriginOfCovid19.pdf', 'file_path': '/content/origin_of_covid_data/source_files/OriginOfCovid19.pdf', 'file_type': 'application/pdf', 'file_size': 2610336, 'creation_date': '2024-04-16', 'last_modified_date': '2024-04-16'}, excluded_embed_metadata_keys=['file_name', 'file_type', 'file_size', 'creation_date', 'last_modified_date', 'last_accessed_date'], excluded_llm_metadata_keys=['file_name', 'file_type', 'file_size', 'creation_date', 'last_modified_date', 'last_accessed_date'], relationships={<NodeRelationship.SOURCE: '1'>: RelatedNodeInfo(node_id='7773b13f-ef91-4096-9542-268c69011736', node_type=<ObjectType.DOCUMENT: '4'>, metadata={'page_label': '4', 'file_name': 'OriginOfCovid19.pdf', 'file_path': '/content/origin_of_covid_data/source_files/OriginOfCovid19.pdf', 'file_type': 'application/pdf', 'file_size': 2610336, 'creation_date': '2024-04-16', 'last_modified_date': '2024-04-16'}, hash='308959af8d7feb7806940f08d6b90503b5d70ada4d62e1cb1bb8593afe682cdc'), <NodeRelationship.PREVIOUS: '2'>: RelatedNodeInfo(node_id='ece60815-eb08-4c88-9733-36028cde0973', node_type=<ObjectType.TEXT: '1'>, metadata={'page_label': '4', 'file_name': 'OriginOfCovid19.pdf', 'file_path': '/content/origin_of_covid_data/source_files/OriginOfCovid19.pdf', 'file_type': 'application/pdf', 'file_size': 2610336, 'creation_date': '2024-04-16', 'last_modified_date': '2024-04-16'}, hash='a7303d00b13d6abdafdeb5f6ab2103bf2267586e2d4da96776accf7118ba6991'), <NodeRelationship.NEXT: '3'>: RelatedNodeInfo(node_id='8d0f05e0-df26-4973-bf50-8945393448a0', node_type=<ObjectType.TEXT: '1'>, metadata={}, hash='5747eedbc9710eba5aadf958be8f0bdb0027998a5ec1b13d964b17d7ab471dad')}, text='SARS-CoV-2 shares genetic properties with many othersarbecoviruses, lies fully within their genetic cluster, and is\\nthus a virus that emerged naturally.\\nCOVID-19 EMERGENCE MECHANISMS: WHY\\nTHEY MATTER\\nUnderstanding how COVID-19 emerged is of great importance.\\nWe now know that the viruses causing SARS, MERS, and COVID-\\n1 9a r ea l lm e m b e r so fe n o r m o u sg r o u p so fb a tc o r o n a v i r u s e sdistributed globally, and that many of these viruses are function-ally preadapted to human emergence. This preadaptation can be\\nthought of as “accidental ”because it must have occurred in na-\\nture in the absence of human infection and does not rule outfurther human adaptation to enable pandemicity. Molecular\\nmechanisms of preadaptation are not fully known, but are un-\\ndoubtedly related to functional similarities between ACE2 re-ceptors on the cells of numerous mammals (bats, humans, minks,\\ncats, and other domestic and wild animals).\\n33,34\\nThe ability of coronaviruses to ev olve at a high rate, illustrated\\nby extreme phylogenetic diversity, coupled with the dispersion of\\nnew viral variants within an enormous array of wild animal species\\nthat can serve as hosts, portends poorly for the future of coro-navirus disease emergence. We are already seeing coronavirusmutants with altered af ﬁnity for human ACE2. Whether bat\\ncoronaviruses evolve independently or by “sampling ”various\\nmammalian ACE2 receptors, the result is the same. That batsarbecoviruses so easily switch between multiple hosts sug-\\ngests a many-pronged human risk: directly from bats and in-\\ndirectly from other mammals infected by bat viruses. Because wehave only just begun to sample, sequence, and study bat/\\nmammalian coronaviruses, we can be certain that what we now\\nknow is but the tip of a very large iceberg.\\nThe ﬁndings described earlier reaf ﬁrm what has long been\\nobvious: that future coronavirus transmissions into humans\\nare not only possible, but likely.', start_char_idx=1272, end_char_idx=3221, text_template='{metadata_str}\\n\\n{content}', metadata_template='{key}: {value}', metadata_seperator='\\n'), score=1000.0),\n",
              " NodeWithScore(node=TextNode(id_='69b12f8d-e3cc-4ce8-a0d5-ef869a88c289', embedding=None, metadata={'page_label': '4', 'file_name': 'OriginOfCovid19.pdf', 'file_path': '/content/origin_of_covid_data/source_files/OriginOfCovid19.pdf', 'file_type': 'application/pdf', 'file_size': 2610336, 'creation_date': '2024-04-16', 'last_modified_date': '2024-04-16'}, excluded_embed_metadata_keys=['file_name', 'file_type', 'file_size', 'creation_date', 'last_modified_date', 'last_accessed_date'], excluded_llm_metadata_keys=['file_name', 'file_type', 'file_size', 'creation_date', 'last_modified_date', 'last_accessed_date'], relationships={<NodeRelationship.SOURCE: '1'>: RelatedNodeInfo(node_id='7773b13f-ef91-4096-9542-268c69011736', node_type=<ObjectType.DOCUMENT: '4'>, metadata={'page_label': '4', 'file_name': 'OriginOfCovid19.pdf', 'file_path': '/content/origin_of_covid_data/source_files/OriginOfCovid19.pdf', 'file_type': 'application/pdf', 'file_size': 2610336, 'creation_date': '2024-04-16', 'last_modified_date': '2024-04-16'}, hash='308959af8d7feb7806940f08d6b90503b5d70ada4d62e1cb1bb8593afe682cdc'), <NodeRelationship.PREVIOUS: '2'>: RelatedNodeInfo(node_id='2baf3419-d9c9-4234-a8e7-e690bdabd246', node_type=<ObjectType.TEXT: '1'>, metadata={'page_label': '4', 'file_name': 'OriginOfCovid19.pdf', 'file_path': '/content/origin_of_covid_data/source_files/OriginOfCovid19.pdf', 'file_type': 'application/pdf', 'file_size': 2610336, 'creation_date': '2024-04-16', 'last_modified_date': '2024-04-16'}, hash='b35cbf21a570bdc4ef21e0da061ebb9b6da32423a5c30c7b7d28c70a18407359'), <NodeRelationship.NEXT: '3'>: RelatedNodeInfo(node_id='813c6927-1b0c-47eb-86de-6f03591fe039', node_type=<ObjectType.TEXT: '1'>, metadata={}, hash='5a5450609f27f526f0d0c21f58b3c5957f4e2b11ae7927c635e8cbbd2ab11f1a')}, text='We also know much about hu-\\nman behaviors that directly and indirectly bring us into contact\\nwith bats, including risks from wet markets, bat cave tourism,capturing and eating bats, and perturbing the environment in\\nways that alter bat habitats and habits. These are behaviors\\nthat we can and must change.\\nWe can also strengthen basic public health, including hygiene\\nand sanitation, so that emerging viruses do not have a fertile ﬁeld\\nin which to amplify replication, and we must build and maintainstrong public health infrastructure to respond quickly and ef ﬁ-\\nciently to pathogen emergence. For viruses that have emerged,\\nsuch as SARS-CoV-2, we need to develop effective antivirals\\nand, ideally, broadly protective vaccines. Education and com-munication with populations where spillover events occur is also\\nan important component of risk reduction.\\nWe must also realize that the problem is larger than just\\ncoronaviruses. In recent years, we have seen emergences and\\nreemergences of numerous other human infectious diseases\\nsuch as Ebola fever, Lassa fever, hantavirus pulmonary syn-drome, human monkeypox, HIV, dengue, chikungunya, Zika,\\nand epizootic avian in ﬂuenza. We have entered a new pan-\\ndemic era,\\n36one in which epidemic and pandemic emer-\\ngences are becoming commonplace; some are likely to behighly pathogenic. In 2020, our science is suf ﬁciently robust to\\nhave a good chance of controlling pandemic viral emergences\\nwithin 2 –3 years, but dramatically insuf ﬁcient to prevent and\\ncontrol their emergences in the ﬁrst place.\\nWe should begin developing broadly protective vaccines\\nand broadly therapeutic antiviral/antimicrobial agents againstpathogens within taxonomic groups likely to emerge in the\\nfuture, including coronaviruses, henipaviruses, and ﬁloviruses,\\namong others. Organizations like the Coalition for EpidemicPreparedness Innovations, among others, should be extendedand strengthened, emphasizing, in addition to vaccine devel-\\nopment, therapeutics as well as prevention tools.', start_char_idx=4887, end_char_idx=6897, text_template='{metadata_str}\\n\\n{content}', metadata_template='{key}: {value}', metadata_seperator='\\n'), score=1000.0),\n",
              " NodeWithScore(node=TextNode(id_='ece60815-eb08-4c88-9733-36028cde0973', embedding=None, metadata={'page_label': '4', 'file_name': 'OriginOfCovid19.pdf', 'file_path': '/content/origin_of_covid_data/source_files/OriginOfCovid19.pdf', 'file_type': 'application/pdf', 'file_size': 2610336, 'creation_date': '2024-04-16', 'last_modified_date': '2024-04-16'}, excluded_embed_metadata_keys=['file_name', 'file_type', 'file_size', 'creation_date', 'last_modified_date', 'last_accessed_date'], excluded_llm_metadata_keys=['file_name', 'file_type', 'file_size', 'creation_date', 'last_modified_date', 'last_accessed_date'], relationships={<NodeRelationship.SOURCE: '1'>: RelatedNodeInfo(node_id='7773b13f-ef91-4096-9542-268c69011736', node_type=<ObjectType.DOCUMENT: '4'>, metadata={'page_label': '4', 'file_name': 'OriginOfCovid19.pdf', 'file_path': '/content/origin_of_covid_data/source_files/OriginOfCovid19.pdf', 'file_type': 'application/pdf', 'file_size': 2610336, 'creation_date': '2024-04-16', 'last_modified_date': '2024-04-16'}, hash='308959af8d7feb7806940f08d6b90503b5d70ada4d62e1cb1bb8593afe682cdc'), <NodeRelationship.PREVIOUS: '2'>: RelatedNodeInfo(node_id='d3373467-1f81-4e52-8b54-656335e2a2c2', node_type=<ObjectType.TEXT: '1'>, metadata={'page_label': '3', 'file_name': 'OriginOfCovid19.pdf', 'file_path': '/content/origin_of_covid_data/source_files/OriginOfCovid19.pdf', 'file_type': 'application/pdf', 'file_size': 2610336, 'creation_date': '2024-04-16', 'last_modified_date': '2024-04-16'}, hash='fa336a2c7a7ed1ac74a07874737f39a86751fb7b2d89bc304ada8ee6aad733fb'), <NodeRelationship.NEXT: '3'>: RelatedNodeInfo(node_id='5c684ae0-2bb7-4070-b275-dcb5928e9d3d', node_type=<ObjectType.TEXT: '1'>, metadata={}, hash='9d6d2311f0cadebf127744e50d5744cec16d32d044335f1799148c6fbedc5c28')}, text='receptor-binding domain, which has af ﬁnity for cells of various\\nmammals, binds to human ACE2 receptors via a novel\\nmechanism.\\nEngineering such a virus would have required 1) published\\nor otherwise available scienti ﬁc knowledge that did not exist\\nuntil after COVID-19 recognition; 2) a failure to follow obviousengineering pathways, resulting in an imperfectly constructed\\nvirus; and 3) an ability to genetically engineer a new virus\\nwithout leaving ﬁngerprints of the engineering. Furthermore,\\nthe 12 amino acid furin-cleavage site insertion between theSARS-CoV-2 spike protein ’s S1 and S2 domains, which some\\nhave alleged to be a sign of genetic engineering, is found in\\nother bat and human coronaviruses in nature, probably arisingvia naturally occurring recombination.\\n24\\nIt is also highly unlikely that SARS-CoV-2 was released from\\na laboratory by accident because no laboratory had the virusnor did its genetic sequence exist in any sequence database\\nbefore its initial GenBank deposition (early January 2020).\\nChina ’s laboratory safety practices, policies, training, and\\nengineering are equivalent to those of the United States andother developed countries,\\n32making viral “escape ”extremely\\nunlikely, and of course impossible without a viral isolate pre-\\nsent. SARS-CoV-2 shares genetic properties with many othersarbecoviruses, lies fully within their genetic cluster, and is\\nthus a virus that emerged naturally.\\nCOVID-19 EMERGENCE MECHANISMS: WHY\\nTHEY MATTER\\nUnderstanding how COVID-19 emerged is of great importance.\\nWe now know that the viruses causing SARS, MERS, and COVID-\\n1 9a r ea l lm e m b e r so fe n o r m o u sg r o u p so fb a tc o r o n a v i r u s e sdistributed globally, and that many of these viruses are function-ally preadapted to human emergence. This preadaptation can be\\nthought of as “accidental ”because it must have occurred in na-\\nture in the absence of human infection and does not rule outfurther human adaptation to enable pandemicity.', start_char_idx=0, end_char_idx=1978, text_template='{metadata_str}\\n\\n{content}', metadata_template='{key}: {value}', metadata_seperator='\\n'), score=1000.0),\n",
              " NodeWithScore(node=TextNode(id_='39dbded2-b46e-452e-b92b-00008557743c', embedding=None, metadata={'page_label': '1', 'file_name': 'OriginOfCovid19.pdf', 'file_path': '/content/origin_of_covid_data/source_files/OriginOfCovid19.pdf', 'file_type': 'application/pdf', 'file_size': 2610336, 'creation_date': '2024-04-16', 'last_modified_date': '2024-04-16'}, excluded_embed_metadata_keys=['file_name', 'file_type', 'file_size', 'creation_date', 'last_modified_date', 'last_accessed_date'], excluded_llm_metadata_keys=['file_name', 'file_type', 'file_size', 'creation_date', 'last_modified_date', 'last_accessed_date'], relationships={<NodeRelationship.SOURCE: '1'>: RelatedNodeInfo(node_id='748e97dc-5d06-4147-8079-f77aaa7ce905', node_type=<ObjectType.DOCUMENT: '4'>, metadata={'page_label': '1', 'file_name': 'OriginOfCovid19.pdf', 'file_path': '/content/origin_of_covid_data/source_files/OriginOfCovid19.pdf', 'file_type': 'application/pdf', 'file_size': 2610336, 'creation_date': '2024-04-16', 'last_modified_date': '2024-04-16'}, hash='652b8114a2b9acec8bd9367f6b5fcae79e6efddf6205b10c70acb7eeef3b244d'), <NodeRelationship.PREVIOUS: '2'>: RelatedNodeInfo(node_id='15fc7b24-b93e-4cea-94c7-70b95cb07b35', node_type=<ObjectType.TEXT: '1'>, metadata={'page_label': '1', 'file_name': 'OriginOfCovid19.pdf', 'file_path': '/content/origin_of_covid_data/source_files/OriginOfCovid19.pdf', 'file_type': 'application/pdf', 'file_size': 2610336, 'creation_date': '2024-04-16', 'last_modified_date': '2024-04-16'}, hash='1fa3b2ff51d9ba3558fbaeda22ba59c6f8c899c58add9abb3342673c2febb435'), <NodeRelationship.NEXT: '3'>: RelatedNodeInfo(node_id='594b9ba3-ae81-43e8-9398-743e60470112', node_type=<ObjectType.TEXT: '1'>, metadata={}, hash='8c55dcf621935d41302d1e46aa958222db35c5921e5eba7181352b6f52fa58dd')}, text='The COVID-19 pandemic is among the deadliest infectious diseases to have emerged in recent history. As\\nwith all past pandemics, the speci ﬁc mechanism of its emergence in humans remains unknown. Nevertheless, a large body\\nof virologic, epidemiologic, veterinary, and ecologic data establishes that the new virus, SARS-CoV-2, evolved directly orindirectly from a β-coronavirus in the sarbecovirus (SARS-like virus) group that naturally infect bats and pangolins in Asia\\nand Southeast Asia. Scientists have warned for decades that such sarbecoviruses are poised to emerge again and again,\\nidenti ﬁed risk factors, and argued for enhanced pandemic prevention and control efforts. Unfortunately, few such pre-\\nventive actions were taken resulting in the latest coronavirus emergence detected in late 2019 which quickly spreadpandemically. The risk of similar coronavirus outbreaks in the future remains high. In addition to controlling the COVID-19pandemic, we must undertake vigorous scienti ﬁc, public health, and societal actions, including signi ﬁcantly increased\\nfunding for basic and applied research addressing disease emergence, to prevent this tragic history from repeating itself.\\nIn 2007, scientists studying coronaviruses warned: “The\\npresence of a large reservoir of SARS-CoV –like viruses in\\nhorseshoe bats ...is a time bomb. The possibility of the re-\\nemergence of SARS and other novel viruses ...should not be\\nignored. ”\\n1\\nFew paid attention following the disappearance of SARS\\nafter the initial outbreak in 2002. Now, 18 years later, COVID-19\\nhas emerged as the deadliest respiratory disease pandemic\\nsince 1918, when the “Spanish ”inﬂuenza pandemic killed an\\nestimated 50 million people.2We need to understand what\\nhappened so that we can prevent it from happening again, and\\nbe betterprepared to containsimilar pandemics attheir outsets.', start_char_idx=2130, end_char_idx=3982, text_template='{metadata_str}\\n\\n{content}', metadata_template='{key}: {value}', metadata_seperator='\\n'), score=1000.0),\n",
              " NodeWithScore(node=TextNode(id_='5711f919-e0c2-40c7-8115-975e0ceb9518', embedding=None, metadata={'page_label': '2', 'file_name': 'OriginOfCovid19.pdf', 'file_path': '/content/origin_of_covid_data/source_files/OriginOfCovid19.pdf', 'file_type': 'application/pdf', 'file_size': 2610336, 'creation_date': '2024-04-16', 'last_modified_date': '2024-04-16'}, excluded_embed_metadata_keys=['file_name', 'file_type', 'file_size', 'creation_date', 'last_modified_date', 'last_accessed_date'], excluded_llm_metadata_keys=['file_name', 'file_type', 'file_size', 'creation_date', 'last_modified_date', 'last_accessed_date'], relationships={<NodeRelationship.SOURCE: '1'>: RelatedNodeInfo(node_id='b01a4e65-f6db-46e6-91a8-193400f0799e', node_type=<ObjectType.DOCUMENT: '4'>, metadata={'page_label': '2', 'file_name': 'OriginOfCovid19.pdf', 'file_path': '/content/origin_of_covid_data/source_files/OriginOfCovid19.pdf', 'file_type': 'application/pdf', 'file_size': 2610336, 'creation_date': '2024-04-16', 'last_modified_date': '2024-04-16'}, hash='f17da0accf96241ec4e3fed582e7e7ab17efcf38f0771ed3dccfbc899962a2ae'), <NodeRelationship.PREVIOUS: '2'>: RelatedNodeInfo(node_id='73774caa-4026-47a7-b499-4357f370d131', node_type=<ObjectType.TEXT: '1'>, metadata={'page_label': '2', 'file_name': 'OriginOfCovid19.pdf', 'file_path': '/content/origin_of_covid_data/source_files/OriginOfCovid19.pdf', 'file_type': 'application/pdf', 'file_size': 2610336, 'creation_date': '2024-04-16', 'last_modified_date': '2024-04-16'}, hash='506872be3c1a30395a7f2a6a3861257670f9022a75b6612d9abb9f01f7701378'), <NodeRelationship.NEXT: '3'>: RelatedNodeInfo(node_id='06aa8c5a-303e-448e-a6f9-683fad6c9e87', node_type=<ObjectType.TEXT: '1'>, metadata={}, hash='b304405067a8bc0a7251e4e9d622032c4d0c52dc25c2fd2364c9914eda53a55f')}, text='12Four endemic human coronavi-\\nruses, which emerged at some undetermined time in the past,\\ncause (mostly) mild self-limited upper respiratory tract infec-\\ntions (Figure 1).\\nRECENT CORONAVIRUS EMERGENCES FROM ANIMALS\\nINTO HUMANS\\nUntil recently, relatively little was known about coronavi-\\nruses, and research interest in these common cold viruses\\nwas minimal. Eighteen years ago, a previously unknown β-\\ncoronavirus named SARS-CoV suddenly emerged. Following\\nits initial appearance in China it spread to 29 other countries,\\ncausing a near-pandemic and killing 813 of the 8,809 peoplewith con ﬁrmed infection before being controlled by aggres-\\nsive public health measures. It has not been seen since. In\\n2012, however, another previously unknown β-coronavirus\\nnamed Middle East respiratory syndrome coronavirus (MERS-CoV), and closely related to SARS-CoV, emerged to cause\\nhigh case-fatality human infections. Fortunately, this virus\\ndoes not ef ﬁciently transmit between humans, and cases have\\nbeen largely limited to the Middle East where its intermediary\\nhost, the dromedary camel, is present in relatively high num-\\nbers. In 2016, yet another novel bat-origin coronavirus, anα-coronavirus, emerged in China to cause a novel epizootic\\ndisease in pigs, termed swine acute diarrhea syndrome\\ncoronavirus (SADS-CoV). And most recently, at least as earlyas late November 2019, SARS-CoV-2 was recognized andbecame the third fatal bat virus –associated human diseaseHCoV\\n−NL63HCoV\\n−229ESADS\\n−CoVSARS\\n−CoV\\n−1Bat\\n−CoV\\n−RaTG13 SARS\\n−CoV\\n−2GD\\n−Pangolin\\n−CoVGX\\n−Pangolin\\n−CoV\\nHCoV−HKU1HCoV−OC43\\nFCoVMERS\\n−CoV\\n0.187100\\n97\\n100Beta-CoV\\nDelta-CoV\\nGam\\nm\\na-CoV\\nAlpha-CoV\\nFIGURE 1.', start_char_idx=1264, end_char_idx=2927, text_template='{metadata_str}\\n\\n{content}', metadata_template='{key}: {value}', metadata_seperator='\\n'), score=1000.0),\n",
              " NodeWithScore(node=TextNode(id_='594b9ba3-ae81-43e8-9398-743e60470112', embedding=None, metadata={'page_label': '1', 'file_name': 'OriginOfCovid19.pdf', 'file_path': '/content/origin_of_covid_data/source_files/OriginOfCovid19.pdf', 'file_type': 'application/pdf', 'file_size': 2610336, 'creation_date': '2024-04-16', 'last_modified_date': '2024-04-16'}, excluded_embed_metadata_keys=['file_name', 'file_type', 'file_size', 'creation_date', 'last_modified_date', 'last_accessed_date'], excluded_llm_metadata_keys=['file_name', 'file_type', 'file_size', 'creation_date', 'last_modified_date', 'last_accessed_date'], relationships={<NodeRelationship.SOURCE: '1'>: RelatedNodeInfo(node_id='748e97dc-5d06-4147-8079-f77aaa7ce905', node_type=<ObjectType.DOCUMENT: '4'>, metadata={'page_label': '1', 'file_name': 'OriginOfCovid19.pdf', 'file_path': '/content/origin_of_covid_data/source_files/OriginOfCovid19.pdf', 'file_type': 'application/pdf', 'file_size': 2610336, 'creation_date': '2024-04-16', 'last_modified_date': '2024-04-16'}, hash='652b8114a2b9acec8bd9367f6b5fcae79e6efddf6205b10c70acb7eeef3b244d'), <NodeRelationship.PREVIOUS: '2'>: RelatedNodeInfo(node_id='39dbded2-b46e-452e-b92b-00008557743c', node_type=<ObjectType.TEXT: '1'>, metadata={'page_label': '1', 'file_name': 'OriginOfCovid19.pdf', 'file_path': '/content/origin_of_covid_data/source_files/OriginOfCovid19.pdf', 'file_type': 'application/pdf', 'file_size': 2610336, 'creation_date': '2024-04-16', 'last_modified_date': '2024-04-16'}, hash='d38121db6345f3e3d8ff6102a9ac092858f6fe1dee6c4876d20aa32cd2151602'), <NodeRelationship.NEXT: '3'>: RelatedNodeInfo(node_id='ead05462-f256-44e0-a569-0ecf08937e81', node_type=<ObjectType.TEXT: '1'>, metadata={}, hash='ae941ea9d4f23aee6c35c9a2ed6992797a7c170406f6e9149b0cc6e7f6f64e0b')}, text='In 2007, scientists studying coronaviruses warned: “The\\npresence of a large reservoir of SARS-CoV –like viruses in\\nhorseshoe bats ...is a time bomb. The possibility of the re-\\nemergence of SARS and other novel viruses ...should not be\\nignored. ”\\n1\\nFew paid attention following the disappearance of SARS\\nafter the initial outbreak in 2002. Now, 18 years later, COVID-19\\nhas emerged as the deadliest respiratory disease pandemic\\nsince 1918, when the “Spanish ”inﬂuenza pandemic killed an\\nestimated 50 million people.2We need to understand what\\nhappened so that we can prevent it from happening again, and\\nbe betterprepared to containsimilar pandemics attheir outsets.\\nEMERGENCE OF THE COVID-19 PANDEMIC\\nThe agent of COVID-19, SARS-CoV-2, was named after the\\ngenetically related SARS-CoV (more recently distinguished\\nby some as SARS-CoV-1), which caused a deadly near-\\npandemic in 2002 –2003.3Before 2019, neither SARS-CoV-2\\nnor its genetic sequences had ever been identi ﬁed in viruses of\\nhumans or animals.\\nEven so, scienti ﬁc research conducted over the last two\\ndecades provides clues about how and why the COVID-19\\npandemic appeared. We must understand these critically\\nimportant scienti ﬁcﬁndings, described in the following text, so\\nthat we can better address signi ﬁcant existential risks we will\\ncontinue to face for the foreseeable future.HOW VIRAL DISEASES EMERGE\\nViruses are compact nucleic acid packages of either DNA or\\n(in the case of coronaviruses) RNA associated with proteins, and in\\nsome cases with lipids. Viruses are not living organisms and can\\nonly reproduce inside living cells susceptible to viral entry and withthe capacity to replicate viral nucleic acids and translate nucleicacid signals into amino acids to build viral proteins. Viruses are\\ntherefore nonliving self-contained genetic programs capable of\\nredirecting a cell ’s machinery to produce more of themselves.', start_char_idx=3317, end_char_idx=5210, text_template='{metadata_str}\\n\\n{content}', metadata_template='{key}: {value}', metadata_seperator='\\n'), score=1000.0),\n",
              " NodeWithScore(node=TextNode(id_='9ae81762-1e77-4ea1-9add-a245f708cb8a', embedding=None, metadata={'page_label': '3', 'file_name': 'OriginOfCovid19.pdf', 'file_path': '/content/origin_of_covid_data/source_files/OriginOfCovid19.pdf', 'file_type': 'application/pdf', 'file_size': 2610336, 'creation_date': '2024-04-16', 'last_modified_date': '2024-04-16'}, excluded_embed_metadata_keys=['file_name', 'file_type', 'file_size', 'creation_date', 'last_modified_date', 'last_accessed_date'], excluded_llm_metadata_keys=['file_name', 'file_type', 'file_size', 'creation_date', 'last_modified_date', 'last_accessed_date'], relationships={<NodeRelationship.SOURCE: '1'>: RelatedNodeInfo(node_id='e09e4ea7-61db-4e42-8389-79376b559fa0', node_type=<ObjectType.DOCUMENT: '4'>, metadata={'page_label': '3', 'file_name': 'OriginOfCovid19.pdf', 'file_path': '/content/origin_of_covid_data/source_files/OriginOfCovid19.pdf', 'file_type': 'application/pdf', 'file_size': 2610336, 'creation_date': '2024-04-16', 'last_modified_date': '2024-04-16'}, hash='30b7c7e8f5f907ecb22dd86fe0a3951727d10a2e98e66469af1d4c64a74af4d7'), <NodeRelationship.PREVIOUS: '2'>: RelatedNodeInfo(node_id='52547f42-5ae2-436f-a399-51150de9fd75', node_type=<ObjectType.TEXT: '1'>, metadata={'page_label': '3', 'file_name': 'OriginOfCovid19.pdf', 'file_path': '/content/origin_of_covid_data/source_files/OriginOfCovid19.pdf', 'file_type': 'application/pdf', 'file_size': 2610336, 'creation_date': '2024-04-16', 'last_modified_date': '2024-04-16'}, hash='b79f3706ed5d7a9118f78ad8136395c9fcdb6e75525c9682882660cea0f2cf74'), <NodeRelationship.NEXT: '3'>: RelatedNodeInfo(node_id='86b7a901-fe04-4d14-8266-e8df500b781d', node_type=<ObjectType.TEXT: '1'>, metadata={}, hash='c64c9c7a58089b8bb57de95381b08f693cbcfc0a1cae371f8bbfd76c080aecbf')}, text='In fact, many\\nsuch bat coronaviruses have genetic sequences similar toSARS-CoV and SARS-CoV-2.\\nInvestigators have also mapped global hotspots for po-\\ntential infection emergence, prominently in south/southwest\\nChina and contiguous regions and countries (Figure 2),\\n14and\\nhave identi ﬁed numerous human –animal interactions that con-\\nstitute emergence risk factors, for example bat tourism, wet\\nmarkets, wildlife supply chains for human consumption,15land\\nmanagement practices, and environmental perturbations.16–18\\nVirologic and risk mapping studies indicate a very high risk of\\nfurther coronavirus outbreaks.19–21\\nSARS-CoV and SARS-CoV-2 emerged in China, home to\\nbats of more than 100 species, many of which carry α- and/or\\nβ-coronaviruses. In one study, more than 780 partial coro-\\nnavirus genetic sequences were identi ﬁed from bats of\\n41 species infected by α- and of 31 species infected by\\nβ-coronaviruses.21Within the sarbecovirus lineage, en-\\ncompassing SARS and SARS-like viruses, many identi ﬁed\\ngenetic sequences are very similar to SARS-CoV and SARS-\\nCoV-2.21–23One such virus is more than 96% identical to\\nSARS-CoV-2 in its whole genome23; another shares more\\nthan 97% identity in the 1ab replicase gene, as well as a furin\\nc l e a v a g es i t ei n s e r t i o n .24Nature is clearly a cauldron for in-\\ntense and dangerous coronavirus evolution.\\nWAS COVID-19 PREDICTED?\\nA clearer, more worrisome picture of the coronavirus eco-\\nsystem has recently come together. A contiguous area en-\\ncompassing parts of south/southwest China, Laos, Myanmar,\\nand Vietnam constitutes a bat coronavirus “hotspot, ”featuringintense interspecies viral transmission. In such hotspots, a\\nrich diversity of SARS-like viruses has been found, not only in\\nrhinolophid bats but also in bats of other genera and species towhich these viruses had host-switched.', start_char_idx=1675, end_char_idx=3521, text_template='{metadata_str}\\n\\n{content}', metadata_template='{key}: {value}', metadata_seperator='\\n'), score=1000.0),\n",
              " NodeWithScore(node=TextNode(id_='dd3ad226-5b0e-4ba7-8605-5655557caea6', embedding=None, metadata={'page_label': '5', 'file_name': 'OriginOfCovid19.pdf', 'file_path': '/content/origin_of_covid_data/source_files/OriginOfCovid19.pdf', 'file_type': 'application/pdf', 'file_size': 2610336, 'creation_date': '2024-04-16', 'last_modified_date': '2024-04-16'}, excluded_embed_metadata_keys=['file_name', 'file_type', 'file_size', 'creation_date', 'last_modified_date', 'last_accessed_date'], excluded_llm_metadata_keys=['file_name', 'file_type', 'file_size', 'creation_date', 'last_modified_date', 'last_accessed_date'], relationships={<NodeRelationship.SOURCE: '1'>: RelatedNodeInfo(node_id='03ed6386-7c05-4e25-b4a4-902743148e94', node_type=<ObjectType.DOCUMENT: '4'>, metadata={'page_label': '5', 'file_name': 'OriginOfCovid19.pdf', 'file_path': '/content/origin_of_covid_data/source_files/OriginOfCovid19.pdf', 'file_type': 'application/pdf', 'file_size': 2610336, 'creation_date': '2024-04-16', 'last_modified_date': '2024-04-16'}, hash='f71643efdc2b7c205ec6abbcd14c51363ce950fe1aef73e6b434491ee4f5c0d0'), <NodeRelationship.PREVIOUS: '2'>: RelatedNodeInfo(node_id='c46650e9-8f57-4b3c-b987-b613a6f7fb55', node_type=<ObjectType.TEXT: '1'>, metadata={'page_label': '5', 'file_name': 'OriginOfCovid19.pdf', 'file_path': '/content/origin_of_covid_data/source_files/OriginOfCovid19.pdf', 'file_type': 'application/pdf', 'file_size': 2610336, 'creation_date': '2024-04-16', 'last_modified_date': '2024-04-16'}, hash='8915a3f945cb6851171a50c3a0611e25456bfb126373adb0050082b63dca8abb')}, text='Emergence of SARS-CoV-2 through re-\\ncombination and strong purifying selection. Sci Adv 6: eabb9153.\\n32. Xia H, Huang Y, Ma H, Liu B, Xie W, Song D, Yuan Z, 2019. Bio-\\nsafety level 4 laboratory user training program, China. Emerg\\nInfect Dis 25: e180220.\\n33. Oreshkova N et al., 2020. SARS-CoV2 infection in farmed mink,\\nNetherlands. Euro Surveill 25: pii=2001005.\\n34. Halfman PJ et al., 2020. Transmission of SARS-CoV-2 in do-\\nmestic cats. N Engl J Med , doi: 10.1056/NEJMc2013400.\\n35. Letko M, Seifert SN, Olival KJ, Plowright RK, Munster VJ, 2020.\\nBat-borne virus diversity, spillover, and emergence. Nat Rev\\nMicrobiol 18: 461–471.\\n36. Morens DM, Daszak P, Markel H, Taubenberger JK, 2020. Pandemic\\nCOVID-19 joins history ’sp a n d e m i cl e g i o n . mBio 11: e00812-20.ORIGIN OF COVID-19 959', start_char_idx=7220, end_char_idx=8016, text_template='{metadata_str}\\n\\n{content}', metadata_template='{key}: {value}', metadata_seperator='\\n'), score=1000.0),\n",
              " NodeWithScore(node=TextNode(id_='f1c13ac6-53b3-4f2a-9aaa-c5a6229cbba3', embedding=None, metadata={'kg_rel_texts': [\"('Sars-cov-2', 'Is', 'Unlike any previously identified coronavirus')\", \"('Sars-cov-2', 'Is closely related to', 'Numerous bat and pangolin coronaviruses')\"], 'kg_rel_map': {}}, excluded_embed_metadata_keys=['kg_rel_map', 'kg_rel_texts'], excluded_llm_metadata_keys=['kg_rel_map', 'kg_rel_texts'], relationships={}, text=\"The following are knowledge sequence in max depth 3 in the form of directed graph like:\\n`subject -[predicate]->, object, <-[predicate_next_hop]-, object_next_hop ...`\\n('Sars-cov-2', 'Is', 'Unlike any previously identified coronavirus')\\n('Sars-cov-2', 'Is closely related to', 'Numerous bat and pangolin coronaviruses')\", start_char_idx=None, end_char_idx=None, text_template='{metadata_str}\\n\\n{content}', metadata_template='{key}: {value}', metadata_seperator='\\n'), score=1000.0)]"
            ]
          },
          "metadata": {},
          "execution_count": 19
        }
      ],
      "source": [
        "resp = graph_rag_retriever.retrieve(\n",
        "    'What do we know about the Sars-cov-2 virus?',\n",
        "    #'Tell me about sarbecoviruses',\n",
        "    #'What do we know about Animal-to-human host-switching in Sars-cov-2?',\n",
        " )\n",
        "\n",
        "resp"
      ]
    },
    {
      "cell_type": "code",
      "execution_count": 20,
      "metadata": {
        "id": "UFq2W2NRnKgr",
        "outputId": "7b61afae-b08d-442b-8e6b-742062e12ee5",
        "colab": {
          "base_uri": "https://localhost:8080/"
        }
      },
      "outputs": [
        {
          "output_type": "stream",
          "name": "stdout",
          "text": [
            "And most recently, at least as earlyas late November 2019, SARS-CoV-2 was recognized andbecame the third fatal bat virus –associated human diseaseHCoV\n",
            "−NL63HCoV\n",
            "−229ESADS\n",
            "−CoVSARS\n",
            "−CoV\n",
            "−1Bat\n",
            "−CoV\n",
            "−RaTG13 SARS\n",
            "−CoV\n",
            "−2GD\n",
            "−Pangolin\n",
            "−CoVGX\n",
            "−Pangolin\n",
            "−CoV\n",
            "HCoV−HKU1HCoV−OC43\n",
            "FCoVMERS\n",
            "−CoV\n",
            "0.187100\n",
            "97\n",
            "100Beta-CoV\n",
            "Delta-CoV\n",
            "Gam\n",
            "m\n",
            "a-CoV\n",
            "Alpha-CoV\n",
            "FIGURE 1. Phylogenetic relationships of selected coronaviruses of\n",
            "medical and veterinary importan ce. Human SARS-CoV and SARS-CoV-2\n",
            "are closely related to numerous bat and pangolin coronaviruses in a viralgenetic grouping called sarbecoviruses, which contains many otherviruses very closely related to SARS-CoV and SARS-CoV-2. These viru-s e sb e l o n gt ot h eo r d e r Nidovirales , family Coronaviridae , subfamily\n",
            "Coronavirinae and the four genera Alphacoronavirus ,Betacoronavirus ,\n",
            "Gammacoronavirus ,a n d Deltacoronavirus . The betacoronaviruses are\n",
            "comprised of two subgenera, Sarbecovirus andMerbecovirus .T h ef o r m e r\n",
            "include SARS-CoV and SARS-CoV-2; the latter includes Middle East re-spiratory syndrome-related coronavirus (MERS-CoV). Image created bySebastian M. Gygli, Ph.D., NIAID, NIH, and used with permission.\n",
            "FIGURE 2. Predicted global hotspots for disease emergence, showing estimated risks, adjusted for reporting bias. From a comprehensive global\n",
            "study combining multiple data sources. Reproduced with permission from Allen et al .14956 MORENS AND OTHERS\n"
          ]
        }
      ],
      "source": [
        "print(resp[0].text)"
      ]
    },
    {
      "cell_type": "markdown",
      "metadata": {
        "id": "H8tNfA4EEbGs"
      },
      "source": [
        "##### Prompt Inspection and Engineering"
      ]
    },
    {
      "cell_type": "code",
      "execution_count": 21,
      "metadata": {
        "colab": {
          "base_uri": "https://localhost:8080/"
        },
        "id": "F06axQN5EwCg",
        "outputId": "70d10a8a-0ee1-4f04-a91d-dd25540f632b"
      },
      "outputs": [
        {
          "output_type": "execute_result",
          "data": {
            "text/plain": [
              "['response_synthesizer:summary_template']"
            ]
          },
          "metadata": {},
          "execution_count": 21
        }
      ],
      "source": [
        "list(graph_query_engine.get_prompts().keys())"
      ]
    },
    {
      "cell_type": "code",
      "execution_count": 22,
      "metadata": {
        "colab": {
          "base_uri": "https://localhost:8080/",
          "height": 235
        },
        "id": "JQ81YVmEFUEe",
        "outputId": "e25de361-874a-418d-93eb-b9ca10e3d433"
      },
      "outputs": [
        {
          "output_type": "display_data",
          "data": {
            "text/plain": [
              "<IPython.core.display.Markdown object>"
            ],
            "text/markdown": "**Prompt Key**: response_synthesizer:summary_template<br>**Text:** <br>"
          },
          "metadata": {}
        },
        {
          "output_type": "stream",
          "name": "stdout",
          "text": [
            "Context information from multiple sources is below.\n",
            "---------------------\n",
            "{context_str}\n",
            "---------------------\n",
            "Given the information from multiple sources and not prior knowledge, answer the query.\n",
            "Query: {query_str}\n",
            "Answer: \n"
          ]
        },
        {
          "output_type": "display_data",
          "data": {
            "text/plain": [
              "<IPython.core.display.Markdown object>"
            ],
            "text/markdown": "<br><br>"
          },
          "metadata": {}
        }
      ],
      "source": [
        "display_prompt_dict(graph_query_engine.get_prompts())"
      ]
    },
    {
      "cell_type": "code",
      "execution_count": 23,
      "metadata": {
        "colab": {
          "base_uri": "https://localhost:8080/"
        },
        "id": "f6jspTlhEZxJ",
        "outputId": "1795db91-cb4b-4bbf-a4ca-ec555c6da67d"
      },
      "outputs": [
        {
          "output_type": "stream",
          "name": "stdout",
          "text": [
            "Context information from multiple sources is below.\n",
            "---------------------\n",
            "{context_str}\n",
            "---------------------\n",
            "Given the information from multiple sources and not prior knowledge, answer the query.\n",
            "Query: {query_str}\n",
            "Answer: \n"
          ]
        }
      ],
      "source": [
        "prompt_key = 'response_synthesizer:summary_template'\n",
        "\n",
        "print(graph_query_engine.get_prompts()[prompt_key].get_template())"
      ]
    },
    {
      "cell_type": "markdown",
      "metadata": {
        "id": "rlK0HpKN6fHw"
      },
      "source": [
        "## Plain RAG"
      ]
    },
    {
      "cell_type": "markdown",
      "metadata": {
        "id": "6fP9WP7Hjowt"
      },
      "source": [
        "### Setup and Load Vector Store"
      ]
    },
    {
      "cell_type": "code",
      "execution_count": 24,
      "metadata": {
        "id": "owIcSwIi6jvY"
      },
      "outputs": [],
      "source": [
        "from llama_index.core import (\n",
        "    VectorStoreIndex,\n",
        "    SimpleDirectoryReader,\n",
        "    StorageContext,\n",
        ")\n",
        "\n",
        "\n",
        "# build basic RAG system\n",
        "vector_index = VectorStoreIndex.from_documents(documents=documents)\n",
        "vector_query_engine = vector_index.as_query_engine()\n"
      ]
    },
    {
      "cell_type": "markdown",
      "metadata": {
        "id": "txJHTE1Gjowu"
      },
      "source": [
        "### Build Retriever and Query Engine"
      ]
    },
    {
      "cell_type": "code",
      "execution_count": 25,
      "metadata": {
        "id": "OwaeRFX57wZH"
      },
      "outputs": [],
      "source": [
        "from llama_index.core import get_response_synthesizer\n",
        "from llama_index.core.indices.vector_store.retrievers import VectorIndexRetriever\n",
        "from llama_index.core.query_engine.retriever_query_engine import (\n",
        "    RetrieverQueryEngine,\n",
        ")\n",
        "\n",
        "# build retriever\n",
        "vector_retriever = VectorIndexRetriever(\n",
        "    index=vector_index,\n",
        "    similarity_top_k=10,\n",
        "    vector_store_query_mode=\"default\",\n",
        "    alpha=None,\n",
        "    doc_ids=None,\n",
        ")\n",
        "\n",
        "# build query engine\n",
        "response_synthesizer=get_response_synthesizer(\n",
        "    response_mode='simple_summarize', # \"simple_summarize\" \"compact\", \"tree_summarize\",\n",
        ")\n",
        "\n",
        "vector_query_engine = RetrieverQueryEngine(\n",
        "    retriever=vector_retriever,\n",
        "    response_synthesizer=response_synthesizer\n",
        ")\n"
      ]
    },
    {
      "cell_type": "markdown",
      "metadata": {
        "id": "czNK5RUojowu"
      },
      "source": [
        "### Querying with Plain RAG"
      ]
    },
    {
      "cell_type": "code",
      "execution_count": 26,
      "metadata": {
        "colab": {
          "base_uri": "https://localhost:8080/",
          "height": 64
        },
        "id": "v-jg1VOd7688",
        "outputId": "e1f0d1b5-8f07-421c-81eb-f8dd69268146"
      },
      "outputs": [
        {
          "output_type": "display_data",
          "data": {
            "text/plain": [
              "<IPython.core.display.Markdown object>"
            ],
            "text/markdown": "<b>The COVID-19 virus, also known as SARS-CoV-2, evolved directly or indirectly from a β-coronavirus in the sarbecovirus (SARS-like virus) group that naturally infect bats and pangolins in Asia and Southeast Asia. The specific mechanism of its emergence in humans remains unknown.</b>"
          },
          "metadata": {}
        }
      ],
      "source": [
        "response = vector_query_engine.query(\n",
        "    'What is the origin of the COVID virus?'\n",
        "    #'What do we know about the Sars-cov-2 virus?',\n",
        "    #'Tell me about Sarbecoviruses',\n",
        ")\n",
        "\n",
        "display(Markdown(f\"<b>{response}</b>\"))"
      ]
    },
    {
      "cell_type": "markdown",
      "metadata": {
        "id": "oKrpFDRCjowu"
      },
      "source": [
        "#### Digging into the Plain RAG Response"
      ]
    },
    {
      "cell_type": "markdown",
      "metadata": {
        "id": "uqNfTiwJ-X4_"
      },
      "source": [
        "##### Inspect Retrieval Results"
      ]
    },
    {
      "cell_type": "code",
      "execution_count": 27,
      "metadata": {
        "colab": {
          "base_uri": "https://localhost:8080/"
        },
        "id": "d44wD94ranwS",
        "outputId": "d4fe1853-8e7c-4fb2-a173-276d3397cdb3"
      },
      "outputs": [
        {
          "output_type": "execute_result",
          "data": {
            "text/plain": [
              "[NodeWithScore(node=TextNode(id_='e4a07f76-522d-4948-8c94-489a743b58b0', embedding=None, metadata={'page_label': '1', 'file_name': 'OriginOfCovid19.pdf', 'file_path': '/content/origin_of_covid_data/source_files/OriginOfCovid19.pdf', 'file_type': 'application/pdf', 'file_size': 2610336, 'creation_date': '2024-04-16', 'last_modified_date': '2024-04-16'}, excluded_embed_metadata_keys=['file_name', 'file_type', 'file_size', 'creation_date', 'last_modified_date', 'last_accessed_date'], excluded_llm_metadata_keys=['file_name', 'file_type', 'file_size', 'creation_date', 'last_modified_date', 'last_accessed_date'], relationships={<NodeRelationship.SOURCE: '1'>: RelatedNodeInfo(node_id='748e97dc-5d06-4147-8079-f77aaa7ce905', node_type=<ObjectType.DOCUMENT: '4'>, metadata={'page_label': '1', 'file_name': 'OriginOfCovid19.pdf', 'file_path': '/content/origin_of_covid_data/source_files/OriginOfCovid19.pdf', 'file_type': 'application/pdf', 'file_size': 2610336, 'creation_date': '2024-04-16', 'last_modified_date': '2024-04-16'}, hash='652b8114a2b9acec8bd9367f6b5fcae79e6efddf6205b10c70acb7eeef3b244d'), <NodeRelationship.NEXT: '3'>: RelatedNodeInfo(node_id='29db4336-80d6-40aa-8c0c-f62981feefcd', node_type=<ObjectType.TEXT: '1'>, metadata={}, hash='6ab0a1da1a6435916acd70c409b4c3c6319b0cacfb96c110cfbbe6b92d70120c')}, text='Am. J. Trop. Med. Hyg. , 103(3), 2020, pp.', start_char_idx=0, end_char_idx=42, text_template='{metadata_str}\\n\\n{content}', metadata_template='{key}: {value}', metadata_seperator='\\n'), score=0.719705163109133),\n",
              " NodeWithScore(node=TextNode(id_='5526cc20-cb0c-4fac-9f2f-df0bf7775eea', embedding=None, metadata={'page_label': '5', 'file_name': 'OriginOfCovid19.pdf', 'file_path': '/content/origin_of_covid_data/source_files/OriginOfCovid19.pdf', 'file_type': 'application/pdf', 'file_size': 2610336, 'creation_date': '2024-04-16', 'last_modified_date': '2024-04-16'}, excluded_embed_metadata_keys=['file_name', 'file_type', 'file_size', 'creation_date', 'last_modified_date', 'last_accessed_date'], excluded_llm_metadata_keys=['file_name', 'file_type', 'file_size', 'creation_date', 'last_modified_date', 'last_accessed_date'], relationships={<NodeRelationship.SOURCE: '1'>: RelatedNodeInfo(node_id='03ed6386-7c05-4e25-b4a4-902743148e94', node_type=<ObjectType.DOCUMENT: '4'>, metadata={'page_label': '5', 'file_name': 'OriginOfCovid19.pdf', 'file_path': '/content/origin_of_covid_data/source_files/OriginOfCovid19.pdf', 'file_type': 'application/pdf', 'file_size': 2610336, 'creation_date': '2024-04-16', 'last_modified_date': '2024-04-16'}, hash='f71643efdc2b7c205ec6abbcd14c51363ce950fe1aef73e6b434491ee4f5c0d0'), <NodeRelationship.PREVIOUS: '2'>: RelatedNodeInfo(node_id='5cd942fa-02f7-420f-9ed0-e11c1f76d0c1', node_type=<ObjectType.TEXT: '1'>, metadata={'page_label': '5', 'file_name': 'OriginOfCovid19.pdf', 'file_path': '/content/origin_of_covid_data/source_files/OriginOfCovid19.pdf', 'file_type': 'application/pdf', 'file_size': 2610336, 'creation_date': '2024-04-16', 'last_modified_date': '2024-04-16'}, hash='8915a3f945cb6851171a50c3a0611e25456bfb126373adb0050082b63dca8abb')}, text='Emergence of SARS-CoV-2 through re-\\ncombination and strong purifying selection. Sci Adv 6: eabb9153.\\n32. Xia H, Huang Y, Ma H, Liu B, Xie W, Song D, Yuan Z, 2019. Bio-\\nsafety level 4 laboratory user training program, China. Emerg\\nInfect Dis 25: e180220.\\n33. Oreshkova N et al., 2020. SARS-CoV2 infection in farmed mink,\\nNetherlands. Euro Surveill 25: pii=2001005.\\n34. Halfman PJ et al., 2020. Transmission of SARS-CoV-2 in do-\\nmestic cats. N Engl J Med , doi: 10.1056/NEJMc2013400.\\n35. Letko M, Seifert SN, Olival KJ, Plowright RK, Munster VJ, 2020.\\nBat-borne virus diversity, spillover, and emergence. Nat Rev\\nMicrobiol 18: 461–471.\\n36. Morens DM, Daszak P, Markel H, Taubenberger JK, 2020. Pandemic\\nCOVID-19 joins history ’sp a n d e m i cl e g i o n . mBio 11: e00812-20.ORIGIN OF COVID-19 959', start_char_idx=7220, end_char_idx=8016, text_template='{metadata_str}\\n\\n{content}', metadata_template='{key}: {value}', metadata_seperator='\\n'), score=0.7108990982171267),\n",
              " NodeWithScore(node=TextNode(id_='41d7361a-ecc2-490a-b390-7331c28a83b1', embedding=None, metadata={'page_label': '3', 'file_name': 'OriginOfCovid19.pdf', 'file_path': '/content/origin_of_covid_data/source_files/OriginOfCovid19.pdf', 'file_type': 'application/pdf', 'file_size': 2610336, 'creation_date': '2024-04-16', 'last_modified_date': '2024-04-16'}, excluded_embed_metadata_keys=['file_name', 'file_type', 'file_size', 'creation_date', 'last_modified_date', 'last_accessed_date'], excluded_llm_metadata_keys=['file_name', 'file_type', 'file_size', 'creation_date', 'last_modified_date', 'last_accessed_date'], relationships={<NodeRelationship.SOURCE: '1'>: RelatedNodeInfo(node_id='e09e4ea7-61db-4e42-8389-79376b559fa0', node_type=<ObjectType.DOCUMENT: '4'>, metadata={'page_label': '3', 'file_name': 'OriginOfCovid19.pdf', 'file_path': '/content/origin_of_covid_data/source_files/OriginOfCovid19.pdf', 'file_type': 'application/pdf', 'file_size': 2610336, 'creation_date': '2024-04-16', 'last_modified_date': '2024-04-16'}, hash='30b7c7e8f5f907ecb22dd86fe0a3951727d10a2e98e66469af1d4c64a74af4d7'), <NodeRelationship.PREVIOUS: '2'>: RelatedNodeInfo(node_id='15ac3a88-a272-4762-bf99-c9489bece8aa', node_type=<ObjectType.TEXT: '1'>, metadata={'page_label': '3', 'file_name': 'OriginOfCovid19.pdf', 'file_path': '/content/origin_of_covid_data/source_files/OriginOfCovid19.pdf', 'file_type': 'application/pdf', 'file_size': 2610336, 'creation_date': '2024-04-16', 'last_modified_date': '2024-04-16'}, hash='fef838c44ef62ed8a0b54665207dc6c087d6a17cec708ce3f25822a7356632b6'), <NodeRelationship.NEXT: '3'>: RelatedNodeInfo(node_id='51b8cae8-955d-41cb-9d7b-16afbe663329', node_type=<ObjectType.TEXT: '1'>, metadata={}, hash='63bcaaabc50a11d0320e5ef58950860adf0566eee81c3cef051474c4c8e31ece')}, text='WAS COVID-19 PREDICTED?\\nA clearer, more worrisome picture of the coronavirus eco-\\nsystem has recently come together. A contiguous area en-\\ncompassing parts of south/southwest China, Laos, Myanmar,\\nand Vietnam constitutes a bat coronavirus “hotspot, ”featuringintense interspecies viral transmission. In such hotspots, a\\nrich diversity of SARS-like viruses has been found, not only in\\nrhinolophid bats but also in bats of other genera and species towhich these viruses had host-switched. The same rhinolophid\\nbats are also implicated in the emergence of SADS-CoV in\\nsouthern China. Many of these SARS-like viruses bind to hu-man angiotensin-converting enzyme-2 (ACE2) receptors and\\ninfect human respiratory epithelial cells in vitro, suggesting their\\npandemic potential.\\n19,25\\nOminously, bat-to-human transmission of SARS-like viruses\\nhas already been detected,20perhaps representing pandemic\\nnear-misses. Even the more genetically distant SADS-CoV\\ninfects cells of humans and numerous other vertebrates,raising concern about indirect coronavirus emergences. This\\nseems to have occurred with the bat-to-camel-to-human\\nemergence of MERS, and possibly with SARS-CoV emer-gence into humans, which may have resulted from bat virus\\ninfection of masked palm civet cats ( Paguma larvata ), with\\nsubsequent human spillover.\\n12As a byproduct of the impor-\\ntant international surveillance work described above, in 2017,the therapeutic bene ﬁt of the antiviral drug remdesivir was\\nsuggested; it is now, in 2020, being widely used to treat per-\\nsons infected with SARS-CoV-2.', start_char_idx=3035, end_char_idx=4597, text_template='{metadata_str}\\n\\n{content}', metadata_template='{key}: {value}', metadata_seperator='\\n'), score=0.7096481370726639),\n",
              " NodeWithScore(node=TextNode(id_='6bdc4968-7821-4e3c-b7f8-68cb297b9594', embedding=None, metadata={'page_label': '5', 'file_name': 'OriginOfCovid19.pdf', 'file_path': '/content/origin_of_covid_data/source_files/OriginOfCovid19.pdf', 'file_type': 'application/pdf', 'file_size': 2610336, 'creation_date': '2024-04-16', 'last_modified_date': '2024-04-16'}, excluded_embed_metadata_keys=['file_name', 'file_type', 'file_size', 'creation_date', 'last_modified_date', 'last_accessed_date'], excluded_llm_metadata_keys=['file_name', 'file_type', 'file_size', 'creation_date', 'last_modified_date', 'last_accessed_date'], relationships={<NodeRelationship.SOURCE: '1'>: RelatedNodeInfo(node_id='03ed6386-7c05-4e25-b4a4-902743148e94', node_type=<ObjectType.DOCUMENT: '4'>, metadata={'page_label': '5', 'file_name': 'OriginOfCovid19.pdf', 'file_path': '/content/origin_of_covid_data/source_files/OriginOfCovid19.pdf', 'file_type': 'application/pdf', 'file_size': 2610336, 'creation_date': '2024-04-16', 'last_modified_date': '2024-04-16'}, hash='f71643efdc2b7c205ec6abbcd14c51363ce950fe1aef73e6b434491ee4f5c0d0'), <NodeRelationship.PREVIOUS: '2'>: RelatedNodeInfo(node_id='78e54521-42e6-4b33-84e8-d3d1d4668b88', node_type=<ObjectType.TEXT: '1'>, metadata={'page_label': '5', 'file_name': 'OriginOfCovid19.pdf', 'file_path': '/content/origin_of_covid_data/source_files/OriginOfCovid19.pdf', 'file_type': 'application/pdf', 'file_size': 2610336, 'creation_date': '2024-04-16', 'last_modified_date': '2024-04-16'}, hash='7956e95284d3f744629baf50fb6c32ff5e2be2b8c5d61f5cded0047c61222589'), <NodeRelationship.NEXT: '3'>: RelatedNodeInfo(node_id='c5c01ddf-0abc-401f-af58-1cc2c1b84970', node_type=<ObjectType.TEXT: '1'>, metadata={}, hash='ceb02dd1b9e63117b56450c6eefd467ae816d3146b2bafa9d40a4f66db219882')}, text='Thomas P. Monath, Crozet BioPharma\\nLLC, Devens, MA, E-mail: tom.monath@crozetbiopharma.com. Jeffery\\nK. Taubenberger, Viral Pathogenesis and Evolution Section, Labo-ratory of Infectious Diseases, National Institute of Allergy and In-fectious Diseases, National Institutes of Health, Bethesda, MD,E-mail: taubenbergerj@niaid.nih.gov.\\nThis is an open-access article distributed under the terms of the\\nCreative Commons Attribution (CC-BY) License, which permits un-\\nrestricted use, distribution, and reproduction in any medium, provided\\nthe original author and source are credited.\\nREFERENCES\\n1. Cheng VCC, Lau SKP, Woo PCY, Yuen KY, 2007. Severe acute\\nrespiratory syndrome coronavirus as an agent of emerging and\\nreemerging infection. Clin Microbiol Rev 20: 660–694.\\n2. Taubenberger JK, Kash JC, Morens DM, 2019. The 1918 in ﬂuenza\\npandemic: 100 years of questions answered and unanswered.Sci Transl Med 11: eeaau5485.\\n3. Ksiazek TG et al., 2003. A novel coronavirus associated with\\nsevere acute respiratory syndrome. N Engl J Med 348:\\n1953 –1966.\\n4. Sharp PM, Plenderleith LJ, Hahn BH, 2020. Ape origins of human\\nmalaria. Ann Rev Microbiol 74: 39–63.\\n5. Morens DM, Folkers GK, Fauci AS, 2008. Emerging infections: a\\nperpetual challenge. Lancet Infect Dis 8: 710–719.\\n6. Culliton BJ, 1990. Emerging viruses, emerging threat. Science\\n247: 279–280.\\n7. Kuiken T, Holmes EC, McCauley J, Rimmelzwaan GF, Williams\\nCS, Grenfell BT, 2006. Host species barriers to in ﬂuenza virus\\ninfections.', start_char_idx=2234, end_char_idx=3714, text_template='{metadata_str}\\n\\n{content}', metadata_template='{key}: {value}', metadata_seperator='\\n'), score=0.7095823260978047),\n",
              " NodeWithScore(node=TextNode(id_='fd234c4f-ba99-4410-85d4-ba32aac80466', embedding=None, metadata={'page_label': '3', 'file_name': 'OriginOfCovid19.pdf', 'file_path': '/content/origin_of_covid_data/source_files/OriginOfCovid19.pdf', 'file_type': 'application/pdf', 'file_size': 2610336, 'creation_date': '2024-04-16', 'last_modified_date': '2024-04-16'}, excluded_embed_metadata_keys=['file_name', 'file_type', 'file_size', 'creation_date', 'last_modified_date', 'last_accessed_date'], excluded_llm_metadata_keys=['file_name', 'file_type', 'file_size', 'creation_date', 'last_modified_date', 'last_accessed_date'], relationships={<NodeRelationship.SOURCE: '1'>: RelatedNodeInfo(node_id='e09e4ea7-61db-4e42-8389-79376b559fa0', node_type=<ObjectType.DOCUMENT: '4'>, metadata={'page_label': '3', 'file_name': 'OriginOfCovid19.pdf', 'file_path': '/content/origin_of_covid_data/source_files/OriginOfCovid19.pdf', 'file_type': 'application/pdf', 'file_size': 2610336, 'creation_date': '2024-04-16', 'last_modified_date': '2024-04-16'}, hash='30b7c7e8f5f907ecb22dd86fe0a3951727d10a2e98e66469af1d4c64a74af4d7'), <NodeRelationship.PREVIOUS: '2'>: RelatedNodeInfo(node_id='51b8cae8-955d-41cb-9d7b-16afbe663329', node_type=<ObjectType.TEXT: '1'>, metadata={'page_label': '3', 'file_name': 'OriginOfCovid19.pdf', 'file_path': '/content/origin_of_covid_data/source_files/OriginOfCovid19.pdf', 'file_type': 'application/pdf', 'file_size': 2610336, 'creation_date': '2024-04-16', 'last_modified_date': '2024-04-16'}, hash='ba5f9ca332dfab324d585e10cd80ad382e5eda04aa6f8c11d2c7c62b8b41dca8'), <NodeRelationship.NEXT: '3'>: RelatedNodeInfo(node_id='778e9c0e-86c3-49d2-a21a-67ab9d3ba74c', node_type=<ObjectType.TEXT: '1'>, metadata={}, hash='9f6e249d1a315840fa968ffcb43227d3c50b4734e4080fa5f161afa87f5dd5f1')}, text='19,21,22Many scientists have proposed aggressive\\nmonitoring of known hotspots to try to predict and prevent viral\\nemergence that might impact human health, including early\\nwarning of host-switching events.19,20,27\\nUnfortunately, outside of some members of the scienti ﬁc\\ncommunity, there has been little interest and no sense of\\nurgency. In 2020, we learned, tragically, what 12 years of un-heeded warnings have led to: a bat-derived sarbecovirus —\\nfrom the very same SARS-like bat virus group that had been\\nwarned about by multiple voices for over a decade —emerged\\nand proceeded to cause the COVID-19 pandemic that nowsweeps the globe.\\nSARS-CoV-2 emerged essentially as predicted: a natural\\nevent associated with either direct transmission of a batcoronavirus to humans or indirect transmission to humans via\\nan intermediate host such as a Malaysian pangolin ( Manis\\njavanica ) or another, yet-to-be-identi ﬁed mammal.\\n28–31\\nIt should be clari ﬁed that theories about a hypothetical man-\\nmade origin of SARS-CoV-2 have been thoroughly discredited\\nby multiple coronavirus experts.21,28,29SARS-CoV-2 contains\\nneither the genetic ﬁngerprints of any of the reverse genetics\\nsystems that have been used to engineer coronaviruses nor\\ndoes it contain genetic sequences that would have been\\n“forward engineered ”from preexisting viruses, including the\\ngenetically closest sarbecoviruses. That is, SARS-CoV-2 is\\nunlike any previously identi ﬁed coronavirus from which it\\ncould have been engineered. Moreover, the SARS-CoV-2ORIGIN OF COVID-19 957', start_char_idx=5301, end_char_idx=6839, text_template='{metadata_str}\\n\\n{content}', metadata_template='{key}: {value}', metadata_seperator='\\n'), score=0.7088615875760046),\n",
              " NodeWithScore(node=TextNode(id_='5cd942fa-02f7-420f-9ed0-e11c1f76d0c1', embedding=None, metadata={'page_label': '5', 'file_name': 'OriginOfCovid19.pdf', 'file_path': '/content/origin_of_covid_data/source_files/OriginOfCovid19.pdf', 'file_type': 'application/pdf', 'file_size': 2610336, 'creation_date': '2024-04-16', 'last_modified_date': '2024-04-16'}, excluded_embed_metadata_keys=['file_name', 'file_type', 'file_size', 'creation_date', 'last_modified_date', 'last_accessed_date'], excluded_llm_metadata_keys=['file_name', 'file_type', 'file_size', 'creation_date', 'last_modified_date', 'last_accessed_date'], relationships={<NodeRelationship.SOURCE: '1'>: RelatedNodeInfo(node_id='03ed6386-7c05-4e25-b4a4-902743148e94', node_type=<ObjectType.DOCUMENT: '4'>, metadata={'page_label': '5', 'file_name': 'OriginOfCovid19.pdf', 'file_path': '/content/origin_of_covid_data/source_files/OriginOfCovid19.pdf', 'file_type': 'application/pdf', 'file_size': 2610336, 'creation_date': '2024-04-16', 'last_modified_date': '2024-04-16'}, hash='f71643efdc2b7c205ec6abbcd14c51363ce950fe1aef73e6b434491ee4f5c0d0'), <NodeRelationship.PREVIOUS: '2'>: RelatedNodeInfo(node_id='1cae4a06-3697-4498-87ea-49acf9d21d07', node_type=<ObjectType.TEXT: '1'>, metadata={'page_label': '5', 'file_name': 'OriginOfCovid19.pdf', 'file_path': '/content/origin_of_covid_data/source_files/OriginOfCovid19.pdf', 'file_type': 'application/pdf', 'file_size': 2610336, 'creation_date': '2024-04-16', 'last_modified_date': '2024-04-16'}, hash='8220a640f6cf2834ea898d98c3af3b8aad1e5a491cb3e68d6da2cdd335d96ab8'), <NodeRelationship.NEXT: '3'>: RelatedNodeInfo(node_id='5526cc20-cb0c-4fac-9f2f-df0bf7775eea', node_type=<ObjectType.TEXT: '1'>, metadata={}, hash='13b78a761c8108273d8abf902cd8b5eb8c803d592b96397b4b74061e0cf00823')}, text='Nature 503: 535–538.\\n26. Sheahan TP et al., 2017. Broad-spectrum antiviral GS-5734 in-\\nhibits both epidemic and zoonotic coronaviruses. Sci Transl\\nMed 9: eaal3653.\\n27. Carroll D, Daszak P, Wolfe ND, Gao GF, Morel CM, Morzaria S,\\nPablos-M ´ endez A, Tomori O, Mazet JAK, 2018. The Global\\nVirome Project. Science 359: 872–974.\\n28. Anderson KG, Rambaut A, Lipkin WI, Holmes EC, Garry RF, 2020.\\nThe proximal origin of SARS-CoV-2. Nat Med 26: 450–452.\\n29. Zhang Y-Z, Holmes EC, 2020. A genomic perspective on the or-\\nigin and emergence of SARS-CoV-2. Cell 181: 223–226.\\n30. Lu R et al., 2020. Genomic characterisation and epidemiology of\\n2019 novel coronavirus: implications for virus origins and re-\\nceptor binding. Lancet 395: 565–574.\\n31. Li X, Giorgi EE, Marichann MH, Foley B, Xiao C, Kong X-P, Chen Y,\\nKrober B, Gao F, 2020. Emergence of SARS-CoV-2 through re-\\ncombination and strong purifying selection. Sci Adv 6: eabb9153.\\n32. Xia H, Huang Y, Ma H, Liu B, Xie W, Song D, Yuan Z, 2019. Bio-\\nsafety level 4 laboratory user training program, China. Emerg\\nInfect Dis 25: e180220.\\n33. Oreshkova N et al., 2020. SARS-CoV2 infection in farmed mink,\\nNetherlands. Euro Surveill 25: pii=2001005.\\n34. Halfman PJ et al., 2020. Transmission of SARS-CoV-2 in do-\\nmestic cats.', start_char_idx=6394, end_char_idx=7659, text_template='{metadata_str}\\n\\n{content}', metadata_template='{key}: {value}', metadata_seperator='\\n'), score=0.7088370893021528),\n",
              " NodeWithScore(node=TextNode(id_='778e9c0e-86c3-49d2-a21a-67ab9d3ba74c', embedding=None, metadata={'page_label': '4', 'file_name': 'OriginOfCovid19.pdf', 'file_path': '/content/origin_of_covid_data/source_files/OriginOfCovid19.pdf', 'file_type': 'application/pdf', 'file_size': 2610336, 'creation_date': '2024-04-16', 'last_modified_date': '2024-04-16'}, excluded_embed_metadata_keys=['file_name', 'file_type', 'file_size', 'creation_date', 'last_modified_date', 'last_accessed_date'], excluded_llm_metadata_keys=['file_name', 'file_type', 'file_size', 'creation_date', 'last_modified_date', 'last_accessed_date'], relationships={<NodeRelationship.SOURCE: '1'>: RelatedNodeInfo(node_id='7773b13f-ef91-4096-9542-268c69011736', node_type=<ObjectType.DOCUMENT: '4'>, metadata={'page_label': '4', 'file_name': 'OriginOfCovid19.pdf', 'file_path': '/content/origin_of_covid_data/source_files/OriginOfCovid19.pdf', 'file_type': 'application/pdf', 'file_size': 2610336, 'creation_date': '2024-04-16', 'last_modified_date': '2024-04-16'}, hash='308959af8d7feb7806940f08d6b90503b5d70ada4d62e1cb1bb8593afe682cdc'), <NodeRelationship.PREVIOUS: '2'>: RelatedNodeInfo(node_id='fd234c4f-ba99-4410-85d4-ba32aac80466', node_type=<ObjectType.TEXT: '1'>, metadata={'page_label': '3', 'file_name': 'OriginOfCovid19.pdf', 'file_path': '/content/origin_of_covid_data/source_files/OriginOfCovid19.pdf', 'file_type': 'application/pdf', 'file_size': 2610336, 'creation_date': '2024-04-16', 'last_modified_date': '2024-04-16'}, hash='fa336a2c7a7ed1ac74a07874737f39a86751fb7b2d89bc304ada8ee6aad733fb'), <NodeRelationship.NEXT: '3'>: RelatedNodeInfo(node_id='cda95381-d663-445a-8cfc-4ca1b07c0d7a', node_type=<ObjectType.TEXT: '1'>, metadata={}, hash='9d6d2311f0cadebf127744e50d5744cec16d32d044335f1799148c6fbedc5c28')}, text='receptor-binding domain, which has af ﬁnity for cells of various\\nmammals, binds to human ACE2 receptors via a novel\\nmechanism.\\nEngineering such a virus would have required 1) published\\nor otherwise available scienti ﬁc knowledge that did not exist\\nuntil after COVID-19 recognition; 2) a failure to follow obviousengineering pathways, resulting in an imperfectly constructed\\nvirus; and 3) an ability to genetically engineer a new virus\\nwithout leaving ﬁngerprints of the engineering. Furthermore,\\nthe 12 amino acid furin-cleavage site insertion between theSARS-CoV-2 spike protein ’s S1 and S2 domains, which some\\nhave alleged to be a sign of genetic engineering, is found in\\nother bat and human coronaviruses in nature, probably arisingvia naturally occurring recombination.\\n24\\nIt is also highly unlikely that SARS-CoV-2 was released from\\na laboratory by accident because no laboratory had the virusnor did its genetic sequence exist in any sequence database\\nbefore its initial GenBank deposition (early January 2020).\\nChina ’s laboratory safety practices, policies, training, and\\nengineering are equivalent to those of the United States andother developed countries,\\n32making viral “escape ”extremely\\nunlikely, and of course impossible without a viral isolate pre-\\nsent. SARS-CoV-2 shares genetic properties with many othersarbecoviruses, lies fully within their genetic cluster, and is\\nthus a virus that emerged naturally.\\nCOVID-19 EMERGENCE MECHANISMS: WHY\\nTHEY MATTER\\nUnderstanding how COVID-19 emerged is of great importance.\\nWe now know that the viruses causing SARS, MERS, and COVID-\\n1 9a r ea l lm e m b e r so fe n o r m o u sg r o u p so fb a tc o r o n a v i r u s e sdistributed globally, and that many of these viruses are function-ally preadapted to human emergence. This preadaptation can be\\nthought of as “accidental ”because it must have occurred in na-\\nture in the absence of human infection and does not rule outfurther human adaptation to enable pandemicity.', start_char_idx=0, end_char_idx=1978, text_template='{metadata_str}\\n\\n{content}', metadata_template='{key}: {value}', metadata_seperator='\\n'), score=0.705759641414646),\n",
              " NodeWithScore(node=TextNode(id_='48c9de5d-97dd-49a9-8795-04bacd7b93a0', embedding=None, metadata={'page_label': '4', 'file_name': 'OriginOfCovid19.pdf', 'file_path': '/content/origin_of_covid_data/source_files/OriginOfCovid19.pdf', 'file_type': 'application/pdf', 'file_size': 2610336, 'creation_date': '2024-04-16', 'last_modified_date': '2024-04-16'}, excluded_embed_metadata_keys=['file_name', 'file_type', 'file_size', 'creation_date', 'last_modified_date', 'last_accessed_date'], excluded_llm_metadata_keys=['file_name', 'file_type', 'file_size', 'creation_date', 'last_modified_date', 'last_accessed_date'], relationships={<NodeRelationship.SOURCE: '1'>: RelatedNodeInfo(node_id='7773b13f-ef91-4096-9542-268c69011736', node_type=<ObjectType.DOCUMENT: '4'>, metadata={'page_label': '4', 'file_name': 'OriginOfCovid19.pdf', 'file_path': '/content/origin_of_covid_data/source_files/OriginOfCovid19.pdf', 'file_type': 'application/pdf', 'file_size': 2610336, 'creation_date': '2024-04-16', 'last_modified_date': '2024-04-16'}, hash='308959af8d7feb7806940f08d6b90503b5d70ada4d62e1cb1bb8593afe682cdc'), <NodeRelationship.PREVIOUS: '2'>: RelatedNodeInfo(node_id='cda95381-d663-445a-8cfc-4ca1b07c0d7a', node_type=<ObjectType.TEXT: '1'>, metadata={'page_label': '4', 'file_name': 'OriginOfCovid19.pdf', 'file_path': '/content/origin_of_covid_data/source_files/OriginOfCovid19.pdf', 'file_type': 'application/pdf', 'file_size': 2610336, 'creation_date': '2024-04-16', 'last_modified_date': '2024-04-16'}, hash='c02e6824b423afdf1280842dd85d29ddb3e2855fc405c148eefdf99953dc5d08'), <NodeRelationship.NEXT: '3'>: RelatedNodeInfo(node_id='198044cc-6b9f-49db-ab8a-ad6247b69770', node_type=<ObjectType.TEXT: '1'>, metadata={}, hash='65b662740fb806f811749c5e54bc29fbf6d7be5fb622f7e6757a412ca003583b')}, text='We are already seeing coronavirusmutants with altered af ﬁnity for human ACE2. Whether bat\\ncoronaviruses evolve independently or by “sampling ”various\\nmammalian ACE2 receptors, the result is the same. That batsarbecoviruses so easily switch between multiple hosts sug-\\ngests a many-pronged human risk: directly from bats and in-\\ndirectly from other mammals infected by bat viruses. Because wehave only just begun to sample, sequence, and study bat/\\nmammalian coronaviruses, we can be certain that what we now\\nknow is but the tip of a very large iceberg.\\nThe ﬁndings described earlier reaf ﬁrm what has long been\\nobvious: that future coronavirus transmissions into humans\\nare not only possible, but likely. Scientists knew this years ago\\nand raised appropriate alarm. Our prolonged deafness nowexacts a tragic price.\\nThe story of COVID-19 emergence sends a powerful mes-\\nsage. A quantum leap in bat coronavirus surveillance andresearch is urgently needed. This work must emphasize viro-\\nlogic and behavioral ﬁeld studies of humans and animals\\nwherever they interface, and especially in disease hotspots, aswell as virologic studies related to human and animal spillover\\nrisks and the means of reducing them.\\n35\\nImportant research that has languished, been underfunded, or\\ndiscontinued should be greatly expanded to deal with the ur-\\ngency of the situation, and more scientists, including scientists\\nworking in China and other hotspot countries (Figure 2), shouldbe recruited to these efforts, esp ecially in international research\\npartnerships. Full, open international collaboration involving\\nmany countries is essential. In particular, ﬁeld research on the\\nprevalence and virus-host relationships of coronaviruses, de-velopment of platform technologies for diagnostics, vaccines,\\nand animal models for studies of pathogenesis and potential\\ntherapeutics is essential to permit, for example, modelingstructure/function relationships of speci ﬁc binding domains from\\nnewly identi ﬁed agents to create critical tools for disease control.', start_char_idx=2516, end_char_idx=4550, text_template='{metadata_str}\\n\\n{content}', metadata_template='{key}: {value}', metadata_seperator='\\n'), score=0.7046479118682296),\n",
              " NodeWithScore(node=TextNode(id_='cda95381-d663-445a-8cfc-4ca1b07c0d7a', embedding=None, metadata={'page_label': '4', 'file_name': 'OriginOfCovid19.pdf', 'file_path': '/content/origin_of_covid_data/source_files/OriginOfCovid19.pdf', 'file_type': 'application/pdf', 'file_size': 2610336, 'creation_date': '2024-04-16', 'last_modified_date': '2024-04-16'}, excluded_embed_metadata_keys=['file_name', 'file_type', 'file_size', 'creation_date', 'last_modified_date', 'last_accessed_date'], excluded_llm_metadata_keys=['file_name', 'file_type', 'file_size', 'creation_date', 'last_modified_date', 'last_accessed_date'], relationships={<NodeRelationship.SOURCE: '1'>: RelatedNodeInfo(node_id='7773b13f-ef91-4096-9542-268c69011736', node_type=<ObjectType.DOCUMENT: '4'>, metadata={'page_label': '4', 'file_name': 'OriginOfCovid19.pdf', 'file_path': '/content/origin_of_covid_data/source_files/OriginOfCovid19.pdf', 'file_type': 'application/pdf', 'file_size': 2610336, 'creation_date': '2024-04-16', 'last_modified_date': '2024-04-16'}, hash='308959af8d7feb7806940f08d6b90503b5d70ada4d62e1cb1bb8593afe682cdc'), <NodeRelationship.PREVIOUS: '2'>: RelatedNodeInfo(node_id='778e9c0e-86c3-49d2-a21a-67ab9d3ba74c', node_type=<ObjectType.TEXT: '1'>, metadata={'page_label': '4', 'file_name': 'OriginOfCovid19.pdf', 'file_path': '/content/origin_of_covid_data/source_files/OriginOfCovid19.pdf', 'file_type': 'application/pdf', 'file_size': 2610336, 'creation_date': '2024-04-16', 'last_modified_date': '2024-04-16'}, hash='a7303d00b13d6abdafdeb5f6ab2103bf2267586e2d4da96776accf7118ba6991'), <NodeRelationship.NEXT: '3'>: RelatedNodeInfo(node_id='48c9de5d-97dd-49a9-8795-04bacd7b93a0', node_type=<ObjectType.TEXT: '1'>, metadata={}, hash='5747eedbc9710eba5aadf958be8f0bdb0027998a5ec1b13d964b17d7ab471dad')}, text='SARS-CoV-2 shares genetic properties with many othersarbecoviruses, lies fully within their genetic cluster, and is\\nthus a virus that emerged naturally.\\nCOVID-19 EMERGENCE MECHANISMS: WHY\\nTHEY MATTER\\nUnderstanding how COVID-19 emerged is of great importance.\\nWe now know that the viruses causing SARS, MERS, and COVID-\\n1 9a r ea l lm e m b e r so fe n o r m o u sg r o u p so fb a tc o r o n a v i r u s e sdistributed globally, and that many of these viruses are function-ally preadapted to human emergence. This preadaptation can be\\nthought of as “accidental ”because it must have occurred in na-\\nture in the absence of human infection and does not rule outfurther human adaptation to enable pandemicity. Molecular\\nmechanisms of preadaptation are not fully known, but are un-\\ndoubtedly related to functional similarities between ACE2 re-ceptors on the cells of numerous mammals (bats, humans, minks,\\ncats, and other domestic and wild animals).\\n33,34\\nThe ability of coronaviruses to ev olve at a high rate, illustrated\\nby extreme phylogenetic diversity, coupled with the dispersion of\\nnew viral variants within an enormous array of wild animal species\\nthat can serve as hosts, portends poorly for the future of coro-navirus disease emergence. We are already seeing coronavirusmutants with altered af ﬁnity for human ACE2. Whether bat\\ncoronaviruses evolve independently or by “sampling ”various\\nmammalian ACE2 receptors, the result is the same. That batsarbecoviruses so easily switch between multiple hosts sug-\\ngests a many-pronged human risk: directly from bats and in-\\ndirectly from other mammals infected by bat viruses. Because wehave only just begun to sample, sequence, and study bat/\\nmammalian coronaviruses, we can be certain that what we now\\nknow is but the tip of a very large iceberg.\\nThe ﬁndings described earlier reaf ﬁrm what has long been\\nobvious: that future coronavirus transmissions into humans\\nare not only possible, but likely.', start_char_idx=1272, end_char_idx=3221, text_template='{metadata_str}\\n\\n{content}', metadata_template='{key}: {value}', metadata_seperator='\\n'), score=0.7020283937330408),\n",
              " NodeWithScore(node=TextNode(id_='4fbfef0c-9ee0-42a8-a315-3bf2d20a01e0', embedding=None, metadata={'page_label': '5', 'file_name': 'OriginOfCovid19.pdf', 'file_path': '/content/origin_of_covid_data/source_files/OriginOfCovid19.pdf', 'file_type': 'application/pdf', 'file_size': 2610336, 'creation_date': '2024-04-16', 'last_modified_date': '2024-04-16'}, excluded_embed_metadata_keys=['file_name', 'file_type', 'file_size', 'creation_date', 'last_modified_date', 'last_accessed_date'], excluded_llm_metadata_keys=['file_name', 'file_type', 'file_size', 'creation_date', 'last_modified_date', 'last_accessed_date'], relationships={<NodeRelationship.SOURCE: '1'>: RelatedNodeInfo(node_id='03ed6386-7c05-4e25-b4a4-902743148e94', node_type=<ObjectType.DOCUMENT: '4'>, metadata={'page_label': '5', 'file_name': 'OriginOfCovid19.pdf', 'file_path': '/content/origin_of_covid_data/source_files/OriginOfCovid19.pdf', 'file_type': 'application/pdf', 'file_size': 2610336, 'creation_date': '2024-04-16', 'last_modified_date': '2024-04-16'}, hash='f71643efdc2b7c205ec6abbcd14c51363ce950fe1aef73e6b434491ee4f5c0d0'), <NodeRelationship.PREVIOUS: '2'>: RelatedNodeInfo(node_id='c5c01ddf-0abc-401f-af58-1cc2c1b84970', node_type=<ObjectType.TEXT: '1'>, metadata={'page_label': '5', 'file_name': 'OriginOfCovid19.pdf', 'file_path': '/content/origin_of_covid_data/source_files/OriginOfCovid19.pdf', 'file_type': 'application/pdf', 'file_size': 2610336, 'creation_date': '2024-04-16', 'last_modified_date': '2024-04-16'}, hash='2a984cab802753e5e4d83a163039d262be4c43e9fd8befe61b7bb65a0dee1e23'), <NodeRelationship.NEXT: '3'>: RelatedNodeInfo(node_id='5548768b-6797-40b2-9212-8c3dbfad8dea', node_type=<ObjectType.TEXT: '1'>, metadata={}, hash='ccf7d2c27e520a093f0ed0a197e38760a724b2576de2532e85d77b0dd2cddf69')}, text='9. Geoghegan JL, Holmes EC, 2018. Evolutionary virology at 40.\\nGenetics 210: 1151 –1162.\\n10. Morens DM, Taubenberger JK, 2011. Pandemic in ﬂuenza: certain\\nuncertainties. Rev Med Virol 21: 262–284.\\n11. Sun H et al., 2020. Prevalent Eurasian avian-like H1N1 swine\\ninﬂuenza virus with 2009 pandemic viral genes facilitating\\nhuman infection. Proc Natl Acad Sci U S A , doi: 10.1073/\\npnas.1921186117.\\n12. Corman VM, Muth D, Niemeyer D, Drosten C, 2018. Hosts and sources\\nof endemic human coronaviruses. A d vV i r u sR e s1 0 0 : 163–188.\\n13. Anthony SJ et al., 2017. Global patterns in coronavirus diversity.\\nVirus Evol 3: vex012.\\n14. Allen T, Murray KA, Zambtana-Torrelio C, Morse SS, Rondinini C,\\nMarco MD, Breit N, Olival NJ, Daszak P, 2017. Global hotspots and\\ncorrelates of emerging zoonotic diseases. Nat Comm 8: 1124.\\n15. Huong NQ et al., 2020. Coronavirus testing indicates trans-\\nmission risk along wildlife supply chains for human con-\\nsumption in Viet Nam, 2013 –2014. bioRxiv, doi: 10.1101/\\n2020.06.05.098590.\\n16. Li H et al., 2019. Human-animal interactions and bat coronavirus\\nspillover potential among rural residents in Southern China.\\nBiosaf Health 1: 84–90.\\n17. Monagin C et al., 2018. Serologic and behavioral risk survey of\\nworkers with wildlife contact in China.\\nPLoS One 13: e0194647.\\n18.', start_char_idx=3957, end_char_idx=5263, text_template='{metadata_str}\\n\\n{content}', metadata_template='{key}: {value}', metadata_seperator='\\n'), score=0.7009273846736579)]"
            ]
          },
          "metadata": {},
          "execution_count": 27
        }
      ],
      "source": [
        "resp = vector_retriever.retrieve(\n",
        "    'What did Apple report as its net cash from operating activities in the Q3 2022 10-Q?'\n",
        ")\n",
        "\n",
        "resp"
      ]
    },
    {
      "cell_type": "code",
      "execution_count": 28,
      "metadata": {
        "colab": {
          "base_uri": "https://localhost:8080/"
        },
        "id": "irr9r0-Ra8c9",
        "outputId": "ae8cb3ea-0003-47e0-b998-68ccc89f9fb6"
      },
      "outputs": [
        {
          "output_type": "execute_result",
          "data": {
            "text/plain": [
              "10"
            ]
          },
          "metadata": {},
          "execution_count": 28
        }
      ],
      "source": [
        "len(resp)"
      ]
    },
    {
      "cell_type": "code",
      "execution_count": null,
      "metadata": {
        "id": "M1bMgNbnb-26"
      },
      "outputs": [],
      "source": [
        "# dir(resp[0])"
      ]
    },
    {
      "cell_type": "code",
      "execution_count": 29,
      "metadata": {
        "id": "z5gbSUeXa-nY",
        "outputId": "4b3ef01f-3652-4906-e913-7a3a709b360e",
        "colab": {
          "base_uri": "https://localhost:8080/"
        }
      },
      "outputs": [
        {
          "output_type": "stream",
          "name": "stdout",
          "text": [
            "Am. J. Trop. Med. Hyg. , 103(3), 2020, pp.\n"
          ]
        }
      ],
      "source": [
        "print(resp[0].to_dict()['node']['text'])"
      ]
    },
    {
      "cell_type": "markdown",
      "metadata": {
        "id": "DJ3YNrjqF3-J"
      },
      "source": [
        "##### Prompt Inspection and Engineering"
      ]
    },
    {
      "cell_type": "code",
      "execution_count": 30,
      "metadata": {
        "colab": {
          "base_uri": "https://localhost:8080/",
          "height": 235
        },
        "id": "fRlLtzhIF3A5",
        "outputId": "6a023565-b0f4-437a-e393-812aaf9933b2"
      },
      "outputs": [
        {
          "output_type": "display_data",
          "data": {
            "text/plain": [
              "<IPython.core.display.Markdown object>"
            ],
            "text/markdown": "**Prompt Key**: response_synthesizer:text_qa_template<br>**Text:** <br>"
          },
          "metadata": {}
        },
        {
          "output_type": "stream",
          "name": "stdout",
          "text": [
            "Context information is below.\n",
            "---------------------\n",
            "{context_str}\n",
            "---------------------\n",
            "Given the context information and not prior knowledge, answer the query.\n",
            "Query: {query_str}\n",
            "Answer: \n"
          ]
        },
        {
          "output_type": "display_data",
          "data": {
            "text/plain": [
              "<IPython.core.display.Markdown object>"
            ],
            "text/markdown": "<br><br>"
          },
          "metadata": {}
        }
      ],
      "source": [
        "display_prompt_dict(vector_query_engine.get_prompts())"
      ]
    },
    {
      "cell_type": "markdown",
      "metadata": {
        "id": "xnarsx5fA6aS"
      },
      "source": [
        "## Comparing Graph RAG to Plain RAG"
      ]
    },
    {
      "cell_type": "code",
      "execution_count": 31,
      "metadata": {
        "id": "eV5um9xrjoww",
        "outputId": "041dc39c-d14d-4dbb-8e5d-e5ad4c26313b",
        "colab": {
          "base_uri": "https://localhost:8080/"
        }
      },
      "outputs": [
        {
          "output_type": "stream",
          "name": "stdout",
          "text": [
            "Query:\n",
            " What is the origin of the COVID virus?\n"
          ]
        }
      ],
      "source": [
        "rag_query = [\n",
        "    'What is the origin of the COVID virus?'    # graph RAG better\n",
        "\n",
        "    # -- both plain RAG and graph RAG do well for many queries\n",
        "    #'What do we know about the Sars-cov-2 virus?',\n",
        "    #'Tell me about Sarbecoviruses',\n",
        "    #'What do we know about Animal-to-human host-switching in Sars-cov-2?',\n",
        "    #'Which national institutes and committees were mentioned in the text?'\n",
        "\n",
        "    # -- plain RAG does better for some queries with one concise topic\n",
        "    #'What is the connection between bats and pangolins in COVID research?'\n",
        "    #'Which universities were involved in Sars-cov-2 research?'\n",
        "    #'Who is Jeffery Taubenberger?'\n",
        "\n",
        "    #'Tell me about some members of the Department of medicine.'\n",
        "    #'How are Beatrice h. hahn and Gerald t. keusch related to each other?'\n",
        "\n",
        "    # -- graph RAG does better with connecting loosely related topics\n",
        "    #'Who are some authors named in this text?'\n",
        "    #'How are Beatrice Hahn and Gerald Keusch related to each other?'  # graph RAG better\n",
        "    #'How are David Morens and Joel Breman related to each other?'  # plain RAG slightly better\n",
        "    #'How are Joel Breman and Charles Calisher related?'  # graph RAG better\n",
        "\n",
        "    # -- MISC\n",
        "    #'Which of these people worked together: David M. Morens, Joel G. Breman, Charles H. Calisher, Peter C. Doherty, Beatrice H. Hahn, Gerald T. Keusch, Laura D. Kramer, James W. LeDuc, Thomas P. Monath, and Jeffery K. Taubenberger?'\n",
        "    #'Which university Departments of Medicine are mentioned in the text?'\n",
        "    #'Tell me about some members of university departments of medicine.'\n",
        "\n",
        "][0]\n",
        "\n",
        "print('Query:\\n', rag_query)\n"
      ]
    },
    {
      "cell_type": "markdown",
      "metadata": {
        "id": "aVBMs3yqjoww"
      },
      "source": [
        "### Graph RAG"
      ]
    },
    {
      "cell_type": "code",
      "execution_count": 32,
      "metadata": {
        "colab": {
          "base_uri": "https://localhost:8080/",
          "height": 206
        },
        "id": "xKjlnMBuBIMR",
        "outputId": "128a30a0-bad8-4f3c-bc2d-18cf25952987"
      },
      "outputs": [
        {
          "output_type": "stream",
          "name": "stdout",
          "text": [
            "\u001b[1;3;32mExtracted keywords: ['origin', 'COVID', 'virus', 'COVID virus']\n",
            "\u001b[0m\u001b[1;3;34mKG context:\n",
            "The following are knowledge sequence in max depth 3 in the form of directed graph like:\n",
            "`subject -[predicate]->, object, <-[predicate_next_hop]-, object_next_hop ...`\n",
            "('Theories', 'About', 'Hypothetical man-made origin of sars-cov-2')\n",
            "('Bat-origin coronavirus', 'Emerged in', 'China')\n",
            "\u001b[0m"
          ]
        },
        {
          "output_type": "display_data",
          "data": {
            "text/plain": [
              "<IPython.core.display.Markdown object>"
            ],
            "text/markdown": "<b>The COVID-19 virus, also known as SARS-CoV-2, is believed to have originated from bats. It emerged as a natural event associated with either direct transmission of a bat coronavirus to humans or indirect transmission to humans via an intermediate host such as a Malaysian pangolin or another, yet-to-be-identified mammal. Theories about a hypothetical man-made origin of SARS-CoV-2 have been thoroughly discredited by multiple coronavirus experts.</b>"
          },
          "metadata": {}
        }
      ],
      "source": [
        "# graph RAG\n",
        "response = graph_query_engine.query(rag_query)\n",
        "\n",
        "display(Markdown(f\"<b>{response}</b>\"))"
      ]
    },
    {
      "cell_type": "markdown",
      "metadata": {
        "id": "Ta_fZEJZjoww"
      },
      "source": [
        "### Plain RAG"
      ]
    },
    {
      "cell_type": "code",
      "execution_count": 33,
      "metadata": {
        "colab": {
          "base_uri": "https://localhost:8080/",
          "height": 64
        },
        "id": "fWpaRMu9A-2y",
        "outputId": "085bb15b-6ce7-45ce-8bbf-f877b9191a3b"
      },
      "outputs": [
        {
          "output_type": "display_data",
          "data": {
            "text/plain": [
              "<IPython.core.display.Markdown object>"
            ],
            "text/markdown": "<b>The COVID-19 virus, also known as SARS-CoV-2, evolved directly or indirectly from a β-coronavirus in the sarbecovirus (SARS-like virus) group that naturally infect bats and pangolins in Asia and Southeast Asia. The specific mechanism of its emergence in humans remains unknown.</b>"
          },
          "metadata": {}
        }
      ],
      "source": [
        "# plain RAG\n",
        "response = vector_query_engine.query(rag_query)\n",
        "\n",
        "display(Markdown(f\"<b>{response}</b>\"))"
      ]
    },
    {
      "cell_type": "code",
      "source": [],
      "metadata": {
        "id": "PM_vpA710jS9"
      },
      "execution_count": null,
      "outputs": []
    }
  ],
  "metadata": {
    "colab": {
      "provenance": [],
      "include_colab_link": true
    },
    "kernelspec": {
      "display_name": "Python 3 (ipykernel)",
      "language": "python",
      "name": "python3"
    },
    "language_info": {
      "codemirror_mode": {
        "name": "ipython",
        "version": 3
      },
      "file_extension": ".py",
      "mimetype": "text/x-python",
      "name": "python",
      "nbconvert_exporter": "python",
      "pygments_lexer": "ipython3",
      "version": "3.10.12"
    }
  },
  "nbformat": 4,
  "nbformat_minor": 0
}